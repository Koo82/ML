{
  "nbformat": 4,
  "nbformat_minor": 0,
  "metadata": {
    "kernelspec": {
      "display_name": "Python 3",
      "language": "python",
      "name": "python3"
    },
    "language_info": {
      "codemirror_mode": {
        "name": "ipython",
        "version": 3
      },
      "file_extension": ".py",
      "mimetype": "text/x-python",
      "name": "python",
      "nbconvert_exporter": "python",
      "pygments_lexer": "ipython3",
      "version": "3.7.6"
    },
    "toc": {
      "base_numbering": 1,
      "nav_menu": {},
      "number_sections": false,
      "sideBar": true,
      "skip_h1_title": false,
      "title_cell": "Table of Contents",
      "title_sidebar": "Contents",
      "toc_cell": false,
      "toc_position": {
        "height": "calc(100% - 180px)",
        "left": "10px",
        "top": "150px",
        "width": "270px"
      },
      "toc_section_display": true,
      "toc_window_display": false
    },
    "colab": {
      "name": "h_14_분류순위평가.ipynb",
      "provenance": []
    }
  },
  "cells": [
    {
      "cell_type": "markdown",
      "metadata": {
        "id": "utaoEdlpV4I7"
      },
      "source": [
        "# 분류 순위 평가\n",
        "- 컨퓨전 매트릭스 기반으로 한 분류의 기본적인 성능평가 지표\n",
        " - 정확도, 정밀도, 리콜, f-1 점수 등\n",
        "- 분류 모델의 종합적인 성능 평가를 하기 위해서는 순위(랭킹)을 평가해야 한다\n",
        " - 이를 위해서 ROC-AUC, precision-recall curve, mAP 등을 사용한다\n",
        " - 최적의 분류 경계값(기준값: threshold) 설정이 필요하다"
      ]
    },
    {
      "cell_type": "code",
      "metadata": {
        "id": "yaZJGxINV4JF"
      },
      "source": [
        "import numpy as np\n",
        "import pandas as pd\n",
        "import matplotlib.pyplot as plt\n",
        "%matplotlib inline\n",
        "%config InlineBackend.figure_format = 'retina'"
      ],
      "execution_count": 18,
      "outputs": []
    },
    {
      "cell_type": "markdown",
      "metadata": {
        "id": "yNK2PgV4V4JH"
      },
      "source": [
        "# 10명의 환자 검진 예"
      ]
    },
    {
      "cell_type": "code",
      "metadata": {
        "id": "voYo7CBlV4JH",
        "outputId": "1cc385fd-e99b-4b0f-fbcf-3d2a31397c21",
        "colab": {
          "base_uri": "https://localhost:8080/",
          "height": 359
        }
      },
      "source": [
        "# 검진 점수를 랜덤하게 배정 (점수가 클수록 암 발생일 가능성이 높다고 가정)\n",
        "np.random.seed(19)\n",
        "raw_scores = np.random.randint(30,99,10)\n",
        "\n",
        "# 환자 명단(id)과 점수\n",
        "df = pd.DataFrame({\"점수\":raw_scores})\n",
        "df = df.sort_values(['점수'], ascending=False)\n",
        "\n",
        "# 상위 4명을 암으로 예측\n",
        "threshold =  65\n",
        "pred_cancer = df[\"점수\"] > threshold\n",
        "\n",
        "# 진단 컬럼을 추가 (불리언을 숫자로 변환)\n",
        "df[\"진단\"] = pred_cancer.astype(int)\n",
        "df['실제암발생'] = np.array([1,1,0,1,0,1,1,0,0,0])\n",
        "df"
      ],
      "execution_count": 19,
      "outputs": [
        {
          "output_type": "execute_result",
          "data": {
            "text/html": [
              "<div>\n",
              "<style scoped>\n",
              "    .dataframe tbody tr th:only-of-type {\n",
              "        vertical-align: middle;\n",
              "    }\n",
              "\n",
              "    .dataframe tbody tr th {\n",
              "        vertical-align: top;\n",
              "    }\n",
              "\n",
              "    .dataframe thead th {\n",
              "        text-align: right;\n",
              "    }\n",
              "</style>\n",
              "<table border=\"1\" class=\"dataframe\">\n",
              "  <thead>\n",
              "    <tr style=\"text-align: right;\">\n",
              "      <th></th>\n",
              "      <th>점수</th>\n",
              "      <th>진단</th>\n",
              "      <th>실제암발생</th>\n",
              "    </tr>\n",
              "  </thead>\n",
              "  <tbody>\n",
              "    <tr>\n",
              "      <th>4</th>\n",
              "      <td>96</td>\n",
              "      <td>1</td>\n",
              "      <td>1</td>\n",
              "    </tr>\n",
              "    <tr>\n",
              "      <th>5</th>\n",
              "      <td>86</td>\n",
              "      <td>1</td>\n",
              "      <td>1</td>\n",
              "    </tr>\n",
              "    <tr>\n",
              "      <th>2</th>\n",
              "      <td>82</td>\n",
              "      <td>1</td>\n",
              "      <td>0</td>\n",
              "    </tr>\n",
              "    <tr>\n",
              "      <th>0</th>\n",
              "      <td>70</td>\n",
              "      <td>1</td>\n",
              "      <td>1</td>\n",
              "    </tr>\n",
              "    <tr>\n",
              "      <th>7</th>\n",
              "      <td>64</td>\n",
              "      <td>0</td>\n",
              "      <td>0</td>\n",
              "    </tr>\n",
              "    <tr>\n",
              "      <th>3</th>\n",
              "      <td>61</td>\n",
              "      <td>0</td>\n",
              "      <td>1</td>\n",
              "    </tr>\n",
              "    <tr>\n",
              "      <th>6</th>\n",
              "      <td>52</td>\n",
              "      <td>0</td>\n",
              "      <td>1</td>\n",
              "    </tr>\n",
              "    <tr>\n",
              "      <th>1</th>\n",
              "      <td>49</td>\n",
              "      <td>0</td>\n",
              "      <td>0</td>\n",
              "    </tr>\n",
              "    <tr>\n",
              "      <th>9</th>\n",
              "      <td>40</td>\n",
              "      <td>0</td>\n",
              "      <td>0</td>\n",
              "    </tr>\n",
              "    <tr>\n",
              "      <th>8</th>\n",
              "      <td>35</td>\n",
              "      <td>0</td>\n",
              "      <td>0</td>\n",
              "    </tr>\n",
              "  </tbody>\n",
              "</table>\n",
              "</div>"
            ],
            "text/plain": [
              "   점수  진단  실제암발생\n",
              "4  96   1      1\n",
              "5  86   1      1\n",
              "2  82   1      0\n",
              "0  70   1      1\n",
              "7  64   0      0\n",
              "3  61   0      1\n",
              "6  52   0      1\n",
              "1  49   0      0\n",
              "9  40   0      0\n",
              "8  35   0      0"
            ]
          },
          "metadata": {
            "tags": []
          },
          "execution_count": 19
        }
      ]
    },
    {
      "cell_type": "markdown",
      "metadata": {
        "id": "FyO0THwjV4JJ"
      },
      "source": [
        "## 컨퓨전 매트릭스와 기본 성능 평가"
      ]
    },
    {
      "cell_type": "code",
      "metadata": {
        "id": "CVS8lhT2V4JJ",
        "outputId": "b5fd7ada-bf49-43c0-8e61-e60148922ff6",
        "colab": {
          "base_uri": "https://localhost:8080/"
        }
      },
      "source": [
        "y_pred = df['진단']\n",
        "y_test = df['실제암발생']\n",
        "\n",
        "from sklearn.metrics import confusion_matrix, classification_report, roc_curve, auc\n",
        "print(confusion_matrix(y_test, y_pred))\n",
        "print(classification_report(y_test, y_pred))"
      ],
      "execution_count": 20,
      "outputs": [
        {
          "output_type": "stream",
          "text": [
            "[[4 1]\n",
            " [2 3]]\n",
            "              precision    recall  f1-score   support\n",
            "\n",
            "           0       0.67      0.80      0.73         5\n",
            "           1       0.75      0.60      0.67         5\n",
            "\n",
            "    accuracy                           0.70        10\n",
            "   macro avg       0.71      0.70      0.70        10\n",
            "weighted avg       0.71      0.70      0.70        10\n",
            "\n"
          ],
          "name": "stdout"
        }
      ]
    },
    {
      "cell_type": "markdown",
      "metadata": {
        "id": "-otZMWFcV4JK"
      },
      "source": [
        "## 다른 분류 경계치(threshold)를 선택한 경우\n",
        "- 분류 경계치 65점을 변경해본다\n",
        "- 상위 1, 2, 3, 4, 5,... 명을 각각 암 환자라고 진단한 경우 성능 지표가 달라진다"
      ]
    },
    {
      "cell_type": "code",
      "metadata": {
        "scrolled": true,
        "id": "fQO1r0UAV4JK",
        "outputId": "6c1681a8-f71f-4fce-b9b5-4b171cbfa1f8",
        "colab": {
          "base_uri": "https://localhost:8080/"
        }
      },
      "source": [
        "# 상위 1명을 암이라고 예측한 경우\n",
        "y_pred = [1,0,0,0,0,0,0,0,0,0]\n",
        "print(confusion_matrix(y_test, y_pred))\n",
        "print(classification_report(y_test, y_pred))"
      ],
      "execution_count": 21,
      "outputs": [
        {
          "output_type": "stream",
          "text": [
            "[[5 0]\n",
            " [4 1]]\n",
            "              precision    recall  f1-score   support\n",
            "\n",
            "           0       0.56      1.00      0.71         5\n",
            "           1       1.00      0.20      0.33         5\n",
            "\n",
            "    accuracy                           0.60        10\n",
            "   macro avg       0.78      0.60      0.52        10\n",
            "weighted avg       0.78      0.60      0.52        10\n",
            "\n"
          ],
          "name": "stdout"
        }
      ]
    },
    {
      "cell_type": "code",
      "metadata": {
        "id": "FA6ksrQlV4JL",
        "outputId": "557481cb-71d3-448e-f3e3-272ea79ac7b5",
        "colab": {
          "base_uri": "https://localhost:8080/"
        }
      },
      "source": [
        "# 상위 2명을 암이라고 예측한 경우\n",
        "y_pred = [1,1,0,0,0,0,0,0,0,0]\n",
        "print(confusion_matrix(y_test, y_pred))\n",
        "print(classification_report(y_test, y_pred))"
      ],
      "execution_count": 22,
      "outputs": [
        {
          "output_type": "stream",
          "text": [
            "[[5 0]\n",
            " [3 2]]\n",
            "              precision    recall  f1-score   support\n",
            "\n",
            "           0       0.62      1.00      0.77         5\n",
            "           1       1.00      0.40      0.57         5\n",
            "\n",
            "    accuracy                           0.70        10\n",
            "   macro avg       0.81      0.70      0.67        10\n",
            "weighted avg       0.81      0.70      0.67        10\n",
            "\n"
          ],
          "name": "stdout"
        }
      ]
    },
    {
      "cell_type": "code",
      "metadata": {
        "id": "_CeqAaHFV4JL",
        "outputId": "89c6cf46-6668-42d0-e31b-e58c3fcd0b90",
        "colab": {
          "base_uri": "https://localhost:8080/"
        }
      },
      "source": [
        "# 상위 3명을 암이라고 예측한 경우\n",
        "y_pred = [1,1,1,0,0,0,0,0,0,0]\n",
        "print(confusion_matrix(y_test, y_pred))\n",
        "print(classification_report(y_test, y_pred))"
      ],
      "execution_count": 23,
      "outputs": [
        {
          "output_type": "stream",
          "text": [
            "[[4 1]\n",
            " [3 2]]\n",
            "              precision    recall  f1-score   support\n",
            "\n",
            "           0       0.57      0.80      0.67         5\n",
            "           1       0.67      0.40      0.50         5\n",
            "\n",
            "    accuracy                           0.60        10\n",
            "   macro avg       0.62      0.60      0.58        10\n",
            "weighted avg       0.62      0.60      0.58        10\n",
            "\n"
          ],
          "name": "stdout"
        }
      ]
    },
    {
      "cell_type": "code",
      "metadata": {
        "id": "3IbTg8gyV4JM",
        "outputId": "904aa769-653b-4330-db96-f99a2bcad206",
        "colab": {
          "base_uri": "https://localhost:8080/"
        }
      },
      "source": [
        "# 상위 5명을 암이라고 예측한 경우\n",
        "y_pred = [1,1,1,1,1,0,0,0,0,0]\n",
        "print(confusion_matrix(y_test, y_pred))\n",
        "print(classification_report(y_test, y_pred))"
      ],
      "execution_count": 24,
      "outputs": [
        {
          "output_type": "stream",
          "text": [
            "[[3 2]\n",
            " [2 3]]\n",
            "              precision    recall  f1-score   support\n",
            "\n",
            "           0       0.60      0.60      0.60         5\n",
            "           1       0.60      0.60      0.60         5\n",
            "\n",
            "    accuracy                           0.60        10\n",
            "   macro avg       0.60      0.60      0.60        10\n",
            "weighted avg       0.60      0.60      0.60        10\n",
            "\n"
          ],
          "name": "stdout"
        }
      ]
    },
    {
      "cell_type": "code",
      "metadata": {
        "id": "jXNcMMd9V4JM",
        "outputId": "99daed0f-ae8d-4998-8c1c-cd5c76670790",
        "colab": {
          "base_uri": "https://localhost:8080/"
        }
      },
      "source": [
        "# 상위 6명을 암이라고 예측한 경우\n",
        "y_pred = [1,1,1,1,1,1,0,0,0,0]\n",
        "print(confusion_matrix(y_test, y_pred))\n",
        "print(classification_report(y_test, y_pred))"
      ],
      "execution_count": 25,
      "outputs": [
        {
          "output_type": "stream",
          "text": [
            "[[3 2]\n",
            " [1 4]]\n",
            "              precision    recall  f1-score   support\n",
            "\n",
            "           0       0.75      0.60      0.67         5\n",
            "           1       0.67      0.80      0.73         5\n",
            "\n",
            "    accuracy                           0.70        10\n",
            "   macro avg       0.71      0.70      0.70        10\n",
            "weighted avg       0.71      0.70      0.70        10\n",
            "\n"
          ],
          "name": "stdout"
        }
      ]
    },
    {
      "cell_type": "code",
      "metadata": {
        "id": "y_yro8BcV4JN",
        "outputId": "7e9f5fa0-e2c4-4289-c290-4f59a1dfec3b",
        "colab": {
          "base_uri": "https://localhost:8080/"
        }
      },
      "source": [
        "# 상위 7명을 암이라고 예측한 경우\n",
        "y_pred = [1,1,1,1,1,1,1,0,0,0]\n",
        "print(confusion_matrix(y_test, y_pred))\n",
        "print(classification_report(y_test, y_pred))"
      ],
      "execution_count": 26,
      "outputs": [
        {
          "output_type": "stream",
          "text": [
            "[[3 2]\n",
            " [0 5]]\n",
            "              precision    recall  f1-score   support\n",
            "\n",
            "           0       1.00      0.60      0.75         5\n",
            "           1       0.71      1.00      0.83         5\n",
            "\n",
            "    accuracy                           0.80        10\n",
            "   macro avg       0.86      0.80      0.79        10\n",
            "weighted avg       0.86      0.80      0.79        10\n",
            "\n"
          ],
          "name": "stdout"
        }
      ]
    },
    {
      "cell_type": "markdown",
      "metadata": {
        "id": "GJ4GMZ1KV4JN"
      },
      "source": [
        "### 검토\n",
        "- 분류 결정 경계치(threshold)를 다른 값으로 택하면 정확도, 정밀도, 리콜 등의 기본 성능 척도가 달라진다\n",
        "- 즉, 모델의 실제적인 분류 능력에는 변함 없으면서, 성능을 다른 값으로 선택할 수 있다\n",
        "- 분류 경계치를 낮게 정할수록 리콜은 증가하지만, 정밀도는 나빠진다. 반대로 분류 경계치를 높게 정할수록 정밀도는 증가하지만 리콜은 나빠진다"
      ]
    },
    {
      "cell_type": "markdown",
      "metadata": {
        "id": "KKqY8wRkV4JO"
      },
      "source": [
        "## 분류 순위 평가 방법\n",
        "### ROC 커브\n",
        "\n",
        "- 경계치를 한 샘플씩 낮추면서 positive 예측이 맞는지, 틀리는지를 2차원 평면에 그린 것을 ROC(Response of Characteristic) 커브라고 한다\n",
        "\n",
        "- (0,0) 점에서 시작하여, 점수순으로 소팅한 테이블의 y_test 값을 하나씩 따라 내려오면서 positive를 맞추면 위로, 틀리면 우로 한 칸씩 이동하여 최종 (1,1) 지점에 도착한다\n",
        " - TRP: True Positive Rate\n",
        " - FPR: False Positive Rate\n",
        "- 위로 올라갈 횟수는 전체 샘플수중에 positive 샘플수이고, 우로 이동할 횟수는 negative 샘플수이다\n",
        " \n",
        "<img src=\"https://raw.githubusercontent.com/data-labs/image/main/%E1%84%89%E1%85%B3%E1%84%8F%E1%85%B3%E1%84%85%E1%85%B5%E1%86%AB%E1%84%89%E1%85%A3%E1%86%BA%202021-01-03%20%E1%84%8B%E1%85%A9%E1%84%92%E1%85%AE%209.15.05.png?raw=1\" width=330 align='left'>"
      ]
    },
    {
      "cell_type": "markdown",
      "metadata": {
        "id": "GLgRAu1SV4JO"
      },
      "source": [
        "- 분류 모델의 순위를 맞추는 능력을 평가하면 모델의 전체적인 성능을 한번에 파악할 수 있다\n",
        "- 정확도, 정밀도, 리콜 등은 분류 경계치를 얼마로 정하는가에 따라서 수시로 달라질 수 있는 값이다. 즉 선택의 문제이다"
      ]
    },
    {
      "cell_type": "markdown",
      "metadata": {
        "id": "5iyMqB6xV4JP"
      },
      "source": [
        "###  AUC\n",
        "- ROC 평가 결과를 간단히 하나의 숫자로 표현하기 위해서 ROC 커브의 면적을 사용한다\n",
        "- 이를 AUC (Area Under Curve)라고 하며 0~1 사이의 값을 갖는다"
      ]
    },
    {
      "cell_type": "markdown",
      "metadata": {
        "id": "voCQFRlYV4JP"
      },
      "source": [
        "## 랭킹 평가를 하려면 점수가 필요하다\n",
        "- 분류 예측에서 순위를 평가하려면 (즉, 예측치를 소팅하려면) 분류 결과가 특정 클래스에 속할 가능성을 나타내는 점수 또는 확률값이 필요하다\n",
        "- (참고) 선형 계열 분류 모델은 분류 점수를 제공하고 결정 트리, 로지스틱 회귀, 신경망 계열 모델은 분류 확률을 제공한다"
      ]
    },
    {
      "cell_type": "markdown",
      "metadata": {
        "id": "BxWZr-BpV4JP"
      },
      "source": [
        "### 10명 환자 분류의 ROC 커브\n",
        "- 환자 10명을 점수순으로 소팅한 결과와 실제 암환자 사실 정보 (y_test)를 이용하여 ROC 커브를 그린다\n",
        "- roc_curve 함수를 사용한다"
      ]
    },
    {
      "cell_type": "code",
      "metadata": {
        "scrolled": true,
        "id": "H4PDGttXV4JQ",
        "outputId": "1adaccf6-45ce-404c-87ba-74c45f0d54e8",
        "colab": {
          "base_uri": "https://localhost:8080/"
        }
      },
      "source": [
        "# 10명 환자의 암환자일 점수 (인덱스 번호로 환자를 구분한다)\n",
        "scores_10 = df['점수']\n",
        "scores_10"
      ],
      "execution_count": 27,
      "outputs": [
        {
          "output_type": "execute_result",
          "data": {
            "text/plain": [
              "4    96\n",
              "5    86\n",
              "2    82\n",
              "0    70\n",
              "7    64\n",
              "3    61\n",
              "6    52\n",
              "1    49\n",
              "9    40\n",
              "8    35\n",
              "Name: 점수, dtype: int64"
            ]
          },
          "metadata": {
            "tags": []
          },
          "execution_count": 27
        }
      ]
    },
    {
      "cell_type": "markdown",
      "metadata": {
        "id": "I-gRhshMV4JQ"
      },
      "source": [
        "### ROC 커브 그리기"
      ]
    },
    {
      "cell_type": "code",
      "metadata": {
        "colab": {
          "base_uri": "https://localhost:8080/",
          "height": 421
        },
        "id": "CfvL7A3M4HlT",
        "outputId": "7469280a-b4b0-49ea-9ef0-60ed24bc16a5"
      },
      "source": [
        "# ROC 커브를 그리기 위해서 roc_curve 함수를 사용한다\n",
        "fpr, tpr, thresholdr = roc_curve(y_test, scores_10)\n",
        "\n",
        "# AUC 계산하기\n",
        "roc_auc = auc(fpr, tpr)\n",
        "\n",
        "plt.figure(figsize=(6,6))\n",
        "plt.plot(fpr, tpr, label='ROC curve area (AUC) = %0.2f)' % roc_auc)\n",
        "plt.plot([0, 1], [0, 1], linestyle='--')\n",
        "plt.xlabel('False Positive Rate')\n",
        "plt.ylabel('True Positive Rate')\n",
        "plt.title('ROC')\n",
        "plt.legend(loc=\"lower right\")"
      ],
      "execution_count": 28,
      "outputs": [
        {
          "output_type": "execute_result",
          "data": {
            "text/plain": [
              "<matplotlib.legend.Legend at 0x7f8cb9f50850>"
            ]
          },
          "metadata": {
            "tags": []
          },
          "execution_count": 28
        },
        {
          "output_type": "display_data",
          "data": {
            "image/png": "[encoded data removed]",
            "text/plain": [
              "<Figure size 432x432 with 1 Axes>"
            ]
          },
          "metadata": {
            "tags": [],
            "image/png": {
              "width": 385,
              "height": 386
            },
            "needs_background": "light"
          }
        }
      ]
    },
    {
      "cell_type": "code",
      "metadata": {
        "id": "kxGoVHCccZ3C",
        "outputId": "d30895f5-c0a8-4211-c571-820c977d6d1b",
        "colab": {
          "base_uri": "https://localhost:8080/"
        }
      },
      "source": [
        "y_test\n",
        "fpr, tpr, thresholdr"
      ],
      "execution_count": 29,
      "outputs": [
        {
          "output_type": "execute_result",
          "data": {
            "text/plain": [
              "(array([0. , 0. , 0. , 0.2, 0.2, 0.4, 0.4, 1. ]),\n",
              " array([0. , 0.2, 0.4, 0.4, 0.6, 0.6, 1. , 1. ]),\n",
              " array([97, 96, 86, 82, 70, 64, 52, 35]))"
            ]
          },
          "metadata": {
            "tags": []
          },
          "execution_count": 29
        }
      ]
    },
    {
      "cell_type": "markdown",
      "metadata": {
        "id": "BSImiWQMV4JS"
      },
      "source": [
        "- ROC 커브는 예측 점수순으로 소팅한 y_test 값, [1,1,0,1,0,1,1,0,0,0]의 [1,0] 순서만 알면 그릴 수 있다"
      ]
    },
    {
      "cell_type": "markdown",
      "metadata": {
        "id": "PG_yXmLAirwK"
      },
      "source": [
        "## ROC 성능 비교 예"
      ]
    },
    {
      "cell_type": "code",
      "metadata": {
        "colab": {
          "base_uri": "https://localhost:8080/",
          "height": 374
        },
        "id": "ySaKrAM4iaHb",
        "scrolled": true,
        "outputId": "89767b68-8334-4c46-c67a-c1f58bda2a2e"
      },
      "source": [
        "# 3명의 의사 실력을 비교\n",
        "# 3명의 의사가 진단한 점수순으로 소팅했을 때 각각 실제 암환자를 찾아낸 순서가 아래와 같은 경우를 비교\n",
        "# y_test의 앞쪽에서 (초반에) 암환자를 찾을수록 훌륭한 의사임\n",
        "\n",
        "y_test = [[1,0,0,1,1,1,0,1,0,0],\n",
        "         [1,1,0,1,0,1,0,0,0,0],\n",
        "         [1,1,1,1,0,1,0,0,0,0]]\n",
        "\n",
        "plt.figure(figsize=(6,6))    \n",
        "plt.plot([0, 1], [0, 1], linestyle='--')\n",
        "\n",
        "my_color = ['r', 'k', 'b']\n",
        "for i in range(len(y_test)):\n",
        "    fpr, tpr, _ = roc_curve(y_test[i], scores_10)\n",
        "    roc_auc = auc(fpr, tpr)\n",
        "    plt.plot(fpr, tpr, c=my_color[i])"
      ],
      "execution_count": 30,
      "outputs": [
        {
          "output_type": "display_data",
          "data": {
            "image/png": "[encoded data removed]",
            "text/plain": [
              "<Figure size 432x432 with 1 Axes>"
            ]
          },
          "metadata": {
            "tags": [],
            "image/png": {
              "width": 372,
              "height": 357
            },
            "needs_background": "light"
          }
        }
      ]
    },
    {
      "cell_type": "markdown",
      "metadata": {
        "id": "gF4bOXYIV4JT"
      },
      "source": [
        "# Precision-Recall 곡선\n",
        "- 분류 경계치(threshold)를 하나씩 내려면서 (또는 올리면서) 리콜과 정밀도를 2차원 평면에 그리는 것"
      ]
    },
    {
      "cell_type": "code",
      "metadata": {
        "id": "y7qx-3StV4JU"
      },
      "source": [
        "y_test = df['실제암발생']"
      ],
      "execution_count": 31,
      "outputs": []
    },
    {
      "cell_type": "code",
      "metadata": {
        "id": "DaYLDb7WV4JU",
        "outputId": "95a1dd5a-ac76-4bfb-c1e7-040cbdb74859",
        "colab": {
          "base_uri": "https://localhost:8080/",
          "height": 405
        }
      },
      "source": [
        "from sklearn.metrics import precision_recall_curve, average_precision_score\n",
        "prec, rcl, thres = precision_recall_curve(y_test, scores_10)\n",
        "ap = average_precision_score(y_test, scores_10)\n",
        "plt.figure(figsize=(6,6))\n",
        "plt.plot(rcl, prec, label='AP = %0.4f)' % ap)\n",
        "plt.xlim([0.0, 1.05])\n",
        "plt.ylim([0.0, 1.05])\n",
        "plt.xlabel('Recall')\n",
        "plt.ylabel('Precision')\n",
        "plt.legend(loc=\"lower right\")"
      ],
      "execution_count": 32,
      "outputs": [
        {
          "output_type": "execute_result",
          "data": {
            "text/plain": [
              "<matplotlib.legend.Legend at 0x7f8cb97d7dd0>"
            ]
          },
          "metadata": {
            "tags": []
          },
          "execution_count": 32
        },
        {
          "output_type": "display_data",
          "data": {
            "image/png": "[encoded data removed]",
            "text/plain": [
              "<Figure size 432x432 with 1 Axes>"
            ]
          },
          "metadata": {
            "tags": [],
            "image/png": {
              "width": 385,
              "height": 370
            },
            "needs_background": "light"
          }
        }
      ]
    },
    {
      "cell_type": "code",
      "metadata": {
        "id": "c_snAcQyfCq-",
        "outputId": "76e3baa0-a27e-425e-ffff-bf0959fed125",
        "colab": {
          "base_uri": "https://localhost:8080/"
        }
      },
      "source": [
        "prec, rcl, thres"
      ],
      "execution_count": 33,
      "outputs": [
        {
          "output_type": "execute_result",
          "data": {
            "text/plain": [
              "(array([0.71428571, 0.66666667, 0.6       , 0.75      , 0.66666667,\n",
              "        1.        , 1.        , 1.        ]),\n",
              " array([1. , 0.8, 0.6, 0.6, 0.4, 0.4, 0.2, 0. ]),\n",
              " array([52, 61, 64, 70, 82, 86, 96]))"
            ]
          },
          "metadata": {
            "tags": []
          },
          "execution_count": 33
        }
      ]
    },
    {
      "cell_type": "code",
      "metadata": {
        "id": "JxhLOW1DV4JV",
        "outputId": "31324025-8c0b-488c-e30e-36e12f053e1a",
        "colab": {
          "base_uri": "https://localhost:8080/",
          "height": 359
        }
      },
      "source": [
        "df"
      ],
      "execution_count": 34,
      "outputs": [
        {
          "output_type": "execute_result",
          "data": {
            "text/html": [
              "<div>\n",
              "<style scoped>\n",
              "    .dataframe tbody tr th:only-of-type {\n",
              "        vertical-align: middle;\n",
              "    }\n",
              "\n",
              "    .dataframe tbody tr th {\n",
              "        vertical-align: top;\n",
              "    }\n",
              "\n",
              "    .dataframe thead th {\n",
              "        text-align: right;\n",
              "    }\n",
              "</style>\n",
              "<table border=\"1\" class=\"dataframe\">\n",
              "  <thead>\n",
              "    <tr style=\"text-align: right;\">\n",
              "      <th></th>\n",
              "      <th>점수</th>\n",
              "      <th>진단</th>\n",
              "      <th>실제암발생</th>\n",
              "    </tr>\n",
              "  </thead>\n",
              "  <tbody>\n",
              "    <tr>\n",
              "      <th>4</th>\n",
              "      <td>96</td>\n",
              "      <td>1</td>\n",
              "      <td>1</td>\n",
              "    </tr>\n",
              "    <tr>\n",
              "      <th>5</th>\n",
              "      <td>86</td>\n",
              "      <td>1</td>\n",
              "      <td>1</td>\n",
              "    </tr>\n",
              "    <tr>\n",
              "      <th>2</th>\n",
              "      <td>82</td>\n",
              "      <td>1</td>\n",
              "      <td>0</td>\n",
              "    </tr>\n",
              "    <tr>\n",
              "      <th>0</th>\n",
              "      <td>70</td>\n",
              "      <td>1</td>\n",
              "      <td>1</td>\n",
              "    </tr>\n",
              "    <tr>\n",
              "      <th>7</th>\n",
              "      <td>64</td>\n",
              "      <td>0</td>\n",
              "      <td>0</td>\n",
              "    </tr>\n",
              "    <tr>\n",
              "      <th>3</th>\n",
              "      <td>61</td>\n",
              "      <td>0</td>\n",
              "      <td>1</td>\n",
              "    </tr>\n",
              "    <tr>\n",
              "      <th>6</th>\n",
              "      <td>52</td>\n",
              "      <td>0</td>\n",
              "      <td>1</td>\n",
              "    </tr>\n",
              "    <tr>\n",
              "      <th>1</th>\n",
              "      <td>49</td>\n",
              "      <td>0</td>\n",
              "      <td>0</td>\n",
              "    </tr>\n",
              "    <tr>\n",
              "      <th>9</th>\n",
              "      <td>40</td>\n",
              "      <td>0</td>\n",
              "      <td>0</td>\n",
              "    </tr>\n",
              "    <tr>\n",
              "      <th>8</th>\n",
              "      <td>35</td>\n",
              "      <td>0</td>\n",
              "      <td>0</td>\n",
              "    </tr>\n",
              "  </tbody>\n",
              "</table>\n",
              "</div>"
            ],
            "text/plain": [
              "   점수  진단  실제암발생\n",
              "4  96   1      1\n",
              "5  86   1      1\n",
              "2  82   1      0\n",
              "0  70   1      1\n",
              "7  64   0      0\n",
              "3  61   0      1\n",
              "6  52   0      1\n",
              "1  49   0      0\n",
              "9  40   0      0\n",
              "8  35   0      0"
            ]
          },
          "metadata": {
            "tags": []
          },
          "execution_count": 34
        }
      ]
    },
    {
      "cell_type": "code",
      "metadata": {
        "id": "MU2Y4sxOV4JV",
        "outputId": "2649d60b-2af6-4363-a64f-58e2a1c2f169",
        "colab": {
          "base_uri": "https://localhost:8080/",
          "height": 297
        }
      },
      "source": [
        "# Precision-Recall 테이블 \n",
        "P = pd.DataFrame({\"recall\":rcl, \"precision\":prec}).round(2)\n",
        "P"
      ],
      "execution_count": 35,
      "outputs": [
        {
          "output_type": "execute_result",
          "data": {
            "text/html": [
              "<div>\n",
              "<style scoped>\n",
              "    .dataframe tbody tr th:only-of-type {\n",
              "        vertical-align: middle;\n",
              "    }\n",
              "\n",
              "    .dataframe tbody tr th {\n",
              "        vertical-align: top;\n",
              "    }\n",
              "\n",
              "    .dataframe thead th {\n",
              "        text-align: right;\n",
              "    }\n",
              "</style>\n",
              "<table border=\"1\" class=\"dataframe\">\n",
              "  <thead>\n",
              "    <tr style=\"text-align: right;\">\n",
              "      <th></th>\n",
              "      <th>recall</th>\n",
              "      <th>precision</th>\n",
              "    </tr>\n",
              "  </thead>\n",
              "  <tbody>\n",
              "    <tr>\n",
              "      <th>0</th>\n",
              "      <td>1.0</td>\n",
              "      <td>0.71</td>\n",
              "    </tr>\n",
              "    <tr>\n",
              "      <th>1</th>\n",
              "      <td>0.8</td>\n",
              "      <td>0.67</td>\n",
              "    </tr>\n",
              "    <tr>\n",
              "      <th>2</th>\n",
              "      <td>0.6</td>\n",
              "      <td>0.60</td>\n",
              "    </tr>\n",
              "    <tr>\n",
              "      <th>3</th>\n",
              "      <td>0.6</td>\n",
              "      <td>0.75</td>\n",
              "    </tr>\n",
              "    <tr>\n",
              "      <th>4</th>\n",
              "      <td>0.4</td>\n",
              "      <td>0.67</td>\n",
              "    </tr>\n",
              "    <tr>\n",
              "      <th>5</th>\n",
              "      <td>0.4</td>\n",
              "      <td>1.00</td>\n",
              "    </tr>\n",
              "    <tr>\n",
              "      <th>6</th>\n",
              "      <td>0.2</td>\n",
              "      <td>1.00</td>\n",
              "    </tr>\n",
              "    <tr>\n",
              "      <th>7</th>\n",
              "      <td>0.0</td>\n",
              "      <td>1.00</td>\n",
              "    </tr>\n",
              "  </tbody>\n",
              "</table>\n",
              "</div>"
            ],
            "text/plain": [
              "   recall  precision\n",
              "0     1.0       0.71\n",
              "1     0.8       0.67\n",
              "2     0.6       0.60\n",
              "3     0.6       0.75\n",
              "4     0.4       0.67\n",
              "5     0.4       1.00\n",
              "6     0.2       1.00\n",
              "7     0.0       1.00"
            ]
          },
          "metadata": {
            "tags": []
          },
          "execution_count": 35
        }
      ]
    },
    {
      "cell_type": "code",
      "metadata": {
        "id": "vfork8P5V4JW",
        "outputId": "835470f9-2b4d-42ef-a187-04e9d55780ce",
        "colab": {
          "base_uri": "https://localhost:8080/"
        }
      },
      "source": [
        "thres.size"
      ],
      "execution_count": 36,
      "outputs": [
        {
          "output_type": "execute_result",
          "data": {
            "text/plain": [
              "7"
            ]
          },
          "metadata": {
            "tags": []
          },
          "execution_count": 36
        }
      ]
    },
    {
      "cell_type": "code",
      "metadata": {
        "id": "56Pk3kv5V4JW",
        "outputId": "a571375d-ac42-4ca0-abfd-bab888dff7a1",
        "colab": {
          "base_uri": "https://localhost:8080/",
          "height": 374
        }
      },
      "source": [
        "# 마지막 행은 threshold와 행 갯수를 맞추기 위해서 삭제\n",
        "P = P[:-1]\n",
        "\n",
        "# treshold 컬럼 추가\n",
        "P[\"thres\"] = thres\n",
        "P"
      ],
      "execution_count": 37,
      "outputs": [
        {
          "output_type": "stream",
          "text": [
            "/usr/local/lib/python3.7/dist-packages/ipykernel_launcher.py:5: SettingWithCopyWarning: \n",
            "A value is trying to be set on a copy of a slice from a DataFrame.\n",
            "Try using .loc[row_indexer,col_indexer] = value instead\n",
            "\n",
            "See the caveats in the documentation: https://pandas.pydata.org/pandas-docs/stable/user_guide/indexing.html#returning-a-view-versus-a-copy\n",
            "  \"\"\"\n"
          ],
          "name": "stderr"
        },
        {
          "output_type": "execute_result",
          "data": {
            "text/html": [
              "<div>\n",
              "<style scoped>\n",
              "    .dataframe tbody tr th:only-of-type {\n",
              "        vertical-align: middle;\n",
              "    }\n",
              "\n",
              "    .dataframe tbody tr th {\n",
              "        vertical-align: top;\n",
              "    }\n",
              "\n",
              "    .dataframe thead th {\n",
              "        text-align: right;\n",
              "    }\n",
              "</style>\n",
              "<table border=\"1\" class=\"dataframe\">\n",
              "  <thead>\n",
              "    <tr style=\"text-align: right;\">\n",
              "      <th></th>\n",
              "      <th>recall</th>\n",
              "      <th>precision</th>\n",
              "      <th>thres</th>\n",
              "    </tr>\n",
              "  </thead>\n",
              "  <tbody>\n",
              "    <tr>\n",
              "      <th>0</th>\n",
              "      <td>1.0</td>\n",
              "      <td>0.71</td>\n",
              "      <td>52</td>\n",
              "    </tr>\n",
              "    <tr>\n",
              "      <th>1</th>\n",
              "      <td>0.8</td>\n",
              "      <td>0.67</td>\n",
              "      <td>61</td>\n",
              "    </tr>\n",
              "    <tr>\n",
              "      <th>2</th>\n",
              "      <td>0.6</td>\n",
              "      <td>0.60</td>\n",
              "      <td>64</td>\n",
              "    </tr>\n",
              "    <tr>\n",
              "      <th>3</th>\n",
              "      <td>0.6</td>\n",
              "      <td>0.75</td>\n",
              "      <td>70</td>\n",
              "    </tr>\n",
              "    <tr>\n",
              "      <th>4</th>\n",
              "      <td>0.4</td>\n",
              "      <td>0.67</td>\n",
              "      <td>82</td>\n",
              "    </tr>\n",
              "    <tr>\n",
              "      <th>5</th>\n",
              "      <td>0.4</td>\n",
              "      <td>1.00</td>\n",
              "      <td>86</td>\n",
              "    </tr>\n",
              "    <tr>\n",
              "      <th>6</th>\n",
              "      <td>0.2</td>\n",
              "      <td>1.00</td>\n",
              "      <td>96</td>\n",
              "    </tr>\n",
              "  </tbody>\n",
              "</table>\n",
              "</div>"
            ],
            "text/plain": [
              "   recall  precision  thres\n",
              "0     1.0       0.71     52\n",
              "1     0.8       0.67     61\n",
              "2     0.6       0.60     64\n",
              "3     0.6       0.75     70\n",
              "4     0.4       0.67     82\n",
              "5     0.4       1.00     86\n",
              "6     0.2       1.00     96"
            ]
          },
          "metadata": {
            "tags": []
          },
          "execution_count": 37
        }
      ]
    },
    {
      "cell_type": "code",
      "metadata": {
        "id": "XzPUR1-BV4JX",
        "outputId": "34045ec1-023e-4520-f84e-3854c7f904eb",
        "colab": {
          "base_uri": "https://localhost:8080/"
        }
      },
      "source": [
        "# 테이블 내용 확인 (상위 3개만)\n",
        "print(\"recall..\")\n",
        "print(5/5);print(4/5);print(3/5)\n",
        "print(\"precision..\")\n",
        "print(5/7);print(4/6);print(3/5)"
      ],
      "execution_count": 38,
      "outputs": [
        {
          "output_type": "stream",
          "text": [
            "recall..\n",
            "1.0\n",
            "0.8\n",
            "0.6\n",
            "precision..\n",
            "0.7142857142857143\n",
            "0.6666666666666666\n",
            "0.6\n"
          ],
          "name": "stdout"
        }
      ]
    },
    {
      "cell_type": "markdown",
      "metadata": {
        "id": "SxGE8S23V4JX"
      },
      "source": [
        "## P-R 커브의 용도\n",
        "- ROC-AUC는 분류의 성능을 종합적으로 평가하는데 사용되고\n",
        "- P-R 커브는 원하는 최소한의 정밀도 또는 리콜 값을 만족하는 분류기를 찾을 때 사용한다\n",
        "- 문제마다 정밀도가 높아야 하는 경우와 리콜이 높아야 하는 경우가 있다\n",
        " - (예) 스팸 메일을 찾아서 스팸함으로 보내는 분류기는 정밀도가 높아야 한다\n",
        " - 암을 찾는 작업은 리콜이 높아야 한다\n",
        "- 동시에 정밀도와 리콜을 높이는 것이 어려우므로 (완벽한 모델이 아니면) 정밀도와 리콜 중 하나의 조건을 우선 만족하면서 다른 값이 가능한 높은 모델을 채택해야 한다\n",
        " - 이러한 조건을 만족하는 적절한 분류 경계치를 선택해야 하는 일이 많다\n",
        " \n",
        "- 일반적으로 Precision의 평균치 (mAP: mean Average Precision) 값이 클수록 전체적으로 성능이 좋은 모델이다"
      ]
    },
    {
      "cell_type": "markdown",
      "metadata": {
        "id": "y5zt84osV4JY"
      },
      "source": [
        "# 최적의 분류 경계치 찾기\n",
        "\n",
        "- 남여 성별 분류 문제에서 P-R 커브를 사용하여 정밀도 또는 리콜의 특정 조건을 만족하는 최적의 threshold 값을 찾는 방법을 소개한다"
      ]
    },
    {
      "cell_type": "markdown",
      "metadata": {
        "id": "imu2NDexV4JY"
      },
      "source": [
        "## 데이터 다운로드"
      ]
    },
    {
      "cell_type": "code",
      "metadata": {
        "scrolled": true,
        "id": "ePUfKoOiV4JY"
      },
      "source": [
        "data = pd.read_csv(\"https://github.com/data-labs/data/raw/main/weight-height.csv\")\n",
        "\n",
        "# 단위 변환 (인치, 파운드 --> cm, kg)\n",
        "data.Height = data.Height*2.54 # cm\n",
        "data.Weight = data.Weight*0.453592 # kg\n",
        "\n",
        "# 성별 인코딩 (남:0, 여:1)\n",
        "data.Gender = data.Gender.map({'Male':0, 'Female':1})\n",
        "\n",
        "# 원본 백업\n",
        "df = data.copy()"
      ],
      "execution_count": 39,
      "outputs": []
    },
    {
      "cell_type": "markdown",
      "metadata": {
        "id": "g7pBETgVV4JY"
      },
      "source": [
        "##  성별  예측\n",
        "- X: 키와 몸무게 (2개의 특성 사용)\n",
        "- y: 성별 (이진 분류 문제)"
      ]
    },
    {
      "cell_type": "code",
      "metadata": {
        "id": "6gWxz9WsV4JZ",
        "outputId": "b1ad2823-b517-4234-f912-9fc06a652283",
        "colab": {
          "base_uri": "https://localhost:8080/"
        }
      },
      "source": [
        "X = df[[\"Height\", \"Weight\"]]\n",
        "y = df.Gender\n",
        "\n",
        "from sklearn.model_selection import train_test_split\n",
        "X_train, X_test, y_train, y_test = train_test_split(X, y)\n",
        "\n",
        "# 선형 분류 모델 생성 및 학습\n",
        "from sklearn.linear_model import SGDClassifier\n",
        "model = SGDClassifier() # (1) 모델 생성\n",
        "model.fit(X_train, y_train) # (2) 훈련\n",
        "model.score(X_test, y_test) # (3) 평가 (정확도)"
      ],
      "execution_count": 40,
      "outputs": [
        {
          "output_type": "execute_result",
          "data": {
            "text/plain": [
              "0.9064"
            ]
          },
          "metadata": {
            "tags": []
          },
          "execution_count": 40
        }
      ]
    },
    {
      "cell_type": "markdown",
      "metadata": {
        "id": "XCEQBJIHV4JZ"
      },
      "source": [
        "## 분류 기본 성능 평가"
      ]
    },
    {
      "cell_type": "code",
      "metadata": {
        "id": "wXyp3jLJV4JZ",
        "outputId": "dcc3d53f-b633-4c36-9509-39c6f0ce48b5",
        "colab": {
          "base_uri": "https://localhost:8080/"
        }
      },
      "source": [
        "# 성별 예측치\n",
        "y_pred = model.predict(X_test)\n",
        "\n",
        "from sklearn.metrics import confusion_matrix, classification_report, roc_curve, auc\n",
        "print(confusion_matrix(y_test, y_pred))\n",
        "print(classification_report(y_test, y_pred))"
      ],
      "execution_count": 41,
      "outputs": [
        {
          "output_type": "stream",
          "text": [
            "[[1073  185]\n",
            " [  49 1193]]\n",
            "              precision    recall  f1-score   support\n",
            "\n",
            "           0       0.96      0.85      0.90      1258\n",
            "           1       0.87      0.96      0.91      1242\n",
            "\n",
            "    accuracy                           0.91      2500\n",
            "   macro avg       0.91      0.91      0.91      2500\n",
            "weighted avg       0.91      0.91      0.91      2500\n",
            "\n"
          ],
          "name": "stdout"
        }
      ]
    },
    {
      "cell_type": "markdown",
      "metadata": {
        "id": "abC3z6V3V4Ja"
      },
      "source": [
        "## ROC-AUC\n",
        "- 먼저 분류 점수 또는 확률을 얻은 후에 ROC 커브를 그린다"
      ]
    },
    {
      "cell_type": "code",
      "metadata": {
        "id": "Ln-yK4pjV4Ja"
      },
      "source": [
        "# 선형 분류 모델에서 의사결정에 사용한 \"점수\"를 얻는 함수: decision_function()\n",
        "scores_cancer = model.decision_function(X_test)"
      ],
      "execution_count": 43,
      "outputs": []
    },
    {
      "cell_type": "code",
      "metadata": {
        "id": "XGnQFp71fzfE",
        "outputId": "240d64b6-d7f6-4213-e692-d4f138eeabe1",
        "colab": {
          "base_uri": "https://localhost:8080/"
        }
      },
      "source": [
        "scores_cancer, len(scores_cancer)"
      ],
      "execution_count": 45,
      "outputs": [
        {
          "output_type": "execute_result",
          "data": {
            "text/plain": [
              "(array([-590.9860358 , -377.00497989, -476.08781021, ...,  294.57784057,\n",
              "         568.2163439 ,  107.13865835]), 2500)"
            ]
          },
          "metadata": {
            "tags": []
          },
          "execution_count": 45
        }
      ]
    },
    {
      "cell_type": "code",
      "metadata": {
        "id": "u0Hjq4O1V4Ja",
        "outputId": "40a7a214-4ab0-45d5-a327-80edd61f5a8b",
        "colab": {
          "base_uri": "https://localhost:8080/",
          "height": 421
        }
      },
      "source": [
        "fpr, tpr, _ = roc_curve(y_test, scores_cancer)\n",
        "roc_auc = auc(fpr, tpr)\n",
        "plt.figure(figsize=(6,6))\n",
        "plt.plot(fpr, tpr, label='ROC curve (area = %0.2f)' % roc_auc)\n",
        "plt.plot([0, 1], [0, 1], linestyle='--')\n",
        "\n",
        "plt.xlabel('False Positive Rate')\n",
        "plt.ylabel('True Positive Rate')\n",
        "plt.title('ROC')\n",
        "plt.legend(loc=\"lower right\")"
      ],
      "execution_count": 46,
      "outputs": [
        {
          "output_type": "execute_result",
          "data": {
            "text/plain": [
              "<matplotlib.legend.Legend at 0x7f8cb9743650>"
            ]
          },
          "metadata": {
            "tags": []
          },
          "execution_count": 46
        },
        {
          "output_type": "display_data",
          "data": {
            "image/png": "[encoded data removed]",
            "text/plain": [
              "<Figure size 432x432 with 1 Axes>"
            ]
          },
          "metadata": {
            "tags": [],
            "image/png": {
              "width": 385,
              "height": 386
            },
            "needs_background": "light"
          }
        }
      ]
    },
    {
      "cell_type": "code",
      "metadata": {
        "id": "6IaYUgC7V4Jb",
        "outputId": "234bbf71-bcd0-4875-bd0b-330212f3663e",
        "colab": {
          "base_uri": "https://localhost:8080/",
          "height": 419
        }
      },
      "source": [
        "# 점수순으로 소팅한 테이블 만들기\n",
        "Z = pd.DataFrame({\"y_pred\":y_pred, \n",
        "                  \"y_test\":y_test, \"scores\":scores_cancer}) \n",
        "Z = Z.sort_values(by=['scores'], ascending=False)\n",
        "Z"
      ],
      "execution_count": 47,
      "outputs": [
        {
          "output_type": "execute_result",
          "data": {
            "text/html": [
              "<div>\n",
              "<style scoped>\n",
              "    .dataframe tbody tr th:only-of-type {\n",
              "        vertical-align: middle;\n",
              "    }\n",
              "\n",
              "    .dataframe tbody tr th {\n",
              "        vertical-align: top;\n",
              "    }\n",
              "\n",
              "    .dataframe thead th {\n",
              "        text-align: right;\n",
              "    }\n",
              "</style>\n",
              "<table border=\"1\" class=\"dataframe\">\n",
              "  <thead>\n",
              "    <tr style=\"text-align: right;\">\n",
              "      <th></th>\n",
              "      <th>y_pred</th>\n",
              "      <th>y_test</th>\n",
              "      <th>scores</th>\n",
              "    </tr>\n",
              "  </thead>\n",
              "  <tbody>\n",
              "    <tr>\n",
              "      <th>8241</th>\n",
              "      <td>1</td>\n",
              "      <td>1</td>\n",
              "      <td>1266.168101</td>\n",
              "    </tr>\n",
              "    <tr>\n",
              "      <th>5026</th>\n",
              "      <td>1</td>\n",
              "      <td>1</td>\n",
              "      <td>1145.122552</td>\n",
              "    </tr>\n",
              "    <tr>\n",
              "      <th>5191</th>\n",
              "      <td>1</td>\n",
              "      <td>1</td>\n",
              "      <td>1139.144555</td>\n",
              "    </tr>\n",
              "    <tr>\n",
              "      <th>7215</th>\n",
              "      <td>1</td>\n",
              "      <td>1</td>\n",
              "      <td>1133.589255</td>\n",
              "    </tr>\n",
              "    <tr>\n",
              "      <th>7974</th>\n",
              "      <td>1</td>\n",
              "      <td>1</td>\n",
              "      <td>1110.462540</td>\n",
              "    </tr>\n",
              "    <tr>\n",
              "      <th>...</th>\n",
              "      <td>...</td>\n",
              "      <td>...</td>\n",
              "      <td>...</td>\n",
              "    </tr>\n",
              "    <tr>\n",
              "      <th>3918</th>\n",
              "      <td>0</td>\n",
              "      <td>0</td>\n",
              "      <td>-1060.010824</td>\n",
              "    </tr>\n",
              "    <tr>\n",
              "      <th>1154</th>\n",
              "      <td>0</td>\n",
              "      <td>0</td>\n",
              "      <td>-1070.779864</td>\n",
              "    </tr>\n",
              "    <tr>\n",
              "      <th>3090</th>\n",
              "      <td>0</td>\n",
              "      <td>0</td>\n",
              "      <td>-1128.103513</td>\n",
              "    </tr>\n",
              "    <tr>\n",
              "      <th>3285</th>\n",
              "      <td>0</td>\n",
              "      <td>0</td>\n",
              "      <td>-1176.660600</td>\n",
              "    </tr>\n",
              "    <tr>\n",
              "      <th>1506</th>\n",
              "      <td>0</td>\n",
              "      <td>0</td>\n",
              "      <td>-1226.065363</td>\n",
              "    </tr>\n",
              "  </tbody>\n",
              "</table>\n",
              "<p>2500 rows × 3 columns</p>\n",
              "</div>"
            ],
            "text/plain": [
              "      y_pred  y_test       scores\n",
              "8241       1       1  1266.168101\n",
              "5026       1       1  1145.122552\n",
              "5191       1       1  1139.144555\n",
              "7215       1       1  1133.589255\n",
              "7974       1       1  1110.462540\n",
              "...      ...     ...          ...\n",
              "3918       0       0 -1060.010824\n",
              "1154       0       0 -1070.779864\n",
              "3090       0       0 -1128.103513\n",
              "3285       0       0 -1176.660600\n",
              "1506       0       0 -1226.065363\n",
              "\n",
              "[2500 rows x 3 columns]"
            ]
          },
          "metadata": {
            "tags": []
          },
          "execution_count": 47
        }
      ]
    },
    {
      "cell_type": "code",
      "metadata": {
        "id": "LOCwemFEgpP-",
        "outputId": "fbe950dd-9f6b-4be1-d8b6-0a3e9f4bacd7",
        "colab": {
          "base_uri": "https://localhost:8080/"
        }
      },
      "source": [
        "len(Z)"
      ],
      "execution_count": 48,
      "outputs": [
        {
          "output_type": "execute_result",
          "data": {
            "text/plain": [
              "2500"
            ]
          },
          "metadata": {
            "tags": []
          },
          "execution_count": 48
        }
      ]
    },
    {
      "cell_type": "code",
      "metadata": {
        "id": "rjuXQGwJV4Jb",
        "outputId": "ac861023-f8a9-4a9f-d4cd-b9655f839e9f",
        "colab": {
          "base_uri": "https://localhost:8080/",
          "height": 419
        }
      },
      "source": [
        "# 점수의 최소치를 0으로 최대치를 1로 스케일링한 컬럼 추가 (그래프를 보기 좋게)\n",
        "from sklearn.preprocessing import MinMaxScaler\n",
        "minmax = MinMaxScaler()\n",
        "Z[\"scores_sc\"] = minmax.fit_transform(Z.scores.values.reshape(-1,1))\n",
        "Z"
      ],
      "execution_count": 49,
      "outputs": [
        {
          "output_type": "execute_result",
          "data": {
            "text/html": [
              "<div>\n",
              "<style scoped>\n",
              "    .dataframe tbody tr th:only-of-type {\n",
              "        vertical-align: middle;\n",
              "    }\n",
              "\n",
              "    .dataframe tbody tr th {\n",
              "        vertical-align: top;\n",
              "    }\n",
              "\n",
              "    .dataframe thead th {\n",
              "        text-align: right;\n",
              "    }\n",
              "</style>\n",
              "<table border=\"1\" class=\"dataframe\">\n",
              "  <thead>\n",
              "    <tr style=\"text-align: right;\">\n",
              "      <th></th>\n",
              "      <th>y_pred</th>\n",
              "      <th>y_test</th>\n",
              "      <th>scores</th>\n",
              "      <th>scores_sc</th>\n",
              "    </tr>\n",
              "  </thead>\n",
              "  <tbody>\n",
              "    <tr>\n",
              "      <th>8241</th>\n",
              "      <td>1</td>\n",
              "      <td>1</td>\n",
              "      <td>1266.168101</td>\n",
              "      <td>1.000000</td>\n",
              "    </tr>\n",
              "    <tr>\n",
              "      <th>5026</th>\n",
              "      <td>1</td>\n",
              "      <td>1</td>\n",
              "      <td>1145.122552</td>\n",
              "      <td>0.951431</td>\n",
              "    </tr>\n",
              "    <tr>\n",
              "      <th>5191</th>\n",
              "      <td>1</td>\n",
              "      <td>1</td>\n",
              "      <td>1139.144555</td>\n",
              "      <td>0.949032</td>\n",
              "    </tr>\n",
              "    <tr>\n",
              "      <th>7215</th>\n",
              "      <td>1</td>\n",
              "      <td>1</td>\n",
              "      <td>1133.589255</td>\n",
              "      <td>0.946803</td>\n",
              "    </tr>\n",
              "    <tr>\n",
              "      <th>7974</th>\n",
              "      <td>1</td>\n",
              "      <td>1</td>\n",
              "      <td>1110.462540</td>\n",
              "      <td>0.937524</td>\n",
              "    </tr>\n",
              "    <tr>\n",
              "      <th>...</th>\n",
              "      <td>...</td>\n",
              "      <td>...</td>\n",
              "      <td>...</td>\n",
              "      <td>...</td>\n",
              "    </tr>\n",
              "    <tr>\n",
              "      <th>3918</th>\n",
              "      <td>0</td>\n",
              "      <td>0</td>\n",
              "      <td>-1060.010824</td>\n",
              "      <td>0.066629</td>\n",
              "    </tr>\n",
              "    <tr>\n",
              "      <th>1154</th>\n",
              "      <td>0</td>\n",
              "      <td>0</td>\n",
              "      <td>-1070.779864</td>\n",
              "      <td>0.062308</td>\n",
              "    </tr>\n",
              "    <tr>\n",
              "      <th>3090</th>\n",
              "      <td>0</td>\n",
              "      <td>0</td>\n",
              "      <td>-1128.103513</td>\n",
              "      <td>0.039307</td>\n",
              "    </tr>\n",
              "    <tr>\n",
              "      <th>3285</th>\n",
              "      <td>0</td>\n",
              "      <td>0</td>\n",
              "      <td>-1176.660600</td>\n",
              "      <td>0.019823</td>\n",
              "    </tr>\n",
              "    <tr>\n",
              "      <th>1506</th>\n",
              "      <td>0</td>\n",
              "      <td>0</td>\n",
              "      <td>-1226.065363</td>\n",
              "      <td>0.000000</td>\n",
              "    </tr>\n",
              "  </tbody>\n",
              "</table>\n",
              "<p>2500 rows × 4 columns</p>\n",
              "</div>"
            ],
            "text/plain": [
              "      y_pred  y_test       scores  scores_sc\n",
              "8241       1       1  1266.168101   1.000000\n",
              "5026       1       1  1145.122552   0.951431\n",
              "5191       1       1  1139.144555   0.949032\n",
              "7215       1       1  1133.589255   0.946803\n",
              "7974       1       1  1110.462540   0.937524\n",
              "...      ...     ...          ...        ...\n",
              "3918       0       0 -1060.010824   0.066629\n",
              "1154       0       0 -1070.779864   0.062308\n",
              "3090       0       0 -1128.103513   0.039307\n",
              "3285       0       0 -1176.660600   0.019823\n",
              "1506       0       0 -1226.065363   0.000000\n",
              "\n",
              "[2500 rows x 4 columns]"
            ]
          },
          "metadata": {
            "tags": []
          },
          "execution_count": 49
        }
      ]
    },
    {
      "cell_type": "markdown",
      "metadata": {
        "id": "jUEV9IwWV4Jb"
      },
      "source": [
        "## 예측값, 실제값, 분류 경계치(threshold) 보기\n",
        "\n",
        "- 예측값: 파란 선\n",
        "- 실제값: 붉은 점\n",
        "- 분류 경계치: 검정색 "
      ]
    },
    {
      "cell_type": "code",
      "metadata": {
        "id": "ZQjoi3-1V4Jc",
        "outputId": "71491ec6-0303-47eb-d91f-54ef88eebe51",
        "colab": {
          "base_uri": "https://localhost:8080/",
          "height": 283
        }
      },
      "source": [
        "N = 2500\n",
        "# N = 100\n",
        "plt.figure(figsize=(10,4))\n",
        "plt.scatter(range(N), Z.y_test.values[:N], c='r', s=2)\n",
        "plt.plot(Z.y_pred.values[:N], c='b')\n",
        "plt.plot(Z.scores_sc.values[:N], c='k')"
      ],
      "execution_count": 50,
      "outputs": [
        {
          "output_type": "execute_result",
          "data": {
            "text/plain": [
              "[<matplotlib.lines.Line2D at 0x7f8cb781ead0>]"
            ]
          },
          "metadata": {
            "tags": []
          },
          "execution_count": 50
        },
        {
          "output_type": "display_data",
          "data": {
            "image/png": "[encoded data removed]",
            "text/plain": [
              "<Figure size 720x288 with 1 Axes>"
            ]
          },
          "metadata": {
            "tags": [],
            "image/png": {
              "width": 595,
              "height": 248
            },
            "needs_background": "light"
          }
        }
      ]
    },
    {
      "cell_type": "markdown",
      "metadata": {
        "id": "XBOohn0nV4Jc"
      },
      "source": [
        "## Precision-Recall 커브"
      ]
    },
    {
      "cell_type": "code",
      "metadata": {
        "id": "YKdrUdkxV4Jc",
        "outputId": "5f65da3f-3333-4d9f-c3fa-24c67f811957",
        "colab": {
          "base_uri": "https://localhost:8080/",
          "height": 405
        }
      },
      "source": [
        "prec, rcl, thres = precision_recall_curve(Z.y_test, Z.scores)\n",
        "ap = average_precision_score(Z.y_test, Z.scores)\n",
        "plt.figure(figsize=(6,6))\n",
        "plt.plot(rcl, prec, label='AP = %0.4f)' % ap)\n",
        "plt.xlim([0.0, 1.05])\n",
        "plt.ylim([0.0, 1.05])\n",
        "plt.xlabel('Recall')\n",
        "plt.ylabel('Precision')\n",
        "plt.legend(loc=\"lower right\")"
      ],
      "execution_count": 51,
      "outputs": [
        {
          "output_type": "execute_result",
          "data": {
            "text/plain": [
              "<matplotlib.legend.Legend at 0x7f8cb77cbf10>"
            ]
          },
          "metadata": {
            "tags": []
          },
          "execution_count": 51
        },
        {
          "output_type": "display_data",
          "data": {
            "image/png": "[encoded data removed]",
            "text/plain": [
              "<Figure size 432x432 with 1 Axes>"
            ]
          },
          "metadata": {
            "tags": [],
            "image/png": {
              "width": 385,
              "height": 370
            },
            "needs_background": "light"
          }
        }
      ]
    },
    {
      "cell_type": "markdown",
      "metadata": {
        "id": "-0J2AgmeV4Jd"
      },
      "source": [
        "###  precision_recall_curve 함수 리턴값\n",
        "- 정밀도, 리콜, 경계치 세가지 값을 리턴한다\n",
        "- P-R 테이블 보기 (리콜이 1인 곳의 값부터 보여준다: 위 P-R 그래프의 우하단부터)\n",
        "- 검증 데이터 2500개 중에 1922개의 샘플까지만 테이블에 들어있다\n",
        "- 리콜이 1에 도달한 이후는 더 그릴 필요가 없음"
      ]
    },
    {
      "cell_type": "code",
      "metadata": {
        "id": "3xzRjvYqV4Jd",
        "outputId": "5d682b50-3f8c-4821-c1f2-feb14682dd3e",
        "colab": {
          "base_uri": "https://localhost:8080/",
          "height": 419
        }
      },
      "source": [
        "# 정밀도, 리콜 테이블\n",
        "P = pd.DataFrame({\"precision\":prec, \"recall\":rcl})\n",
        "P"
      ],
      "execution_count": 52,
      "outputs": [
        {
          "output_type": "execute_result",
          "data": {
            "text/html": [
              "<div>\n",
              "<style scoped>\n",
              "    .dataframe tbody tr th:only-of-type {\n",
              "        vertical-align: middle;\n",
              "    }\n",
              "\n",
              "    .dataframe tbody tr th {\n",
              "        vertical-align: top;\n",
              "    }\n",
              "\n",
              "    .dataframe thead th {\n",
              "        text-align: right;\n",
              "    }\n",
              "</style>\n",
              "<table border=\"1\" class=\"dataframe\">\n",
              "  <thead>\n",
              "    <tr style=\"text-align: right;\">\n",
              "      <th></th>\n",
              "      <th>precision</th>\n",
              "      <th>recall</th>\n",
              "    </tr>\n",
              "  </thead>\n",
              "  <tbody>\n",
              "    <tr>\n",
              "      <th>0</th>\n",
              "      <td>0.646202</td>\n",
              "      <td>1.000000</td>\n",
              "    </tr>\n",
              "    <tr>\n",
              "      <th>1</th>\n",
              "      <td>0.646018</td>\n",
              "      <td>0.999195</td>\n",
              "    </tr>\n",
              "    <tr>\n",
              "      <th>2</th>\n",
              "      <td>0.646354</td>\n",
              "      <td>0.999195</td>\n",
              "    </tr>\n",
              "    <tr>\n",
              "      <th>3</th>\n",
              "      <td>0.646691</td>\n",
              "      <td>0.999195</td>\n",
              "    </tr>\n",
              "    <tr>\n",
              "      <th>4</th>\n",
              "      <td>0.647028</td>\n",
              "      <td>0.999195</td>\n",
              "    </tr>\n",
              "    <tr>\n",
              "      <th>...</th>\n",
              "      <td>...</td>\n",
              "      <td>...</td>\n",
              "    </tr>\n",
              "    <tr>\n",
              "      <th>1918</th>\n",
              "      <td>1.000000</td>\n",
              "      <td>0.003221</td>\n",
              "    </tr>\n",
              "    <tr>\n",
              "      <th>1919</th>\n",
              "      <td>1.000000</td>\n",
              "      <td>0.002415</td>\n",
              "    </tr>\n",
              "    <tr>\n",
              "      <th>1920</th>\n",
              "      <td>1.000000</td>\n",
              "      <td>0.001610</td>\n",
              "    </tr>\n",
              "    <tr>\n",
              "      <th>1921</th>\n",
              "      <td>1.000000</td>\n",
              "      <td>0.000805</td>\n",
              "    </tr>\n",
              "    <tr>\n",
              "      <th>1922</th>\n",
              "      <td>1.000000</td>\n",
              "      <td>0.000000</td>\n",
              "    </tr>\n",
              "  </tbody>\n",
              "</table>\n",
              "<p>1923 rows × 2 columns</p>\n",
              "</div>"
            ],
            "text/plain": [
              "      precision    recall\n",
              "0      0.646202  1.000000\n",
              "1      0.646018  0.999195\n",
              "2      0.646354  0.999195\n",
              "3      0.646691  0.999195\n",
              "4      0.647028  0.999195\n",
              "...         ...       ...\n",
              "1918   1.000000  0.003221\n",
              "1919   1.000000  0.002415\n",
              "1920   1.000000  0.001610\n",
              "1921   1.000000  0.000805\n",
              "1922   1.000000  0.000000\n",
              "\n",
              "[1923 rows x 2 columns]"
            ]
          },
          "metadata": {
            "tags": []
          },
          "execution_count": 52
        }
      ]
    },
    {
      "cell_type": "code",
      "metadata": {
        "id": "8cR2YYjxV4Jd",
        "outputId": "95c92b02-6eac-4841-c9dd-1d8267f30835",
        "colab": {
          "base_uri": "https://localhost:8080/",
          "height": 283
        }
      },
      "source": [
        "# P-R 테이블 내용을 그래프로 보기\n",
        "# 분류 경계치를 밑에서부터 하나씩 높이면서 그래프로 보기\n",
        "P.plot()"
      ],
      "execution_count": 53,
      "outputs": [
        {
          "output_type": "execute_result",
          "data": {
            "text/plain": [
              "<matplotlib.axes._subplots.AxesSubplot at 0x7f8cb770d8d0>"
            ]
          },
          "metadata": {
            "tags": []
          },
          "execution_count": 53
        },
        {
          "output_type": "display_data",
          "data": {
            "image/png": "[encoded data removed]",
            "text/plain": [
              "<Figure size 432x288 with 1 Axes>"
            ]
          },
          "metadata": {
            "tags": [],
            "image/png": {
              "width": 382,
              "height": 248
            },
            "needs_background": "light"
          }
        }
      ]
    },
    {
      "cell_type": "code",
      "metadata": {
        "id": "8-veLHqSV4Jd",
        "outputId": "1d5f3de3-d221-4eba-aadf-146071017293",
        "colab": {
          "base_uri": "https://localhost:8080/",
          "height": 527
        }
      },
      "source": [
        "# P-R 테이블의 마지막 행은 삭제 (threshold와 행 갯수를 맞추기 위해서)\n",
        "P = P[:-1]\n",
        "# treshold 컬럼 추가\n",
        "P[\"thres\"] = thres\n",
        "P"
      ],
      "execution_count": 54,
      "outputs": [
        {
          "output_type": "stream",
          "text": [
            "/usr/local/lib/python3.7/dist-packages/ipykernel_launcher.py:4: SettingWithCopyWarning: \n",
            "A value is trying to be set on a copy of a slice from a DataFrame.\n",
            "Try using .loc[row_indexer,col_indexer] = value instead\n",
            "\n",
            "See the caveats in the documentation: https://pandas.pydata.org/pandas-docs/stable/user_guide/indexing.html#returning-a-view-versus-a-copy\n",
            "  after removing the cwd from sys.path.\n"
          ],
          "name": "stderr"
        },
        {
          "output_type": "execute_result",
          "data": {
            "text/html": [
              "<div>\n",
              "<style scoped>\n",
              "    .dataframe tbody tr th:only-of-type {\n",
              "        vertical-align: middle;\n",
              "    }\n",
              "\n",
              "    .dataframe tbody tr th {\n",
              "        vertical-align: top;\n",
              "    }\n",
              "\n",
              "    .dataframe thead th {\n",
              "        text-align: right;\n",
              "    }\n",
              "</style>\n",
              "<table border=\"1\" class=\"dataframe\">\n",
              "  <thead>\n",
              "    <tr style=\"text-align: right;\">\n",
              "      <th></th>\n",
              "      <th>precision</th>\n",
              "      <th>recall</th>\n",
              "      <th>thres</th>\n",
              "    </tr>\n",
              "  </thead>\n",
              "  <tbody>\n",
              "    <tr>\n",
              "      <th>0</th>\n",
              "      <td>0.646202</td>\n",
              "      <td>1.000000</td>\n",
              "      <td>-328.384050</td>\n",
              "    </tr>\n",
              "    <tr>\n",
              "      <th>1</th>\n",
              "      <td>0.646018</td>\n",
              "      <td>0.999195</td>\n",
              "      <td>-327.262918</td>\n",
              "    </tr>\n",
              "    <tr>\n",
              "      <th>2</th>\n",
              "      <td>0.646354</td>\n",
              "      <td>0.999195</td>\n",
              "      <td>-327.233638</td>\n",
              "    </tr>\n",
              "    <tr>\n",
              "      <th>3</th>\n",
              "      <td>0.646691</td>\n",
              "      <td>0.999195</td>\n",
              "      <td>-326.855389</td>\n",
              "    </tr>\n",
              "    <tr>\n",
              "      <th>4</th>\n",
              "      <td>0.647028</td>\n",
              "      <td>0.999195</td>\n",
              "      <td>-326.766583</td>\n",
              "    </tr>\n",
              "    <tr>\n",
              "      <th>...</th>\n",
              "      <td>...</td>\n",
              "      <td>...</td>\n",
              "      <td>...</td>\n",
              "    </tr>\n",
              "    <tr>\n",
              "      <th>1917</th>\n",
              "      <td>1.000000</td>\n",
              "      <td>0.004026</td>\n",
              "      <td>1110.462540</td>\n",
              "    </tr>\n",
              "    <tr>\n",
              "      <th>1918</th>\n",
              "      <td>1.000000</td>\n",
              "      <td>0.003221</td>\n",
              "      <td>1133.589255</td>\n",
              "    </tr>\n",
              "    <tr>\n",
              "      <th>1919</th>\n",
              "      <td>1.000000</td>\n",
              "      <td>0.002415</td>\n",
              "      <td>1139.144555</td>\n",
              "    </tr>\n",
              "    <tr>\n",
              "      <th>1920</th>\n",
              "      <td>1.000000</td>\n",
              "      <td>0.001610</td>\n",
              "      <td>1145.122552</td>\n",
              "    </tr>\n",
              "    <tr>\n",
              "      <th>1921</th>\n",
              "      <td>1.000000</td>\n",
              "      <td>0.000805</td>\n",
              "      <td>1266.168101</td>\n",
              "    </tr>\n",
              "  </tbody>\n",
              "</table>\n",
              "<p>1922 rows × 3 columns</p>\n",
              "</div>"
            ],
            "text/plain": [
              "      precision    recall        thres\n",
              "0      0.646202  1.000000  -328.384050\n",
              "1      0.646018  0.999195  -327.262918\n",
              "2      0.646354  0.999195  -327.233638\n",
              "3      0.646691  0.999195  -326.855389\n",
              "4      0.647028  0.999195  -326.766583\n",
              "...         ...       ...          ...\n",
              "1917   1.000000  0.004026  1110.462540\n",
              "1918   1.000000  0.003221  1133.589255\n",
              "1919   1.000000  0.002415  1139.144555\n",
              "1920   1.000000  0.001610  1145.122552\n",
              "1921   1.000000  0.000805  1266.168101\n",
              "\n",
              "[1922 rows x 3 columns]"
            ]
          },
          "metadata": {
            "tags": []
          },
          "execution_count": 54
        }
      ]
    },
    {
      "cell_type": "markdown",
      "metadata": {
        "id": "paGX-SDsV4Je"
      },
      "source": [
        "## 최소한의 리콜값 조건을 우선 선택하는 경우"
      ]
    },
    {
      "cell_type": "code",
      "metadata": {
        "id": "kJ_R4EfnV4Je",
        "outputId": "c8d20277-a64f-4986-d10f-9a8bd9e337f6",
        "colab": {
          "base_uri": "https://localhost:8080/"
        }
      },
      "source": [
        "# 처음으로 리콜값을 만족하지 않는 지점을 argmax로 찾는다\n",
        "recall_min = 0.995 # 원하는 리콜 최소값\n",
        "thres_cut = np.argmax(P.recall <= recall_min) - 1 # 조건을 만족하는 마지막 위치\n",
        "if thres_cut < 0: thres_cut = 0 # 첫 행이라 음수가 되는 것은 방지한다\n",
        "print(thres_cut)"
      ],
      "execution_count": 55,
      "outputs": [
        {
          "output_type": "stream",
          "text": [
            "218\n"
          ],
          "name": "stdout"
        }
      ]
    },
    {
      "cell_type": "code",
      "metadata": {
        "id": "qibsQDvkV4Je",
        "outputId": "fa98db73-ae06-4f81-fef8-f4465ffaa66d",
        "colab": {
          "base_uri": "https://localhost:8080/"
        }
      },
      "source": [
        "print(\"해당 지점의 정밀도\", P.precision[thres_cut])\n",
        "print(\"경계치 (threshold):\", P.thres[thres_cut])"
      ],
      "execution_count": 56,
      "outputs": [
        {
          "output_type": "stream",
          "text": [
            "해당 지점의 정밀도 0.7253521126760564\n",
            "경계치 (threshold): -206.24415722341695\n"
          ],
          "name": "stdout"
        }
      ]
    },
    {
      "cell_type": "code",
      "metadata": {
        "id": "k4fVNprkV4Jf",
        "outputId": "93e7aa2d-2082-43f5-8a68-0ea27b388972",
        "colab": {
          "base_uri": "https://localhost:8080/"
        }
      },
      "source": [
        "# 새로운 분류 경계치 thres_cut를 사용하여 분류를 다시 수행한다\n",
        "new_y_pred = Z[\"scores\"] >= P.thres[thres_cut]\n",
        "new_y_pred\n",
        "print(new_y_pred.sum())"
      ],
      "execution_count": 57,
      "outputs": [
        {
          "output_type": "stream",
          "text": [
            "1704\n"
          ],
          "name": "stdout"
        }
      ]
    },
    {
      "cell_type": "code",
      "metadata": {
        "id": "LN1B5cNMk2jT",
        "outputId": "7797a5a4-cff5-4614-c42b-f30f6bba66f7",
        "colab": {
          "base_uri": "https://localhost:8080/"
        }
      },
      "source": [
        "new_y_pred"
      ],
      "execution_count": 59,
      "outputs": [
        {
          "output_type": "execute_result",
          "data": {
            "text/plain": [
              "8241     True\n",
              "5026     True\n",
              "5191     True\n",
              "7215     True\n",
              "7974     True\n",
              "        ...  \n",
              "3918    False\n",
              "1154    False\n",
              "3090    False\n",
              "3285    False\n",
              "1506    False\n",
              "Name: scores, Length: 2500, dtype: bool"
            ]
          },
          "metadata": {
            "tags": []
          },
          "execution_count": 59
        }
      ]
    },
    {
      "cell_type": "code",
      "metadata": {
        "id": "88t9PXU7V4Jf"
      },
      "source": [
        "# 예측값이 True인 샘플만의 인덱스 얻기\n",
        "new_index = new_y_pred.index[new_y_pred]"
      ],
      "execution_count": 60,
      "outputs": []
    },
    {
      "cell_type": "code",
      "metadata": {
        "id": "TK_EXhdCV4Jf",
        "outputId": "c28fc98a-347d-4568-931a-b5d60130c85d",
        "colab": {
          "base_uri": "https://localhost:8080/"
        }
      },
      "source": [
        "new_index[:10]"
      ],
      "execution_count": 61,
      "outputs": [
        {
          "output_type": "execute_result",
          "data": {
            "text/plain": [
              "Int64Index([8241, 5026, 5191, 7215, 7974, 8104, 8620, 6966, 5069, 8692], dtype='int64')"
            ]
          },
          "metadata": {
            "tags": []
          },
          "execution_count": 61
        }
      ]
    },
    {
      "cell_type": "code",
      "metadata": {
        "id": "atIFuZdVV4Jg",
        "outputId": "762fe971-f1b2-425e-cf95-418552785aed",
        "colab": {
          "base_uri": "https://localhost:8080/"
        }
      },
      "source": [
        "len(new_index)"
      ],
      "execution_count": 62,
      "outputs": [
        {
          "output_type": "execute_result",
          "data": {
            "text/plain": [
              "1704"
            ]
          },
          "metadata": {
            "tags": []
          },
          "execution_count": 62
        }
      ]
    },
    {
      "cell_type": "code",
      "metadata": {
        "id": "wDdFa7VsV4Jh",
        "outputId": "246bf181-9be7-4622-8822-9836460f7d27",
        "colab": {
          "base_uri": "https://localhost:8080/",
          "height": 337
        }
      },
      "source": [
        "# 새로운 예측치 new_y_pred를 사용하여 예측값, 실제값, 분류 경계치 그리기\n",
        "N = 2500\n",
        "plt.figure(figsize=(10,5))\n",
        "plt.scatter(range(N), Z.y_test.values[:N], c='r', s=2)\n",
        "plt.plot(new_y_pred.values[:N], c='b')\n",
        "plt.plot(Z.scores_sc.values[:N], c='k')"
      ],
      "execution_count": 63,
      "outputs": [
        {
          "output_type": "execute_result",
          "data": {
            "text/plain": [
              "[<matplotlib.lines.Line2D at 0x7f8cb74a13d0>]"
            ]
          },
          "metadata": {
            "tags": []
          },
          "execution_count": 63
        },
        {
          "output_type": "display_data",
          "data": {
            "image/png": "[encoded data removed]",
            "text/plain": [
              "<Figure size 720x360 with 1 Axes>"
            ]
          },
          "metadata": {
            "tags": [],
            "image/png": {
              "width": 595,
              "height": 302
            },
            "needs_background": "light"
          }
        }
      ]
    },
    {
      "cell_type": "markdown",
      "metadata": {
        "id": "wc6Xe0awV4Jh"
      },
      "source": [
        "- 최소한의 리콜 값 변경"
      ]
    },
    {
      "cell_type": "code",
      "metadata": {
        "id": "kka2a2FDV4Ji",
        "outputId": "971f983e-9656-4da8-d55a-ae3327b9e034",
        "colab": {
          "base_uri": "https://localhost:8080/"
        }
      },
      "source": [
        "recall_min = 0.9\n",
        "thres_cut = np.argmax(P.recall <= recall_min) - 1 # 조건을 만족하는 마지막 위치\n",
        "if thres_cut < 0: thres_cut = 0 # 첫 행이라 음수가 되는 것은 방지한다\n",
        "print(thres_cut)"
      ],
      "execution_count": 64,
      "outputs": [
        {
          "output_type": "stream",
          "text": [
            "727\n"
          ],
          "name": "stdout"
        }
      ]
    },
    {
      "cell_type": "code",
      "metadata": {
        "id": "NW9l6nd7V4Ji",
        "outputId": "f66f2c48-feab-4588-dca8-1292fa8cd1b5",
        "colab": {
          "base_uri": "https://localhost:8080/"
        }
      },
      "source": [
        "print(\"해당 지점의 정밀도\", P.precision[thres_cut])\n",
        "print(\"경계치 (threshold):\", P.thres[thres_cut])"
      ],
      "execution_count": 65,
      "outputs": [
        {
          "output_type": "stream",
          "text": [
            "해당 지점의 정밀도 0.9355648535564853\n",
            "경계치 (threshold): 133.4258971164573\n"
          ],
          "name": "stdout"
        }
      ]
    },
    {
      "cell_type": "code",
      "metadata": {
        "id": "tWS6ZBBcV4Ji",
        "outputId": "40c4655f-ff18-45c3-cf1d-a767d8915070",
        "colab": {
          "base_uri": "https://localhost:8080/"
        }
      },
      "source": [
        "# 새로운 분류 경계치를 사용하여 분류를 다시 수행한다\n",
        "new_y_pred = Z[\"scores\"] >= P.thres[thres_cut]\n",
        "# 1로 예측된 샘플수\n",
        "new_y_pred.sum()"
      ],
      "execution_count": 66,
      "outputs": [
        {
          "output_type": "execute_result",
          "data": {
            "text/plain": [
              "1195"
            ]
          },
          "metadata": {
            "tags": []
          },
          "execution_count": 66
        }
      ]
    },
    {
      "cell_type": "code",
      "metadata": {
        "id": "6gSBQ6RGV4Jj",
        "outputId": "05114dce-15f8-438a-9af3-bbcfdc8d8f4c",
        "colab": {
          "base_uri": "https://localhost:8080/",
          "height": 337
        }
      },
      "source": [
        "# 새로운 예측치 new_y_pred를 사용하여 예측값, 실제값, 분류 경계치 그리기\n",
        "N = 2500\n",
        "plt.figure(figsize=(10,5))\n",
        "plt.scatter(range(N), Z.y_test.values[:N], c='r', s=2)\n",
        "plt.plot(new_y_pred.values[:N], c='b')\n",
        "plt.plot(Z.scores_sc.values[:N], c='k')"
      ],
      "execution_count": 67,
      "outputs": [
        {
          "output_type": "execute_result",
          "data": {
            "text/plain": [
              "[<matplotlib.lines.Line2D at 0x7f8cb7410c50>]"
            ]
          },
          "metadata": {
            "tags": []
          },
          "execution_count": 67
        },
        {
          "output_type": "display_data",
          "data": {
            "image/png": "[encoded data removed]",
            "text/plain": [
              "<Figure size 720x360 with 1 Axes>"
            ]
          },
          "metadata": {
            "tags": [],
            "image/png": {
              "width": 595,
              "height": 302
            },
            "needs_background": "light"
          }
        }
      ]
    },
    {
      "cell_type": "markdown",
      "metadata": {
        "id": "rnPQa2s1V4Jj"
      },
      "source": [
        "## 최소한의 정밀도를 우선 선택하는 경우"
      ]
    },
    {
      "cell_type": "code",
      "metadata": {
        "id": "dqmviIH-V4Jj"
      },
      "source": [
        "prec_min = 0.99\n",
        "thres_cut = np.argmax(P.precision >= prec_min)"
      ],
      "execution_count": 68,
      "outputs": []
    },
    {
      "cell_type": "code",
      "metadata": {
        "id": "yq9rShFpV4Jj",
        "outputId": "4bd25e1d-8710-4888-e57b-cb4e897aa685",
        "colab": {
          "base_uri": "https://localhost:8080/"
        }
      },
      "source": [
        "print(\"해당 지점의 리콜\", P.recall[thres_cut])\n",
        "print(\"경계치 threshold (이상):\", P.thres[thres_cut])"
      ],
      "execution_count": 69,
      "outputs": [
        {
          "output_type": "stream",
          "text": [
            "해당 지점의 리콜 0.6457326892109501\n",
            "경계치 threshold (이상): 360.6656402988038\n"
          ],
          "name": "stdout"
        }
      ]
    },
    {
      "cell_type": "code",
      "metadata": {
        "id": "9gvzbA_OV4Jk",
        "outputId": "53b64dc0-3806-4454-bc21-c7f8bd009c88",
        "colab": {
          "base_uri": "https://localhost:8080/"
        }
      },
      "source": [
        "# 새로운 예측치\n",
        "new_y_pred = Z[\"scores\"] >= P.thres[thres_cut]\n",
        "# 1로 예측된 샘플수\n",
        "new_y_pred.sum()"
      ],
      "execution_count": 70,
      "outputs": [
        {
          "output_type": "execute_result",
          "data": {
            "text/plain": [
              "810"
            ]
          },
          "metadata": {
            "tags": []
          },
          "execution_count": 70
        }
      ]
    },
    {
      "cell_type": "code",
      "metadata": {
        "id": "ktZ35oAFV4Jk",
        "outputId": "b48db988-4629-4317-ef4c-332ef2a302fc",
        "colab": {
          "base_uri": "https://localhost:8080/"
        }
      },
      "source": [
        "# 새로운 예측값의 인덱스 얻기\n",
        "new_index = new_y_pred.index[new_y_pred].tolist()\n",
        "len(new_index)"
      ],
      "execution_count": 71,
      "outputs": [
        {
          "output_type": "execute_result",
          "data": {
            "text/plain": [
              "810"
            ]
          },
          "metadata": {
            "tags": []
          },
          "execution_count": 71
        }
      ]
    },
    {
      "cell_type": "code",
      "metadata": {
        "id": "GZejxb2NV4Jk",
        "outputId": "4d0737bc-eb5f-417e-b040-76aaee246afe",
        "colab": {
          "base_uri": "https://localhost:8080/",
          "height": 337
        }
      },
      "source": [
        "# 새로운 예측치 new_y_pred를 사용하여 예측값, 실제값, 분류 경계치 그리기\n",
        "N = 2500\n",
        "plt.figure(figsize=(10,5))\n",
        "plt.scatter(range(N), Z.y_test.values[:N], c='r', s=2)\n",
        "plt.plot(new_y_pred.values[:N], c='b')\n",
        "plt.plot(Z.scores_sc.values[:N], c='k')"
      ],
      "execution_count": 72,
      "outputs": [
        {
          "output_type": "execute_result",
          "data": {
            "text/plain": [
              "[<matplotlib.lines.Line2D at 0x7f8cb7394790>]"
            ]
          },
          "metadata": {
            "tags": []
          },
          "execution_count": 72
        },
        {
          "output_type": "display_data",
          "data": {
            "image/png": "[encoded data removed]",
            "text/plain": [
              "<Figure size 720x360 with 1 Axes>"
            ]
          },
          "metadata": {
            "tags": [],
            "image/png": {
              "width": 595,
              "height": 302
            },
            "needs_background": "light"
          }
        }
      ]
    },
    {
      "cell_type": "markdown",
      "metadata": {
        "id": "rodiw_QGV4Jl"
      },
      "source": [
        "- 정밀도 변경"
      ]
    },
    {
      "cell_type": "code",
      "metadata": {
        "id": "XaqbJZUJV4Jl"
      },
      "source": [
        "prec_min = 0.995\n",
        "thres_cut = np.argmax(P.precision >= prec_min)"
      ],
      "execution_count": 73,
      "outputs": []
    },
    {
      "cell_type": "code",
      "metadata": {
        "id": "JTWRNuxvV4Jl",
        "outputId": "b439d0ff-c67f-42e5-d977-577cd2e1be75",
        "colab": {
          "base_uri": "https://localhost:8080/"
        }
      },
      "source": [
        "print(\"해당 지점의 리콜\", P.recall[thres_cut])\n",
        "print(\"경계치 threshold (이상):\", P.thres[thres_cut])"
      ],
      "execution_count": 74,
      "outputs": [
        {
          "output_type": "stream",
          "text": [
            "해당 지점의 리콜 0.4388083735909823\n",
            "경계치 threshold (이상): 506.37954766832496\n"
          ],
          "name": "stdout"
        }
      ]
    },
    {
      "cell_type": "code",
      "metadata": {
        "id": "U0hYQdyVV4Jm",
        "outputId": "47aee4d7-7429-4eed-e520-abfdcc76bb0c",
        "colab": {
          "base_uri": "https://localhost:8080/"
        }
      },
      "source": [
        "# 새로운 예측치\n",
        "new_y_pred = Z[\"scores\"] >= P.thres[thres_cut]\n",
        "new_y_pred.sum()"
      ],
      "execution_count": 75,
      "outputs": [
        {
          "output_type": "execute_result",
          "data": {
            "text/plain": [
              "547"
            ]
          },
          "metadata": {
            "tags": []
          },
          "execution_count": 75
        }
      ]
    },
    {
      "cell_type": "code",
      "metadata": {
        "id": "g575lW7HV4Jm",
        "outputId": "01605484-4994-4b56-b1f4-609e7f271837",
        "colab": {
          "base_uri": "https://localhost:8080/",
          "height": 337
        }
      },
      "source": [
        "# 새로운 예측치 new_y_pred를 사용하여 예측값, 실제값, 분류 경계치 그리기\n",
        "N = 2500\n",
        "plt.figure(figsize=(10,5))\n",
        "plt.scatter(range(N), Z.y_test.values[:N], c='r', s=2)\n",
        "plt.plot(new_y_pred.values[:N], c='b')\n",
        "plt.plot(Z.scores_sc.values[:N], c='k')"
      ],
      "execution_count": 76,
      "outputs": [
        {
          "output_type": "execute_result",
          "data": {
            "text/plain": [
              "[<matplotlib.lines.Line2D at 0x7f8cb7656090>]"
            ]
          },
          "metadata": {
            "tags": []
          },
          "execution_count": 76
        },
        {
          "output_type": "display_data",
          "data": {
            "image/png": "[encoded data removed]",
            "text/plain": [
              "<Figure size 720x360 with 1 Axes>"
            ]
          },
          "metadata": {
            "tags": [],
            "image/png": {
              "width": 595,
              "height": 302
            },
            "needs_background": "light"
          }
        }
      ]
    },
    {
      "cell_type": "code",
      "metadata": {
        "id": "g6aU9lP0V4Jm"
      },
      "source": [
        ""
      ],
      "execution_count": null,
      "outputs": []
    }
  ]
}