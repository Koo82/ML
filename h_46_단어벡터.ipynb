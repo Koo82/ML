{
  "nbformat": 4,
  "nbformat_minor": 0,
  "metadata": {
    "accelerator": "GPU",
    "colab": {
      "name": "g_49_단어벡터.ipynb",
      "provenance": [],
      "collapsed_sections": []
    },
    "kernelspec": {
      "display_name": "Python 3",
      "language": "python",
      "name": "python3"
    },
    "language_info": {
      "codemirror_mode": {
        "name": "ipython",
        "version": 3
      },
      "file_extension": ".py",
      "mimetype": "text/x-python",
      "name": "python",
      "nbconvert_exporter": "python",
      "pygments_lexer": "ipython3",
      "version": "3.7.6"
    },
    "toc": {
      "base_numbering": 1,
      "nav_menu": {},
      "number_sections": false,
      "sideBar": true,
      "skip_h1_title": false,
      "title_cell": "Table of Contents",
      "title_sidebar": "Contents",
      "toc_cell": false,
      "toc_position": {},
      "toc_section_display": true,
      "toc_window_display": true
    }
  },
  "cells": [
    {
      "cell_type": "markdown",
      "metadata": {
        "id": "RSiTy5MDXBnt"
      },
      "source": [
        "# 단어벡터\n",
        "- 빅카인즈 뉴스기사 데이터 활용(https://www.bigkinds.or.kr/)\n",
        "- kkma 사용\n",
        "- Word2Vec 사용"
      ]
    },
    {
      "cell_type": "markdown",
      "metadata": {
        "id": "6VHnsDHlXBn7"
      },
      "source": [
        "## 뉴스를 이용한 단어 벡터 생성"
      ]
    },
    {
      "cell_type": "code",
      "metadata": {
        "colab": {
          "base_uri": "https://localhost:8080/"
        },
        "id": "xDM2364masZe",
        "outputId": "0b9ba413-1475-4559-d8dd-45d73e7d6d69"
      },
      "source": [
        "!pip install konlpy"
      ],
      "execution_count": 17,
      "outputs": [
        {
          "output_type": "stream",
          "text": [
            "Requirement already satisfied: konlpy in /usr/local/lib/python3.7/dist-packages (0.5.2)\n",
            "Requirement already satisfied: colorama in /usr/local/lib/python3.7/dist-packages (from konlpy) (0.4.4)\n",
            "Requirement already satisfied: numpy>=1.6 in /usr/local/lib/python3.7/dist-packages (from konlpy) (1.19.5)\n",
            "Requirement already satisfied: tweepy>=3.7.0 in /usr/local/lib/python3.7/dist-packages (from konlpy) (3.10.0)\n",
            "Requirement already satisfied: beautifulsoup4==4.6.0 in /usr/local/lib/python3.7/dist-packages (from konlpy) (4.6.0)\n",
            "Requirement already satisfied: lxml>=4.1.0 in /usr/local/lib/python3.7/dist-packages (from konlpy) (4.2.6)\n",
            "Requirement already satisfied: JPype1>=0.7.0 in /usr/local/lib/python3.7/dist-packages (from konlpy) (1.3.0)\n",
            "Requirement already satisfied: six>=1.10.0 in /usr/local/lib/python3.7/dist-packages (from tweepy>=3.7.0->konlpy) (1.15.0)\n",
            "Requirement already satisfied: requests[socks]>=2.11.1 in /usr/local/lib/python3.7/dist-packages (from tweepy>=3.7.0->konlpy) (2.23.0)\n",
            "Requirement already satisfied: requests-oauthlib>=0.7.0 in /usr/local/lib/python3.7/dist-packages (from tweepy>=3.7.0->konlpy) (1.3.0)\n",
            "Requirement already satisfied: typing-extensions; python_version < \"3.8\" in /usr/local/lib/python3.7/dist-packages (from JPype1>=0.7.0->konlpy) (3.7.4.3)\n",
            "Requirement already satisfied: chardet<4,>=3.0.2 in /usr/local/lib/python3.7/dist-packages (from requests[socks]>=2.11.1->tweepy>=3.7.0->konlpy) (3.0.4)\n",
            "Requirement already satisfied: idna<3,>=2.5 in /usr/local/lib/python3.7/dist-packages (from requests[socks]>=2.11.1->tweepy>=3.7.0->konlpy) (2.10)\n",
            "Requirement already satisfied: urllib3!=1.25.0,!=1.25.1,<1.26,>=1.21.1 in /usr/local/lib/python3.7/dist-packages (from requests[socks]>=2.11.1->tweepy>=3.7.0->konlpy) (1.24.3)\n",
            "Requirement already satisfied: certifi>=2017.4.17 in /usr/local/lib/python3.7/dist-packages (from requests[socks]>=2.11.1->tweepy>=3.7.0->konlpy) (2021.5.30)\n",
            "Requirement already satisfied: PySocks!=1.5.7,>=1.5.6; extra == \"socks\" in /usr/local/lib/python3.7/dist-packages (from requests[socks]>=2.11.1->tweepy>=3.7.0->konlpy) (1.7.1)\n",
            "Requirement already satisfied: oauthlib>=3.0.0 in /usr/local/lib/python3.7/dist-packages (from requests-oauthlib>=0.7.0->tweepy>=3.7.0->konlpy) (3.1.1)\n"
          ],
          "name": "stdout"
        }
      ]
    },
    {
      "cell_type": "code",
      "metadata": {
        "id": "TcpN2NDuXBn9"
      },
      "source": [
        "from konlpy.tag import Kkma\n",
        "from gensim.models.word2vec import Word2Vec\n",
        "kkma = Kkma()"
      ],
      "execution_count": 18,
      "outputs": []
    },
    {
      "cell_type": "markdown",
      "metadata": {
        "id": "7R5lqDRhXBoy"
      },
      "source": [
        "## IT 뉴스기사를 이용한 단어 벡터"
      ]
    },
    {
      "cell_type": "code",
      "metadata": {
        "colab": {
          "base_uri": "https://localhost:8080/"
        },
        "id": "_xmQLbrQqNhq",
        "outputId": "62354b29-7153-4594-e2f9-e481eb9536bc"
      },
      "source": [
        "!wget https://bit.ly/2X7UON2 -O news2018.xlsx"
      ],
      "execution_count": 19,
      "outputs": [
        {
          "output_type": "stream",
          "text": [
            "--2021-06-17 08:20:29--  https://bit.ly/2X7UON2\n",
            "Resolving bit.ly (bit.ly)... 67.199.248.11, 67.199.248.10\n",
            "Connecting to bit.ly (bit.ly)|67.199.248.11|:443... connected.\n",
            "HTTP request sent, awaiting response... 301 Moved Permanently\n",
            "Location: https://www.dropbox.com/s/gr5jhlshp8m3iqn/NewsResult_20181128-20190228.xlsx [following]\n",
            "--2021-06-17 08:20:29--  https://www.dropbox.com/s/gr5jhlshp8m3iqn/NewsResult_20181128-20190228.xlsx\n",
            "Resolving www.dropbox.com (www.dropbox.com)... 162.125.1.18, 2620:100:6032:18::a27d:5212\n",
            "Connecting to www.dropbox.com (www.dropbox.com)|162.125.1.18|:443... connected.\n",
            "HTTP request sent, awaiting response... 301 Moved Permanently\n",
            "Location: /s/raw/gr5jhlshp8m3iqn/NewsResult_20181128-20190228.xlsx [following]\n",
            "--2021-06-17 08:20:29--  https://www.dropbox.com/s/raw/gr5jhlshp8m3iqn/NewsResult_20181128-20190228.xlsx\n",
            "Reusing existing connection to www.dropbox.com:443.\n",
            "HTTP request sent, awaiting response... 302 Found\n",
            "Location: https://ucf75fdbab1d955114a0acb6aac1.dl.dropboxusercontent.com/cd/0/inline/BQnfn7nsTfmT86yaJeVCMy0RVJiyDYrzNDXlDqh9RFJPi8oHkGmIS1vkHw_uz2CUYwgXE1W8T79hzSkEGou5FDDEoYyOCv1QWJ8VH_N3uGkNg4IBJsTYwtszqvdSNii_dL8vq0S6J0LbwXWSwT-J3NvT/file# [following]\n",
            "--2021-06-17 08:20:29--  https://ucf75fdbab1d955114a0acb6aac1.dl.dropboxusercontent.com/cd/0/inline/BQnfn7nsTfmT86yaJeVCMy0RVJiyDYrzNDXlDqh9RFJPi8oHkGmIS1vkHw_uz2CUYwgXE1W8T79hzSkEGou5FDDEoYyOCv1QWJ8VH_N3uGkNg4IBJsTYwtszqvdSNii_dL8vq0S6J0LbwXWSwT-J3NvT/file\n",
            "Resolving ucf75fdbab1d955114a0acb6aac1.dl.dropboxusercontent.com (ucf75fdbab1d955114a0acb6aac1.dl.dropboxusercontent.com)... 162.125.1.15, 2620:100:6016:15::a27d:10f\n",
            "Connecting to ucf75fdbab1d955114a0acb6aac1.dl.dropboxusercontent.com (ucf75fdbab1d955114a0acb6aac1.dl.dropboxusercontent.com)|162.125.1.15|:443... connected.\n",
            "HTTP request sent, awaiting response... 302 Found\n",
            "Location: /cd/0/inline2/BQnqHPu5SosV6Cjh7DuQOdsvRIw38CT_-J0AtUfT6HnRXzZV5qsgarLoveoViNpFGw9fdmn4QyREtEAUXhUe665VTFwpbNBXRbDYB0Dx07NifSb2QPPgYanWJ-f88Y8SBQoi-ZVMcHcMI6KYHP0pBOXrZx3lGJ58zPqU4eWIzeiz00UOezdpVXPRHwvQYmN7rSBv4scybOkbNJAHuH1P6upDuORF9nmV-zNmxZInmulbXeGRfYUWRF7H8iZDlpoW_vVZlhVwGwXDKjsbgWkHVrzuP7aPqznETaNhBtz0xT8nZgsOQJ6wdrFFMmFhUHEzCEAnC5c_RoqVMbGK8b23NvqYf0UBFlPMnEk643sjI0k11wuQ6BzSX2lGMzdS6nRlKgQ/file [following]\n",
            "--2021-06-17 08:20:30--  https://ucf75fdbab1d955114a0acb6aac1.dl.dropboxusercontent.com/cd/0/inline2/BQnqHPu5SosV6Cjh7DuQOdsvRIw38CT_-J0AtUfT6HnRXzZV5qsgarLoveoViNpFGw9fdmn4QyREtEAUXhUe665VTFwpbNBXRbDYB0Dx07NifSb2QPPgYanWJ-f88Y8SBQoi-ZVMcHcMI6KYHP0pBOXrZx3lGJ58zPqU4eWIzeiz00UOezdpVXPRHwvQYmN7rSBv4scybOkbNJAHuH1P6upDuORF9nmV-zNmxZInmulbXeGRfYUWRF7H8iZDlpoW_vVZlhVwGwXDKjsbgWkHVrzuP7aPqznETaNhBtz0xT8nZgsOQJ6wdrFFMmFhUHEzCEAnC5c_RoqVMbGK8b23NvqYf0UBFlPMnEk643sjI0k11wuQ6BzSX2lGMzdS6nRlKgQ/file\n",
            "Reusing existing connection to ucf75fdbab1d955114a0acb6aac1.dl.dropboxusercontent.com:443.\n",
            "HTTP request sent, awaiting response... 200 OK\n",
            "Length: 1832194 (1.7M) [application/vnd.openxmlformats-officedocument.spreadsheetml.sheet]\n",
            "Saving to: ‘news2018.xlsx’\n",
            "\n",
            "news2018.xlsx       100%[===================>]   1.75M  --.-KB/s    in 0.07s   \n",
            "\n",
            "2021-06-17 08:20:30 (26.2 MB/s) - ‘news2018.xlsx’ saved [1832194/1832194]\n",
            "\n"
          ],
          "name": "stdout"
        }
      ]
    },
    {
      "cell_type": "code",
      "metadata": {
        "id": "tGECncx5p1oY"
      },
      "source": [
        "import pandas as pd"
      ],
      "execution_count": 20,
      "outputs": []
    },
    {
      "cell_type": "code",
      "metadata": {
        "id": "XhXQmWurDdkD",
        "outputId": "db6bb4d7-bdf1-4746-eb0c-7fa061e66378",
        "colab": {
          "base_uri": "https://localhost:8080/"
        }
      },
      "source": [
        "!curl https://raw.githubusercontent.com/StillWork/data/master/news.xlsx\\\n",
        "    -o news.xlsx"
      ],
      "execution_count": 21,
      "outputs": [
        {
          "output_type": "stream",
          "text": [
            "  % Total    % Received % Xferd  Average Speed   Time    Time     Time  Current\n",
            "                                 Dload  Upload   Total   Spent    Left  Speed\n",
            "100 1789k  100 1789k    0     0  4708k      0 --:--:-- --:--:-- --:--:-- 4708k\n"
          ],
          "name": "stdout"
        }
      ]
    },
    {
      "cell_type": "code",
      "metadata": {
        "colab": {
          "base_uri": "https://localhost:8080/"
        },
        "id": "7hEHJK87qjTU",
        "outputId": "b6add0d4-e745-4999-b768-5f1dd6bd5f02"
      },
      "source": [
        "news = pd.read_excel(\"news.xlsx\")\n",
        "\n",
        "news[\"본문\"][:4]"
      ],
      "execution_count": 24,
      "outputs": [
        {
          "output_type": "execute_result",
          "data": {
            "text/plain": [
              "0    - 비핵화 수준 상응 조치 놓고\\n- 양국 협상팀 막판까지 ‘밀당’\\n- 1차 때와...\n",
              "1    김정은 국무위원장이 27일 시작되는 제2차 북미정상회담 성공을 위해 심혈을 기울이고...\n",
              "2    북미가 처음으로 정상 간 단독회담과 만찬을 가지며 또다시 새로운 역사 창조에 나섰다...\n",
              "3    지난해 9월 남북정상회담 당시 리선권 북한 조국평화통일위원장의 '냉면' 발언으로 정...\n",
              "Name: 본문, dtype: object"
            ]
          },
          "metadata": {
            "tags": []
          },
          "execution_count": 24
        }
      ]
    },
    {
      "cell_type": "code",
      "metadata": {
        "id": "PLxvtvPHD56f",
        "outputId": "7f1c3c7d-a7b9-4306-df0f-68b342e90f95",
        "colab": {
          "base_uri": "https://localhost:8080/",
          "height": 1000
        }
      },
      "source": [
        "news.head()"
      ],
      "execution_count": 25,
      "outputs": [
        {
          "output_type": "execute_result",
          "data": {
            "text/html": [
              "<div>\n",
              "<style scoped>\n",
              "    .dataframe tbody tr th:only-of-type {\n",
              "        vertical-align: middle;\n",
              "    }\n",
              "\n",
              "    .dataframe tbody tr th {\n",
              "        vertical-align: top;\n",
              "    }\n",
              "\n",
              "    .dataframe thead th {\n",
              "        text-align: right;\n",
              "    }\n",
              "</style>\n",
              "<table border=\"1\" class=\"dataframe\">\n",
              "  <thead>\n",
              "    <tr style=\"text-align: right;\">\n",
              "      <th></th>\n",
              "      <th>뉴스 식별자</th>\n",
              "      <th>일자</th>\n",
              "      <th>언론사</th>\n",
              "      <th>기고자</th>\n",
              "      <th>제목</th>\n",
              "      <th>통합 분류1</th>\n",
              "      <th>통합 분류2</th>\n",
              "      <th>통합 분류3</th>\n",
              "      <th>사건/사고 분류1</th>\n",
              "      <th>사건/사고 분류2</th>\n",
              "      <th>사건/사고 분류3</th>\n",
              "      <th>인물</th>\n",
              "      <th>위치</th>\n",
              "      <th>기관</th>\n",
              "      <th>키워드</th>\n",
              "      <th>특성추출</th>\n",
              "      <th>본문</th>\n",
              "      <th>URL</th>\n",
              "      <th>분석제외 여부</th>\n",
              "    </tr>\n",
              "  </thead>\n",
              "  <tbody>\n",
              "    <tr>\n",
              "      <th>0</th>\n",
              "      <td>1.500401e+06</td>\n",
              "      <td>20190228</td>\n",
              "      <td>국제신문</td>\n",
              "      <td>김태경 기자 tgkim@kookje.co.kr</td>\n",
              "      <td>빅딜이냐 스몰딜이냐 ‘영변 핵+α’ 로드맵 도출이 관건</td>\n",
              "      <td>정치&gt;북한</td>\n",
              "      <td>정치&gt;외교</td>\n",
              "      <td>NaN</td>\n",
              "      <td>NaN</td>\n",
              "      <td>NaN</td>\n",
              "      <td>NaN</td>\n",
              "      <td>김,도널드 트럼프,김의겸,김정은</td>\n",
              "      <td>북미,미국,하노이,서울,싱가포르,북한,리비아</td>\n",
              "      <td>북미,북미 정상회,미국,청와대,북미 정상회담,북한,국무위</td>\n",
              "      <td>빅딜,스몰딜,영변,로드맵,도출,비핵화,수준,상응,조치,막판,양국,협상팀,밀당,1차,...</td>\n",
              "      <td>북미,비핵화,미국,스몰딜,1차,정상회담,김정은,종전선언,연락사무소,하노이,영변,대변...</td>\n",
              "      <td>- 비핵화 수준 상응 조치 놓고\\n- 양국 협상팀 막판까지 ‘밀당’\\n- 1차 때와...</td>\n",
              "      <td>http://www.kookje.co.kr/news2011/asp/newsbody....</td>\n",
              "      <td>NaN</td>\n",
              "    </tr>\n",
              "    <tr>\n",
              "      <th>1</th>\n",
              "      <td>1.200201e+06</td>\n",
              "      <td>20190228</td>\n",
              "      <td>경인일보</td>\n",
              "      <td>조영상</td>\n",
              "      <td>하노이 도착후 실무대표단 청취 김정은, 북미회담 성공 '잰걸음'</td>\n",
              "      <td>국제&gt;국제일반</td>\n",
              "      <td>정치&gt;북한</td>\n",
              "      <td>NaN</td>\n",
              "      <td>NaN</td>\n",
              "      <td>NaN</td>\n",
              "      <td>NaN</td>\n",
              "      <td>김</td>\n",
              "      <td>북미,하노이,베트남</td>\n",
              "      <td>조선중앙통신,국무위</td>\n",
              "      <td>하노이,도착,실무대표단,청취,김정은,잰걸음,북미회담,성공,김정은,국무,위원장,시작,...</td>\n",
              "      <td>실무대표단,하노이,김정은,위원장,베트남,북미정상회담,북미회담,정상회담,조선중앙통신,...</td>\n",
              "      <td>김정은 국무위원장이 27일 시작되는 제2차 북미정상회담 성공을 위해 심혈을 기울이고...</td>\n",
              "      <td>http://www.kyeongin.com/main/view.php?key=2019...</td>\n",
              "      <td>NaN</td>\n",
              "    </tr>\n",
              "    <tr>\n",
              "      <th>2</th>\n",
              "      <td>1.200101e+06</td>\n",
              "      <td>20190228</td>\n",
              "      <td>경기일보</td>\n",
              "      <td>강해인 기자</td>\n",
              "      <td>트럼프-김정은 '2차 핵담판'</td>\n",
              "      <td>정치&gt;북한</td>\n",
              "      <td>정치&gt;청와대</td>\n",
              "      <td>정치&gt;외교</td>\n",
              "      <td>NaN</td>\n",
              "      <td>NaN</td>\n",
              "      <td>NaN</td>\n",
              "      <td>김,도널드 트럼프,마이크 폼페이오,믹 멀베이니,김영철,리용호,김정은,트럼프</td>\n",
              "      <td>금강산,카펠라,미국,하노이,일본,중국,싱가포르,북한,베트남,러시아</td>\n",
              "      <td>북미,미국,외무상,종전선언ㆍ평화협정,경기일보,노동당,윈-윈,플러스 알파,트위터,한국...</td>\n",
              "      <td>트럼프,김정은,2차,핵담판,북미,정상,단독회담,정상,만찬,역사,창조,도출,북측,폐기...</td>\n",
              "      <td>위원장,영변,김정은,비핵화,합의문,미국,베트남,8개월,단독회담,하노이,금강산관광,체...</td>\n",
              "      <td>북미가 처음으로 정상 간 단독회담과 만찬을 가지며 또다시 새로운 역사 창조에 나섰다...</td>\n",
              "      <td>www.kyeonggi.com/news/articleView.html?idxno=2...</td>\n",
              "      <td>NaN</td>\n",
              "    </tr>\n",
              "    <tr>\n",
              "      <th>3</th>\n",
              "      <td>1.600501e+06</td>\n",
              "      <td>20190228</td>\n",
              "      <td>무등일보</td>\n",
              "      <td>류성훈</td>\n",
              "      <td>(약수터)평양 냉면과 로저스</td>\n",
              "      <td>정치&gt;북한</td>\n",
              "      <td>정치&gt;외교</td>\n",
              "      <td>정치&gt;청와대</td>\n",
              "      <td>NaN</td>\n",
              "      <td>NaN</td>\n",
              "      <td>NaN</td>\n",
              "      <td>짐 로저스,도널드 트럼프,리선권,김정은,로저스,트럼프</td>\n",
              "      <td>한반도,평양,미국,일본,약수터,한국,북한</td>\n",
              "      <td>남한,옥류관,조국평화통일위,자유한국당,SK,남북결합,LG,북한,삼성,국무위,개성공단...</td>\n",
              "      <td>약수터,평양,냉면,로저스,9월,남북정상회담,리선권,북한,조국,평화,통일,위원장,냉면...</td>\n",
              "      <td>개성공단,로저스,리선권,위원장,김정은,남북정상회담,지하자원,민족끼리,남한,투자가,대...</td>\n",
              "      <td>지난해 9월 남북정상회담 당시 리선권 북한 조국평화통일위원장의 '냉면' 발언으로 정...</td>\n",
              "      <td>http://www.honam.co.kr/news_view.php?n=577616&amp;...</td>\n",
              "      <td>NaN</td>\n",
              "    </tr>\n",
              "    <tr>\n",
              "      <th>4</th>\n",
              "      <td>2.100501e+06</td>\n",
              "      <td>20190228</td>\n",
              "      <td>파이낸셜뉴스</td>\n",
              "      <td>파이낸셜뉴스</td>\n",
              "      <td>북미회담 뒤 남북교류 확대 예고 협력 법안들 다시 주목</td>\n",
              "      <td>정치&gt;행정_자치</td>\n",
              "      <td>정치&gt;국회_정당</td>\n",
              "      <td>정치&gt;북한</td>\n",
              "      <td>NaN</td>\n",
              "      <td>NaN</td>\n",
              "      <td>NaN</td>\n",
              "      <td>원혜영,김,임종성,박정,김재경,노웅래,김정우,소병훈</td>\n",
              "      <td>평양,하노이,판문점,남,북한,남북한</td>\n",
              "      <td>미국,민주당,더불어민주당,9.19,국회,남북교류,북한,방송통신위원회,과학기술정보통신...</td>\n",
              "      <td>북미회담,예고,남북교류,확대,협력,법안,주목,지자체,민간,교류,활성화,부처,논의,예...</td>\n",
              "      <td>개정안,협력사업,남북교류,활성화,지자체,더불어민주당,부처간,협의체,남북한,2차,남북...</td>\n",
              "      <td>지자체 민간 교류 활성화 대부분 \\n여, 부처간 논의 예산 지원 확대 \\n야, 사업...</td>\n",
              "      <td>http://www.fnnews.com/news/201902271720367713</td>\n",
              "      <td>NaN</td>\n",
              "    </tr>\n",
              "  </tbody>\n",
              "</table>\n",
              "</div>"
            ],
            "text/plain": [
              "         뉴스 식별자  ...  분석제외 여부\n",
              "0  1.500401e+06  ...      NaN\n",
              "1  1.200201e+06  ...      NaN\n",
              "2  1.200101e+06  ...      NaN\n",
              "3  1.600501e+06  ...      NaN\n",
              "4  2.100501e+06  ...      NaN\n",
              "\n",
              "[5 rows x 19 columns]"
            ]
          },
          "metadata": {
            "tags": []
          },
          "execution_count": 25
        }
      ]
    },
    {
      "cell_type": "code",
      "metadata": {
        "colab": {
          "base_uri": "https://localhost:8080/"
        },
        "id": "2Ka2_a8xq-P3",
        "outputId": "c404328b-cea4-46f0-a8c9-a31461ef65c6"
      },
      "source": [
        "sentence_list = []\n",
        "for sent in news[\"본문\"]:\n",
        "    \n",
        "    ## 명사만 추출\n",
        "    sent_kkma_pos = kkma.nouns(sent)\n",
        "    word_list = []\n",
        "    for word_pos in sent_kkma_pos:\n",
        "        word_list.append(word_pos)\n",
        "\n",
        "    sentence_list.append(word_list)\n",
        "\n",
        "print(sentence_list[0:3])"
      ],
      "execution_count": 26,
      "outputs": [
        {
          "output_type": "stream",
          "text": [
            "[['비핵화', '수준', '상응', '조치', '양국', '협상', '협상팀', '팀', '막판', '당', '1', '1차', '차', '때', '시간', '조율', '단계적', '접근', '동의', '예상', '종전', '종전선언', '선언', '연락', '연락사무소', '사무소', '개설', '등', '조건', '조건부', '부', '제재', '완화', '명시', '가능성', '북미', '북미회담', '회담', '빅딜', '성공', '김', '김정은', '정은', '답방', '결과', '연관', '북한', '국무', '국무위원장', '위원장', '도', '도널드', '널드', '트럼프', '미국', '대통령', '27', '27일', '일', '친교', '만찬'], ['김', '김정은', '정은', '국무', '국무위원장', '위원장', '27', '27일', '일', '시작', '저', '2', '2차', '차', '북미', '북미정상회담', '정상', '회담', '성공', '심혈', '조선', '조선중앙통신', '중앙', '통신', '이날', '26', '26일', '하노이', '도착', '리', '호텔', '실무', '실무대표단', '대표단', '보고', '조미', '수뇌', '수뇌회담', '성공적', '보장', '나라', '현지', '파견', '사이', '접촉', '정형', '결과', '을', '구체적', '청취'], ['북미', '처음', '정상', '간', '단독', '단독회담', '회담', '만찬', '역사', '창조', '결', '물', '도출', '북측', '영', '영변', '변', '핵', '핵시설', '시설', '폐기', '외', '추가', '추가적인', '적인', '비핵화', '조치', '미국', '금강산', '금강산관광', '관광', '등', '경제적', '체제', '체제보장', '보장', '여부', '양', '간', '톱', '담판', '김', '북한', '국무', '국무위원장', '위원장', '도', '도널드', '널드', '트럼프', '대통령', '27', '27일', '일', '오후', '6', '6시30분', '시', '30', '분', '현지', '현지시간', '시간']]\n"
          ],
          "name": "stdout"
        }
      ]
    },
    {
      "cell_type": "code",
      "metadata": {
        "id": "yL-9EebmEm7P",
        "outputId": "4aedac83-69ab-48de-e775-3070942a2fd5",
        "colab": {
          "base_uri": "https://localhost:8080/"
        }
      },
      "source": [
        "print(news[\"본문\"][0])\n",
        "print(sentence_list[0])"
      ],
      "execution_count": 27,
      "outputs": [
        {
          "output_type": "stream",
          "text": [
            "- 비핵화 수준 상응 조치 놓고\n",
            "- 양국 협상팀 막판까지 ‘밀당’\n",
            "- 1차 때와 달리 오랜 시간 조율\n",
            "\n",
            "- ‘단계적 접근’ 美 동의 수준 예상\n",
            "- 종전선언 연락사무소 개설 등\n",
            "- 조건부 제재 완화 명시 가능성\n",
            "\n",
            "- 靑 “북미회담, 빅딜만 성공아냐\n",
            "- 김정은 답방 회담 결과와 연관”\n",
            "\n",
            "김정은 북한 국무위원장과 도널드 트럼프 미국 대통령이 27일 친교 만찬..\n",
            "['비핵화', '수준', '상응', '조치', '양국', '협상', '협상팀', '팀', '막판', '당', '1', '1차', '차', '때', '시간', '조율', '단계적', '접근', '동의', '예상', '종전', '종전선언', '선언', '연락', '연락사무소', '사무소', '개설', '등', '조건', '조건부', '부', '제재', '완화', '명시', '가능성', '북미', '북미회담', '회담', '빅딜', '성공', '김', '김정은', '정은', '답방', '결과', '연관', '북한', '국무', '국무위원장', '위원장', '도', '도널드', '널드', '트럼프', '미국', '대통령', '27', '27일', '일', '친교', '만찬']\n"
          ],
          "name": "stdout"
        }
      ]
    },
    {
      "cell_type": "code",
      "metadata": {
        "colab": {
          "base_uri": "https://localhost:8080/"
        },
        "id": "dTq-vtCar0JC",
        "outputId": "f5a0d69a-b72e-4544-88e0-7a2740941cb1"
      },
      "source": [
        "news.shape"
      ],
      "execution_count": 28,
      "outputs": [
        {
          "output_type": "execute_result",
          "data": {
            "text/plain": [
              "(1543, 19)"
            ]
          },
          "metadata": {
            "tags": []
          },
          "execution_count": 28
        }
      ]
    },
    {
      "cell_type": "code",
      "metadata": {
        "colab": {
          "base_uri": "https://localhost:8080/"
        },
        "id": "WvEiKwbiXBo7",
        "outputId": "316a827b-0209-4df1-b673-6748714a0a2a"
      },
      "source": [
        "model = Word2Vec(sentence_list, size=100)\n",
        "model.most_similar(\"한국\")"
      ],
      "execution_count": 29,
      "outputs": [
        {
          "output_type": "stream",
          "text": [
            "/usr/local/lib/python3.7/dist-packages/ipykernel_launcher.py:2: DeprecationWarning: Call to deprecated `most_similar` (Method will be removed in 4.0.0, use self.wv.most_similar() instead).\n",
            "  \n"
          ],
          "name": "stderr"
        },
        {
          "output_type": "execute_result",
          "data": {
            "text/plain": [
              "[('자유', 0.9943894147872925),\n",
              " ('자유한국', 0.9943299889564514),\n",
              " ('당', 0.9905644655227661),\n",
              " ('민주당', 0.9896054267883301),\n",
              " ('평화체제', 0.9885010123252869),\n",
              " ('평화', 0.9856265783309937),\n",
              " ('체제', 0.9835289716720581),\n",
              " ('구축', 0.981266975402832),\n",
              " ('지점', 0.9808813333511353),\n",
              " ('대표', 0.9797285795211792)]"
            ]
          },
          "metadata": {
            "tags": []
          },
          "execution_count": 29
        }
      ]
    },
    {
      "cell_type": "code",
      "metadata": {
        "id": "K48AK2zLE7Dr",
        "outputId": "7bf38e86-92f5-4d2b-a3f2-9390ccea24f8",
        "colab": {
          "base_uri": "https://localhost:8080/"
        }
      },
      "source": [
        "dir(model)\n",
        "model.corpus_total_words\n",
        "# model.vocabulary.max_vocab_size"
      ],
      "execution_count": 37,
      "outputs": [
        {
          "output_type": "execute_result",
          "data": {
            "text/plain": [
              "75412"
            ]
          },
          "metadata": {
            "tags": []
          },
          "execution_count": 37
        }
      ]
    },
    {
      "cell_type": "code",
      "metadata": {
        "colab": {
          "base_uri": "https://localhost:8080/"
        },
        "id": "Pjiz6wLRXBpB",
        "outputId": "459cb8f5-830e-4ef9-8c23-cda0e726971a"
      },
      "source": [
        "print(model.similarity(\"트럼프\",\"미국\"))\n",
        "print(model.similarity(\"한국\",\"미국\"))"
      ],
      "execution_count": 38,
      "outputs": [
        {
          "output_type": "stream",
          "text": [
            "0.9974474\n",
            "0.4146674\n"
          ],
          "name": "stdout"
        },
        {
          "output_type": "stream",
          "text": [
            "/usr/local/lib/python3.7/dist-packages/ipykernel_launcher.py:1: DeprecationWarning: Call to deprecated `similarity` (Method will be removed in 4.0.0, use self.wv.similarity() instead).\n",
            "  \"\"\"Entry point for launching an IPython kernel.\n",
            "/usr/local/lib/python3.7/dist-packages/ipykernel_launcher.py:2: DeprecationWarning: Call to deprecated `similarity` (Method will be removed in 4.0.0, use self.wv.similarity() instead).\n",
            "  \n"
          ],
          "name": "stderr"
        }
      ]
    },
    {
      "cell_type": "code",
      "metadata": {
        "id": "hoTeDpZADdkH",
        "outputId": "5f363f45-e9a2-471a-bf47-095c8a3f02c1",
        "colab": {
          "base_uri": "https://localhost:8080/"
        }
      },
      "source": [
        "model.most_similar(positive=[\"한국\", '워싱턴'], negative=[\"서울\"])"
      ],
      "execution_count": 39,
      "outputs": [
        {
          "output_type": "stream",
          "text": [
            "/usr/local/lib/python3.7/dist-packages/ipykernel_launcher.py:1: DeprecationWarning: Call to deprecated `most_similar` (Method will be removed in 4.0.0, use self.wv.most_similar() instead).\n",
            "  \"\"\"Entry point for launching an IPython kernel.\n"
          ],
          "name": "stderr"
        },
        {
          "output_type": "execute_result",
          "data": {
            "text/plain": [
              "[('자유', 0.9844969511032104),\n",
              " ('자유한국', 0.9843839406967163),\n",
              " ('평화체제', 0.9817108511924744),\n",
              " ('민주당', 0.981248140335083),\n",
              " ('평화', 0.9810206890106201),\n",
              " ('당', 0.9786221981048584),\n",
              " ('지점', 0.978023886680603),\n",
              " ('체제', 0.9741573333740234),\n",
              " ('북미관계', 0.9728603959083557),\n",
              " ('구축', 0.9714318513870239)]"
            ]
          },
          "metadata": {
            "tags": []
          },
          "execution_count": 39
        }
      ]
    },
    {
      "cell_type": "code",
      "metadata": {
        "id": "vODz1G9-Flnm"
      },
      "source": [
        ""
      ],
      "execution_count": null,
      "outputs": []
    }
  ]
}