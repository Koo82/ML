{
  "nbformat": 4,
  "nbformat_minor": 0,
  "metadata": {
    "colab": {
      "name": "g_07_파일다루기.ipynb",
      "provenance": [],
      "collapsed_sections": []
    },
    "kernelspec": {
      "display_name": "Python 3",
      "language": "python",
      "name": "python3"
    },
    "language_info": {
      "codemirror_mode": {
        "name": "ipython",
        "version": 3
      },
      "file_extension": ".py",
      "mimetype": "text/x-python",
      "name": "python",
      "nbconvert_exporter": "python",
      "pygments_lexer": "ipython3",
      "version": "3.7.6"
    },
    "toc": {
      "base_numbering": 1,
      "nav_menu": {},
      "number_sections": false,
      "sideBar": true,
      "skip_h1_title": false,
      "title_cell": "Table of Contents",
      "title_sidebar": "Contents",
      "toc_cell": false,
      "toc_position": {},
      "toc_section_display": true,
      "toc_window_display": true
    }
  },
  "cells": [
    {
      "cell_type": "markdown",
      "metadata": {
        "id": "TtBie6SsIiVY"
      },
      "source": [
        "# 파일 다루기\n",
        "- 파일 열기 open(), with로 열기\n",
        "- csv, xlsx 파일 다루기\n",
        "- zip 파일 다루기\n",
        "- 폴더 내 파일 목록 다루기 (glob, listdir)\n",
        "- 폴더/파일 생성과 삭제"
      ]
    },
    {
      "cell_type": "markdown",
      "metadata": {
        "id": "jLfWrjIzYyFK"
      },
      "source": [
        "## 파일 열기"
      ]
    },
    {
      "cell_type": "code",
      "metadata": {
        "id": "L05r6BjGYyFN"
      },
      "source": [
        "# 쓰기 전용으로 파일 열기 (write)\n",
        "# 파일이 없으면 새로 만든다\n",
        "f = open(\"test.csv\", \"w\")\n",
        "f.write(\"a,b,c,d,e \\n\")\n",
        "f.write(\"1,2,3,4,5 \\n\")\n",
        "f.close()"
      ],
      "execution_count": 1,
      "outputs": []
    },
    {
      "cell_type": "code",
      "metadata": {
        "colab": {
          "base_uri": "https://localhost:8080/"
        },
        "id": "kNjfBalRYyFS",
        "outputId": "728959cf-d9e1-4d76-e37a-c790ac5016b1"
      },
      "source": [
        "# 파일 내용 보기\n",
        "with open('test.csv') as f:\n",
        "    contents = f.read()\n",
        "    print(contents)"
      ],
      "execution_count": 2,
      "outputs": [
        {
          "output_type": "stream",
          "text": [
            "a,b,c,d,e \n",
            "1,2,3,4,5 \n",
            "\n"
          ],
          "name": "stdout"
        }
      ]
    },
    {
      "cell_type": "code",
      "metadata": {
        "id": "nssl2XdLK-zD",
        "outputId": "14e2806c-750f-46b2-86e8-5688283ca173",
        "colab": {
          "base_uri": "https://localhost:8080/"
        }
      },
      "source": [
        "!ls"
      ],
      "execution_count": 5,
      "outputs": [
        {
          "output_type": "stream",
          "text": [
            "sample_data  test.csv\n"
          ],
          "name": "stdout"
        }
      ]
    },
    {
      "cell_type": "markdown",
      "metadata": {
        "id": "6bm2iB-RIiVl"
      },
      "source": [
        "### with 사용\n",
        "- 파일을 열 때 with를 사용하면, 해당 블록을 나갈 때 열린 파일을 닫는다\n",
        "- 즉, close 호출을 잊어버려도 안전하게 파일을 닫는다"
      ]
    },
    {
      "cell_type": "code",
      "metadata": {
        "colab": {
          "base_uri": "https://localhost:8080/"
        },
        "id": "tkkkgXiuIiVl",
        "outputId": "3871f0c8-0e5c-4931-ae6f-3158c8e9740f"
      },
      "source": [
        "# 운영체제 명령으로 보기\n",
        "!cat test.csv  # 리눅스나 맥에서\n",
        "# !type test.csv # 윈도우에서"
      ],
      "execution_count": 7,
      "outputs": [
        {
          "output_type": "stream",
          "text": [
            "a,b,c,d,e \n",
            "1,2,3,4,5 \n"
          ],
          "name": "stdout"
        }
      ]
    },
    {
      "cell_type": "markdown",
      "metadata": {
        "id": "hIhIolvRYyFi"
      },
      "source": [
        "### 파일 오픈 옵션\n",
        "'r'\t읽기 (디폴트)  \n",
        "'w'\t쓰기 (파일이 없었으면 새로 생성하며 이미 있었으면 덮어쓴다)  \n",
        "'a'\t맨 뒤에 추가 (appending), 파일이 없었으면 새로 생성  \n",
        "'t'\t텍스트 모드로 오픈 (디폴트)  \n",
        "'b'\t바이너리 모드로 오픈  \n",
        "'+'\t읽기 쓰기 모두 가능  "
      ]
    },
    {
      "cell_type": "code",
      "metadata": {
        "id": "EI1JWjfPYyFX"
      },
      "source": [
        "# 기존 파일에 추가하는 옵션으로 파일 열기 (append)\n",
        "with open(\"test.csv\", \"a\") as f:\n",
        "    f.write(\"6,7,8,9,10 \\n\")\n",
        "    f.write(\"11,12,13,14,15 \\n\")\n",
        "    f.write(\"16,17,18,19,20 \\n\")"
      ],
      "execution_count": 8,
      "outputs": []
    },
    {
      "cell_type": "code",
      "metadata": {
        "colab": {
          "base_uri": "https://localhost:8080/"
        },
        "id": "triCLfbsYyFb",
        "outputId": "a7e76aa5-b9fd-4615-ddfd-956f9b40d08e"
      },
      "source": [
        "with open('test.csv') as f: \n",
        "    print(f.read())"
      ],
      "execution_count": 9,
      "outputs": [
        {
          "output_type": "stream",
          "text": [
            "a,b,c,d,e \n",
            "1,2,3,4,5 \n",
            "6,7,8,9,10 \n",
            "11,12,13,14,15 \n",
            "16,17,18,19,20 \n",
            "\n"
          ],
          "name": "stdout"
        }
      ]
    },
    {
      "cell_type": "markdown",
      "metadata": {
        "id": "fVLEoLwUIiVo"
      },
      "source": [
        "### 한줄씩 읽기, readline()"
      ]
    },
    {
      "cell_type": "code",
      "metadata": {
        "id": "8RxcZFcLIiVo",
        "outputId": "c7f92125-fd68-4dd8-959b-22c3171a5fff",
        "colab": {
          "base_uri": "https://localhost:8080/"
        }
      },
      "source": [
        "with open(\"test.csv\",'r') as f:\n",
        "    while True:\n",
        "        line = f.readline()\n",
        "        if not line: \n",
        "            break\n",
        "        print(line)"
      ],
      "execution_count": 10,
      "outputs": [
        {
          "output_type": "stream",
          "text": [
            "a,b,c,d,e \n",
            "\n",
            "1,2,3,4,5 \n",
            "\n",
            "6,7,8,9,10 \n",
            "\n",
            "11,12,13,14,15 \n",
            "\n",
            "16,17,18,19,20 \n",
            "\n"
          ],
          "name": "stdout"
        }
      ]
    },
    {
      "cell_type": "markdown",
      "metadata": {
        "id": "RJtf13t_IiVp"
      },
      "source": [
        "### 리스트로 한번에 읽기,  readlines()"
      ]
    },
    {
      "cell_type": "code",
      "metadata": {
        "id": "aEXcu0nQIiVp",
        "outputId": "46d8556e-3148-4023-e029-eef4baf06c91",
        "colab": {
          "base_uri": "https://localhost:8080/"
        }
      },
      "source": [
        "with open(\"test.csv\",'r') as f:\n",
        "    lines = f.readlines()\n",
        "    print(lines)"
      ],
      "execution_count": 11,
      "outputs": [
        {
          "output_type": "stream",
          "text": [
            "['a,b,c,d,e \\n', '1,2,3,4,5 \\n', '6,7,8,9,10 \\n', '11,12,13,14,15 \\n', '16,17,18,19,20 \\n']\n"
          ],
          "name": "stdout"
        }
      ]
    },
    {
      "cell_type": "markdown",
      "metadata": {
        "id": "va8RSmNxIiVq"
      },
      "source": [
        "## csv 파일을 데이터프레임으로 바로 읽기"
      ]
    },
    {
      "cell_type": "code",
      "metadata": {
        "colab": {
          "base_uri": "https://localhost:8080/",
          "height": 173
        },
        "id": "v0qkwUKOYyFs",
        "outputId": "fc2fce9e-d20e-4d7d-d828-26717e958976"
      },
      "source": [
        "import pandas as pd \n",
        "\n",
        "df = pd.read_csv('test.csv')  \n",
        "df\n",
        "# 디폴트로 첫 행을 컬럼명으로 사용한다"
      ],
      "execution_count": 12,
      "outputs": [
        {
          "output_type": "execute_result",
          "data": {
            "text/html": [
              "<div>\n",
              "<style scoped>\n",
              "    .dataframe tbody tr th:only-of-type {\n",
              "        vertical-align: middle;\n",
              "    }\n",
              "\n",
              "    .dataframe tbody tr th {\n",
              "        vertical-align: top;\n",
              "    }\n",
              "\n",
              "    .dataframe thead th {\n",
              "        text-align: right;\n",
              "    }\n",
              "</style>\n",
              "<table border=\"1\" class=\"dataframe\">\n",
              "  <thead>\n",
              "    <tr style=\"text-align: right;\">\n",
              "      <th></th>\n",
              "      <th>a</th>\n",
              "      <th>b</th>\n",
              "      <th>c</th>\n",
              "      <th>d</th>\n",
              "      <th>e</th>\n",
              "    </tr>\n",
              "  </thead>\n",
              "  <tbody>\n",
              "    <tr>\n",
              "      <th>0</th>\n",
              "      <td>1</td>\n",
              "      <td>2</td>\n",
              "      <td>3</td>\n",
              "      <td>4</td>\n",
              "      <td>5</td>\n",
              "    </tr>\n",
              "    <tr>\n",
              "      <th>1</th>\n",
              "      <td>6</td>\n",
              "      <td>7</td>\n",
              "      <td>8</td>\n",
              "      <td>9</td>\n",
              "      <td>10</td>\n",
              "    </tr>\n",
              "    <tr>\n",
              "      <th>2</th>\n",
              "      <td>11</td>\n",
              "      <td>12</td>\n",
              "      <td>13</td>\n",
              "      <td>14</td>\n",
              "      <td>15</td>\n",
              "    </tr>\n",
              "    <tr>\n",
              "      <th>3</th>\n",
              "      <td>16</td>\n",
              "      <td>17</td>\n",
              "      <td>18</td>\n",
              "      <td>19</td>\n",
              "      <td>20</td>\n",
              "    </tr>\n",
              "  </tbody>\n",
              "</table>\n",
              "</div>"
            ],
            "text/plain": [
              "    a   b   c   d  e \n",
              "0   1   2   3   4   5\n",
              "1   6   7   8   9  10\n",
              "2  11  12  13  14  15\n",
              "3  16  17  18  19  20"
            ]
          },
          "metadata": {
            "tags": []
          },
          "execution_count": 12
        }
      ]
    },
    {
      "cell_type": "markdown",
      "metadata": {
        "id": "mk1tpffeIiVr"
      },
      "source": [
        "### 첫 행도 데이터로 취급하기\n",
        "- 헤더(컬럼명 등)가 없는 경우, 즉 데이터만 들어있는 경우\n",
        "- header=None 사용\n",
        "- 여러 행의 헤더가 있는 경우는 header= 2 등으로 행을 제거한다"
      ]
    },
    {
      "cell_type": "code",
      "metadata": {
        "colab": {
          "base_uri": "https://localhost:8080/",
          "height": 204
        },
        "id": "R-Ch0w36YyF0",
        "outputId": "2cf704ef-4089-4b9e-fbd4-cbbff1b8b09e"
      },
      "source": [
        "pd.read_csv('test.csv', header=None) "
      ],
      "execution_count": 13,
      "outputs": [
        {
          "output_type": "execute_result",
          "data": {
            "text/html": [
              "<div>\n",
              "<style scoped>\n",
              "    .dataframe tbody tr th:only-of-type {\n",
              "        vertical-align: middle;\n",
              "    }\n",
              "\n",
              "    .dataframe tbody tr th {\n",
              "        vertical-align: top;\n",
              "    }\n",
              "\n",
              "    .dataframe thead th {\n",
              "        text-align: right;\n",
              "    }\n",
              "</style>\n",
              "<table border=\"1\" class=\"dataframe\">\n",
              "  <thead>\n",
              "    <tr style=\"text-align: right;\">\n",
              "      <th></th>\n",
              "      <th>0</th>\n",
              "      <th>1</th>\n",
              "      <th>2</th>\n",
              "      <th>3</th>\n",
              "      <th>4</th>\n",
              "    </tr>\n",
              "  </thead>\n",
              "  <tbody>\n",
              "    <tr>\n",
              "      <th>0</th>\n",
              "      <td>a</td>\n",
              "      <td>b</td>\n",
              "      <td>c</td>\n",
              "      <td>d</td>\n",
              "      <td>e</td>\n",
              "    </tr>\n",
              "    <tr>\n",
              "      <th>1</th>\n",
              "      <td>1</td>\n",
              "      <td>2</td>\n",
              "      <td>3</td>\n",
              "      <td>4</td>\n",
              "      <td>5</td>\n",
              "    </tr>\n",
              "    <tr>\n",
              "      <th>2</th>\n",
              "      <td>6</td>\n",
              "      <td>7</td>\n",
              "      <td>8</td>\n",
              "      <td>9</td>\n",
              "      <td>10</td>\n",
              "    </tr>\n",
              "    <tr>\n",
              "      <th>3</th>\n",
              "      <td>11</td>\n",
              "      <td>12</td>\n",
              "      <td>13</td>\n",
              "      <td>14</td>\n",
              "      <td>15</td>\n",
              "    </tr>\n",
              "    <tr>\n",
              "      <th>4</th>\n",
              "      <td>16</td>\n",
              "      <td>17</td>\n",
              "      <td>18</td>\n",
              "      <td>19</td>\n",
              "      <td>20</td>\n",
              "    </tr>\n",
              "  </tbody>\n",
              "</table>\n",
              "</div>"
            ],
            "text/plain": [
              "    0   1   2   3    4\n",
              "0   a   b   c   d   e \n",
              "1   1   2   3   4   5 \n",
              "2   6   7   8   9  10 \n",
              "3  11  12  13  14  15 \n",
              "4  16  17  18  19  20 "
            ]
          },
          "metadata": {
            "tags": []
          },
          "execution_count": 13
        }
      ]
    },
    {
      "cell_type": "code",
      "metadata": {
        "id": "v-eyk7xDIiVr",
        "outputId": "8c5df4fb-ed5b-475c-fae8-afd50350d420",
        "colab": {
          "base_uri": "https://localhost:8080/",
          "height": 111
        }
      },
      "source": [
        "pd.read_csv('test.csv', header=2) # 상위 세개의 행 제거"
      ],
      "execution_count": 14,
      "outputs": [
        {
          "output_type": "execute_result",
          "data": {
            "text/html": [
              "<div>\n",
              "<style scoped>\n",
              "    .dataframe tbody tr th:only-of-type {\n",
              "        vertical-align: middle;\n",
              "    }\n",
              "\n",
              "    .dataframe tbody tr th {\n",
              "        vertical-align: top;\n",
              "    }\n",
              "\n",
              "    .dataframe thead th {\n",
              "        text-align: right;\n",
              "    }\n",
              "</style>\n",
              "<table border=\"1\" class=\"dataframe\">\n",
              "  <thead>\n",
              "    <tr style=\"text-align: right;\">\n",
              "      <th></th>\n",
              "      <th>6</th>\n",
              "      <th>7</th>\n",
              "      <th>8</th>\n",
              "      <th>9</th>\n",
              "      <th>10</th>\n",
              "    </tr>\n",
              "  </thead>\n",
              "  <tbody>\n",
              "    <tr>\n",
              "      <th>0</th>\n",
              "      <td>11</td>\n",
              "      <td>12</td>\n",
              "      <td>13</td>\n",
              "      <td>14</td>\n",
              "      <td>15</td>\n",
              "    </tr>\n",
              "    <tr>\n",
              "      <th>1</th>\n",
              "      <td>16</td>\n",
              "      <td>17</td>\n",
              "      <td>18</td>\n",
              "      <td>19</td>\n",
              "      <td>20</td>\n",
              "    </tr>\n",
              "  </tbody>\n",
              "</table>\n",
              "</div>"
            ],
            "text/plain": [
              "    6   7   8   9  10 \n",
              "0  11  12  13  14   15\n",
              "1  16  17  18  19   20"
            ]
          },
          "metadata": {
            "tags": []
          },
          "execution_count": 14
        }
      ]
    },
    {
      "cell_type": "code",
      "metadata": {
        "colab": {
          "base_uri": "https://localhost:8080/",
          "height": 204
        },
        "id": "qH7oCCzlYyF4",
        "outputId": "2b298d61-3e0b-4541-b68f-7a57cdfeec50"
      },
      "source": [
        "# 컬럼명 지정하기\n",
        "pd.read_csv('test.csv', names=['A','B','C','D','E'])"
      ],
      "execution_count": 15,
      "outputs": [
        {
          "output_type": "execute_result",
          "data": {
            "text/html": [
              "<div>\n",
              "<style scoped>\n",
              "    .dataframe tbody tr th:only-of-type {\n",
              "        vertical-align: middle;\n",
              "    }\n",
              "\n",
              "    .dataframe tbody tr th {\n",
              "        vertical-align: top;\n",
              "    }\n",
              "\n",
              "    .dataframe thead th {\n",
              "        text-align: right;\n",
              "    }\n",
              "</style>\n",
              "<table border=\"1\" class=\"dataframe\">\n",
              "  <thead>\n",
              "    <tr style=\"text-align: right;\">\n",
              "      <th></th>\n",
              "      <th>A</th>\n",
              "      <th>B</th>\n",
              "      <th>C</th>\n",
              "      <th>D</th>\n",
              "      <th>E</th>\n",
              "    </tr>\n",
              "  </thead>\n",
              "  <tbody>\n",
              "    <tr>\n",
              "      <th>0</th>\n",
              "      <td>a</td>\n",
              "      <td>b</td>\n",
              "      <td>c</td>\n",
              "      <td>d</td>\n",
              "      <td>e</td>\n",
              "    </tr>\n",
              "    <tr>\n",
              "      <th>1</th>\n",
              "      <td>1</td>\n",
              "      <td>2</td>\n",
              "      <td>3</td>\n",
              "      <td>4</td>\n",
              "      <td>5</td>\n",
              "    </tr>\n",
              "    <tr>\n",
              "      <th>2</th>\n",
              "      <td>6</td>\n",
              "      <td>7</td>\n",
              "      <td>8</td>\n",
              "      <td>9</td>\n",
              "      <td>10</td>\n",
              "    </tr>\n",
              "    <tr>\n",
              "      <th>3</th>\n",
              "      <td>11</td>\n",
              "      <td>12</td>\n",
              "      <td>13</td>\n",
              "      <td>14</td>\n",
              "      <td>15</td>\n",
              "    </tr>\n",
              "    <tr>\n",
              "      <th>4</th>\n",
              "      <td>16</td>\n",
              "      <td>17</td>\n",
              "      <td>18</td>\n",
              "      <td>19</td>\n",
              "      <td>20</td>\n",
              "    </tr>\n",
              "  </tbody>\n",
              "</table>\n",
              "</div>"
            ],
            "text/plain": [
              "    A   B   C   D    E\n",
              "0   a   b   c   d   e \n",
              "1   1   2   3   4   5 \n",
              "2   6   7   8   9  10 \n",
              "3  11  12  13  14  15 \n",
              "4  16  17  18  19  20 "
            ]
          },
          "metadata": {
            "tags": []
          },
          "execution_count": 15
        }
      ]
    },
    {
      "cell_type": "code",
      "metadata": {
        "colab": {
          "base_uri": "https://localhost:8080/",
          "height": 111
        },
        "id": "W1V223-HYyF_",
        "outputId": "561140e6-d95a-4960-8515-c3d92fe68c09"
      },
      "source": [
        "# 일부 행만 읽기 nrows 사용\n",
        "df2 = pd.read_csv('test.csv', nrows=2)\n",
        "df2"
      ],
      "execution_count": 16,
      "outputs": [
        {
          "output_type": "execute_result",
          "data": {
            "text/html": [
              "<div>\n",
              "<style scoped>\n",
              "    .dataframe tbody tr th:only-of-type {\n",
              "        vertical-align: middle;\n",
              "    }\n",
              "\n",
              "    .dataframe tbody tr th {\n",
              "        vertical-align: top;\n",
              "    }\n",
              "\n",
              "    .dataframe thead th {\n",
              "        text-align: right;\n",
              "    }\n",
              "</style>\n",
              "<table border=\"1\" class=\"dataframe\">\n",
              "  <thead>\n",
              "    <tr style=\"text-align: right;\">\n",
              "      <th></th>\n",
              "      <th>a</th>\n",
              "      <th>b</th>\n",
              "      <th>c</th>\n",
              "      <th>d</th>\n",
              "      <th>e</th>\n",
              "    </tr>\n",
              "  </thead>\n",
              "  <tbody>\n",
              "    <tr>\n",
              "      <th>0</th>\n",
              "      <td>1</td>\n",
              "      <td>2</td>\n",
              "      <td>3</td>\n",
              "      <td>4</td>\n",
              "      <td>5</td>\n",
              "    </tr>\n",
              "    <tr>\n",
              "      <th>1</th>\n",
              "      <td>6</td>\n",
              "      <td>7</td>\n",
              "      <td>8</td>\n",
              "      <td>9</td>\n",
              "      <td>10</td>\n",
              "    </tr>\n",
              "  </tbody>\n",
              "</table>\n",
              "</div>"
            ],
            "text/plain": [
              "   a  b  c  d  e \n",
              "0  1  2  3  4   5\n",
              "1  6  7  8  9  10"
            ]
          },
          "metadata": {
            "tags": []
          },
          "execution_count": 16
        }
      ]
    },
    {
      "cell_type": "markdown",
      "metadata": {
        "id": "Ol3Es7UkIiVt"
      },
      "source": [
        "## csv 파일로 출력\n",
        "- 판다스의 to_csv() 사용"
      ]
    },
    {
      "cell_type": "code",
      "metadata": {
        "id": "Blcj2UY7YyGG"
      },
      "source": [
        "df.to_csv('output.csv')"
      ],
      "execution_count": 22,
      "outputs": []
    },
    {
      "cell_type": "code",
      "metadata": {
        "colab": {
          "base_uri": "https://localhost:8080/"
        },
        "id": "qoid5f5rYyGK",
        "outputId": "ea03c5b2-8d78-4904-9b51-90d14dcbb444"
      },
      "source": [
        "with open('output.csv') as f: print(f.read())"
      ],
      "execution_count": 23,
      "outputs": [
        {
          "output_type": "stream",
          "text": [
            ",a,b,c,d,e \n",
            "0,1,2,3,4,5\n",
            "1,6,7,8,9,10\n",
            "2,11,12,13,14,15\n",
            "3,16,17,18,19,20\n",
            "\n"
          ],
          "name": "stdout"
        }
      ]
    },
    {
      "cell_type": "markdown",
      "metadata": {
        "id": "bFFFswUKIiVt"
      },
      "source": [
        "- 데이터 프레임의 인덱스도 포함되어 저장된다\n",
        "- 인덱스를 제거하려면, index=False 를 지정한다"
      ]
    },
    {
      "cell_type": "code",
      "metadata": {
        "scrolled": true,
        "id": "hpPW0OS3IiVu",
        "outputId": "c9e35a60-1eb7-43e8-aaaf-56350cee7479",
        "colab": {
          "base_uri": "https://localhost:8080/"
        }
      },
      "source": [
        "df.to_csv('output.csv', index=False)\n",
        "with open('output.csv') as f: print(f.read())"
      ],
      "execution_count": 19,
      "outputs": [
        {
          "output_type": "stream",
          "text": [
            "a,b,c,d,e \n",
            "1,2,3,4,5\n",
            "6,7,8,9,10\n",
            "11,12,13,14,15\n",
            "16,17,18,19,20\n",
            "\n"
          ],
          "name": "stdout"
        }
      ]
    },
    {
      "cell_type": "code",
      "metadata": {
        "id": "DouRWuAyIiVu",
        "outputId": "72a14679-03ed-43b2-94df-2ba390e8d3da",
        "colab": {
          "base_uri": "https://localhost:8080/",
          "height": 173
        }
      },
      "source": [
        "# csv 파일 읽기\n",
        "# 앞의 pandas 예제에서 cities.csv를 만들어 저장한 경우\n",
        "# df2 = pd.read_csv('cities.csv')  \n",
        "df2 = pd.read_csv('output.csv')  \n",
        "df2"
      ],
      "execution_count": 24,
      "outputs": [
        {
          "output_type": "execute_result",
          "data": {
            "text/html": [
              "<div>\n",
              "<style scoped>\n",
              "    .dataframe tbody tr th:only-of-type {\n",
              "        vertical-align: middle;\n",
              "    }\n",
              "\n",
              "    .dataframe tbody tr th {\n",
              "        vertical-align: top;\n",
              "    }\n",
              "\n",
              "    .dataframe thead th {\n",
              "        text-align: right;\n",
              "    }\n",
              "</style>\n",
              "<table border=\"1\" class=\"dataframe\">\n",
              "  <thead>\n",
              "    <tr style=\"text-align: right;\">\n",
              "      <th></th>\n",
              "      <th>Unnamed: 0</th>\n",
              "      <th>a</th>\n",
              "      <th>b</th>\n",
              "      <th>c</th>\n",
              "      <th>d</th>\n",
              "      <th>e</th>\n",
              "    </tr>\n",
              "  </thead>\n",
              "  <tbody>\n",
              "    <tr>\n",
              "      <th>0</th>\n",
              "      <td>0</td>\n",
              "      <td>1</td>\n",
              "      <td>2</td>\n",
              "      <td>3</td>\n",
              "      <td>4</td>\n",
              "      <td>5</td>\n",
              "    </tr>\n",
              "    <tr>\n",
              "      <th>1</th>\n",
              "      <td>1</td>\n",
              "      <td>6</td>\n",
              "      <td>7</td>\n",
              "      <td>8</td>\n",
              "      <td>9</td>\n",
              "      <td>10</td>\n",
              "    </tr>\n",
              "    <tr>\n",
              "      <th>2</th>\n",
              "      <td>2</td>\n",
              "      <td>11</td>\n",
              "      <td>12</td>\n",
              "      <td>13</td>\n",
              "      <td>14</td>\n",
              "      <td>15</td>\n",
              "    </tr>\n",
              "    <tr>\n",
              "      <th>3</th>\n",
              "      <td>3</td>\n",
              "      <td>16</td>\n",
              "      <td>17</td>\n",
              "      <td>18</td>\n",
              "      <td>19</td>\n",
              "      <td>20</td>\n",
              "    </tr>\n",
              "  </tbody>\n",
              "</table>\n",
              "</div>"
            ],
            "text/plain": [
              "   Unnamed: 0   a   b   c   d  e \n",
              "0           0   1   2   3   4   5\n",
              "1           1   6   7   8   9  10\n",
              "2           2  11  12  13  14  15\n",
              "3           3  16  17  18  19  20"
            ]
          },
          "metadata": {
            "tags": []
          },
          "execution_count": 24
        }
      ]
    },
    {
      "cell_type": "markdown",
      "metadata": {
        "id": "aIed8goQIiVv"
      },
      "source": [
        "### 액셀 파일 읽기"
      ]
    },
    {
      "cell_type": "code",
      "metadata": {
        "scrolled": true,
        "id": "QSRJHIwWIiVv"
      },
      "source": [
        "# 앞의 pandas 예제에서 cities.xlsx 를 만들어 저장한 경우\n",
        "# df2 = pd.read_excel('cities.xlsx')  \n",
        "# df2"
      ],
      "execution_count": 27,
      "outputs": []
    },
    {
      "cell_type": "markdown",
      "metadata": {
        "id": "mD29qcT4IiVv"
      },
      "source": [
        "### 액셀 한글 인코딩\n",
        "- 문자의 인코딩은 기본적으로 utf-8 을 사용한다\n",
        "- 그러나 한글의 경우 다른 인코딩으로 저장되는 경우가 있다\n",
        " - MS 액셀에서 csv로 저장할 때 한글이 cpc949로 인코딩된다. 이때는 아래 옵션이 필요하다\n",
        " - encoding = 'cpc949'"
      ]
    },
    {
      "cell_type": "markdown",
      "metadata": {
        "id": "dMCfHTkoIiVv"
      },
      "source": [
        "## zip 파일 만들기, 읽기"
      ]
    },
    {
      "cell_type": "code",
      "metadata": {
        "id": "581nShhNIiVw"
      },
      "source": [
        "import zipfile\n",
        "with zipfile.ZipFile('output.zip', 'w') as myzip:\n",
        "    myzip.write('output.csv')"
      ],
      "execution_count": 28,
      "outputs": []
    },
    {
      "cell_type": "code",
      "metadata": {
        "id": "sLxdRmG-IiVw",
        "outputId": "3cb905d1-393c-4e4e-e679-e87e266d725e",
        "colab": {
          "base_uri": "https://localhost:8080/"
        }
      },
      "source": [
        "# 파일 탐색하기 (global command)\n",
        "from glob import glob\n",
        "glob('*')"
      ],
      "execution_count": 31,
      "outputs": [
        {
          "output_type": "execute_result",
          "data": {
            "text/plain": [
              "['output.zip', 'output.csv', 'test.csv', 'sample_data']"
            ]
          },
          "metadata": {
            "tags": []
          },
          "execution_count": 31
        }
      ]
    },
    {
      "cell_type": "markdown",
      "metadata": {
        "id": "ncw9KFInIiVw"
      },
      "source": [
        "### zip 파일 풀기"
      ]
    },
    {
      "cell_type": "code",
      "metadata": {
        "id": "BIKuyEKbIiVx",
        "outputId": "1d6d2eaa-4ba6-4d06-90eb-5121e29cf3c1",
        "colab": {
          "base_uri": "https://localhost:8080/"
        }
      },
      "source": [
        "with zipfile.ZipFile(\"output.zip\", 'r') as zf: \n",
        "    print(zf.namelist()) # 포한된 파일명 보기\n",
        "    zf.extractall() # 하위 폴더 지정 가능"
      ],
      "execution_count": 30,
      "outputs": [
        {
          "output_type": "stream",
          "text": [
            "['output.csv']\n"
          ],
          "name": "stdout"
        }
      ]
    },
    {
      "cell_type": "markdown",
      "metadata": {
        "id": "gDh6NqCqYyGO"
      },
      "source": [
        "glob('*')"
      ]
    },
    {
      "cell_type": "code",
      "metadata": {
        "id": "5T2RPt9IIiVx"
      },
      "source": [
        "# 파일 삭제\n",
        "import os\n",
        "# !ls\n",
        "os.remove('output.zip')"
      ],
      "execution_count": 33,
      "outputs": []
    },
    {
      "cell_type": "code",
      "metadata": {
        "id": "B437AnYkM7je",
        "outputId": "d722dbed-158a-4c7b-b176-7184b507ecb4",
        "colab": {
          "base_uri": "https://localhost:8080/"
        }
      },
      "source": [
        "!ls"
      ],
      "execution_count": 34,
      "outputs": [
        {
          "output_type": "stream",
          "text": [
            "output.csv  sample_data  test.csv\n"
          ],
          "name": "stdout"
        }
      ]
    },
    {
      "cell_type": "markdown",
      "metadata": {
        "id": "lJvPGWRTIiVx"
      },
      "source": [
        "# 폴더 작업"
      ]
    },
    {
      "cell_type": "markdown",
      "metadata": {
        "id": "Wi1L7AYgIiVy"
      },
      "source": [
        "## 현재 폴더 위치 보기"
      ]
    },
    {
      "cell_type": "code",
      "metadata": {
        "colab": {
          "base_uri": "https://localhost:8080/",
          "height": 35
        },
        "id": "0Ew5j9rRYyGP",
        "outputId": "948eb503-eba5-4eaa-9dab-5ae0a59a6ba5"
      },
      "source": [
        "cur_dir = os.getcwd()\n",
        "cur_dir"
      ],
      "execution_count": 35,
      "outputs": [
        {
          "output_type": "execute_result",
          "data": {
            "application/vnd.google.colaboratory.intrinsic+json": {
              "type": "string"
            },
            "text/plain": [
              "'/content'"
            ]
          },
          "metadata": {
            "tags": []
          },
          "execution_count": 35
        }
      ]
    },
    {
      "cell_type": "markdown",
      "metadata": {
        "id": "jvNaVPDIIiVy"
      },
      "source": [
        "## 현재 폴더의 파일 목록 얻기\n",
        "- glob() 사용\n",
        "- listdir() 사용\n",
        "- walk() 사용"
      ]
    },
    {
      "cell_type": "markdown",
      "metadata": {
        "id": "v-eJdCf8IiVz"
      },
      "source": [
        "### glob()를 사용"
      ]
    },
    {
      "cell_type": "code",
      "metadata": {
        "id": "stxbf9snIiVz",
        "outputId": "2361665b-c8ee-4c30-d371-e768ec8888c3",
        "colab": {
          "base_uri": "https://localhost:8080/"
        }
      },
      "source": [
        "# 파일 목록 얻기\n",
        "from glob import glob\n",
        "sorted(glob('*.*'))"
      ],
      "execution_count": 37,
      "outputs": [
        {
          "output_type": "execute_result",
          "data": {
            "text/plain": [
              "['output.csv', 'test.csv']"
            ]
          },
          "metadata": {
            "tags": []
          },
          "execution_count": 37
        }
      ]
    },
    {
      "cell_type": "markdown",
      "metadata": {
        "id": "CoFixAKPIiVz"
      },
      "source": [
        "### listdir()를 사용"
      ]
    },
    {
      "cell_type": "code",
      "metadata": {
        "colab": {
          "base_uri": "https://localhost:8080/"
        },
        "id": "UgWWmlW6YyGV",
        "outputId": "a5a1a065-c3c2-46d1-c138-407470e46bd6"
      },
      "source": [
        "# 파일과 폴더 목록 얻기\n",
        "file_list = os.listdir()\n",
        "sorted(file_list)"
      ],
      "execution_count": 38,
      "outputs": [
        {
          "output_type": "execute_result",
          "data": {
            "text/plain": [
              "['.config', 'output.csv', 'sample_data', 'test.csv']"
            ]
          },
          "metadata": {
            "tags": []
          },
          "execution_count": 38
        }
      ]
    },
    {
      "cell_type": "code",
      "metadata": {
        "id": "6cpN8875IiV0",
        "outputId": "04fc8ef5-9718-472b-ce54-a18bae7cd90f",
        "colab": {
          "base_uri": "https://localhost:8080/"
        }
      },
      "source": [
        "# 파일의 전체 경로, full path 만들기\n",
        "cur_dir = os.getcwd()\n",
        "for file_name in file_list:\n",
        "    full_path = os.path.join(cur_dir, file_name)\n",
        "    print(full_path)"
      ],
      "execution_count": 39,
      "outputs": [
        {
          "output_type": "stream",
          "text": [
            "/content/.config\n",
            "/content/output.csv\n",
            "/content/test.csv\n",
            "/content/sample_data\n"
          ],
          "name": "stdout"
        }
      ]
    },
    {
      "cell_type": "markdown",
      "metadata": {
        "id": "GgH6KdpgIiV0"
      },
      "source": [
        "### 폴더 찾기"
      ]
    },
    {
      "cell_type": "code",
      "metadata": {
        "id": "8xU22oVcIiV0",
        "outputId": "16f5f905-e6ae-4ec0-fcdc-b6e8d38faeb3",
        "colab": {
          "base_uri": "https://localhost:8080/"
        }
      },
      "source": [
        "for file_name in file_list:\n",
        "    if os.path.isdir(file_name):\n",
        "        print(\"폴더:\", file_name)"
      ],
      "execution_count": 40,
      "outputs": [
        {
          "output_type": "stream",
          "text": [
            "폴더: .config\n",
            "폴더: sample_data\n"
          ],
          "name": "stdout"
        }
      ]
    },
    {
      "cell_type": "markdown",
      "metadata": {
        "id": "qic1ltIlIiV1"
      },
      "source": [
        "### walk() 사용하기\n",
        "- os.walk()를 사용하면 경로, 폴더, 파일명을 한번에 찾아준다"
      ]
    },
    {
      "cell_type": "code",
      "metadata": {
        "id": "qSJTkGCpIiV1",
        "outputId": "a8c10847-f41d-4ac4-fd22-7c4ac99b828f",
        "colab": {
          "base_uri": "https://localhost:8080/"
        }
      },
      "source": [
        "# 모든 하위의 하위 폴더를 검색하여 확장자가 .ipynb인 파일을 찾는다\n",
        "for (path, dir, files) in os.walk(cur_dir):\n",
        "    print(\"\\n\")\n",
        "    print(\"경로: \", path)\n",
        "    print(\"폴더: \", dir)\n",
        "    print(\"모든 파일:\")\n",
        "    for file_name in files:\n",
        "        extention = os.path.splitext(file_name)[-1]\n",
        "        if extention == \".ipynb\":\n",
        "            print(file_name)"
      ],
      "execution_count": 41,
      "outputs": [
        {
          "output_type": "stream",
          "text": [
            "\n",
            "\n",
            "경로:  /content\n",
            "폴더:  ['.config', 'sample_data']\n",
            "모든 파일:\n",
            "\n",
            "\n",
            "경로:  /content/.config\n",
            "폴더:  ['configurations', 'logs']\n",
            "모든 파일:\n",
            "\n",
            "\n",
            "경로:  /content/.config/configurations\n",
            "폴더:  []\n",
            "모든 파일:\n",
            "\n",
            "\n",
            "경로:  /content/.config/logs\n",
            "폴더:  ['2021.05.06']\n",
            "모든 파일:\n",
            "\n",
            "\n",
            "경로:  /content/.config/logs/2021.05.06\n",
            "폴더:  []\n",
            "모든 파일:\n",
            "\n",
            "\n",
            "경로:  /content/sample_data\n",
            "폴더:  []\n",
            "모든 파일:\n"
          ],
          "name": "stdout"
        }
      ]
    },
    {
      "cell_type": "code",
      "metadata": {
        "id": "tzRujJzJYyGX"
      },
      "source": [
        "## 기타 폴더 및 파일 관리\n",
        "### os 패키지에서\n",
        "- 폴더 생성 mkdir()\n",
        "- 폴더 위치 이동 chdir()\n",
        "- 파일 이름 변경 rename()\n",
        "- 파일 삭제 remove()\n",
        "- 폴더 삭제 rmdir()"
      ],
      "execution_count": null,
      "outputs": []
    },
    {
      "cell_type": "code",
      "metadata": {
        "id": "YmnSa70WIiV2"
      },
      "source": [
        "# 폴더가 없으면 새로 만들기\n",
        "if not os.path.exists(\"./data\"):\n",
        "    os.mkdir(\"./data\")"
      ],
      "execution_count": 42,
      "outputs": []
    },
    {
      "cell_type": "code",
      "metadata": {
        "id": "L4a8jt7IOqSM",
        "outputId": "d957f3b0-fb14-44f2-84f9-175965c8ed8f",
        "colab": {
          "base_uri": "https://localhost:8080/"
        }
      },
      "source": [
        "!ls"
      ],
      "execution_count": 43,
      "outputs": [
        {
          "output_type": "stream",
          "text": [
            "data  output.csv  sample_data  test.csv\n"
          ],
          "name": "stdout"
        }
      ]
    },
    {
      "cell_type": "code",
      "metadata": {
        "id": "cplIwuZWIiV2"
      },
      "source": [
        "# 폴더 이동\n",
        "os.chdir('./data')"
      ],
      "execution_count": 44,
      "outputs": []
    },
    {
      "cell_type": "code",
      "metadata": {
        "id": "jMEZnDZ7IiV2",
        "outputId": "26fbb9a3-797a-4333-b496-5feb7304a07d",
        "colab": {
          "base_uri": "https://localhost:8080/",
          "height": 35
        }
      },
      "source": [
        "os.getcwd()"
      ],
      "execution_count": 45,
      "outputs": [
        {
          "output_type": "execute_result",
          "data": {
            "application/vnd.google.colaboratory.intrinsic+json": {
              "type": "string"
            },
            "text/plain": [
              "'/content/data'"
            ]
          },
          "metadata": {
            "tags": []
          },
          "execution_count": 45
        }
      ]
    },
    {
      "cell_type": "code",
      "metadata": {
        "id": "YB4RdUvwIiV3"
      },
      "source": [
        "# 폴더 이동\n",
        "os.chdir('../')"
      ],
      "execution_count": 46,
      "outputs": []
    },
    {
      "cell_type": "code",
      "metadata": {
        "id": "1Qt7N5U0IiV3",
        "outputId": "a88dba10-17c1-41ed-f673-cec7c80244e9",
        "colab": {
          "base_uri": "https://localhost:8080/",
          "height": 35
        }
      },
      "source": [
        "os.getcwd()"
      ],
      "execution_count": 47,
      "outputs": [
        {
          "output_type": "execute_result",
          "data": {
            "application/vnd.google.colaboratory.intrinsic+json": {
              "type": "string"
            },
            "text/plain": [
              "'/content'"
            ]
          },
          "metadata": {
            "tags": []
          },
          "execution_count": 47
        }
      ]
    },
    {
      "cell_type": "code",
      "metadata": {
        "colab": {
          "base_uri": "https://localhost:8080/"
        },
        "id": "xZF6FRGgYyGg",
        "scrolled": false,
        "outputId": "a1d9646e-3c0a-4558-95ac-0daa6331d19d"
      },
      "source": [
        "# 파일 이름 변경\n",
        "os.rename('output.csv','new_output.csv')\n",
        "with open('new_output.csv') as f: print(f.read())"
      ],
      "execution_count": 48,
      "outputs": [
        {
          "output_type": "stream",
          "text": [
            ",a,b,c,d,e \n",
            "0,1,2,3,4,5\n",
            "1,6,7,8,9,10\n",
            "2,11,12,13,14,15\n",
            "3,16,17,18,19,20\n",
            "\n"
          ],
          "name": "stdout"
        }
      ]
    },
    {
      "cell_type": "code",
      "metadata": {
        "id": "BLeYXOiQIiV4"
      },
      "source": [
        "# 파일 삭제\n",
        "os.remove('new_output.csv')"
      ],
      "execution_count": 49,
      "outputs": []
    },
    {
      "cell_type": "code",
      "metadata": {
        "id": "NH8Oj3HVIiV4"
      },
      "source": [
        "# 폴더 삭제\n",
        "os.rmdir('./data')"
      ],
      "execution_count": 50,
      "outputs": []
    },
    {
      "cell_type": "code",
      "metadata": {
        "id": "tybft7mUOyg7",
        "outputId": "0b75bb01-5cc3-44d7-c1a0-8231eca91a45",
        "colab": {
          "base_uri": "https://localhost:8080/"
        }
      },
      "source": [
        "!ls"
      ],
      "execution_count": 51,
      "outputs": [
        {
          "output_type": "stream",
          "text": [
            "sample_data  test.csv\n"
          ],
          "name": "stdout"
        }
      ]
    },
    {
      "cell_type": "code",
      "metadata": {
        "id": "1kdbQpqnOzey"
      },
      "source": [
        ""
      ],
      "execution_count": null,
      "outputs": []
    }
  ]
}