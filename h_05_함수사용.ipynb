{
  "nbformat": 4,
  "nbformat_minor": 0,
  "metadata": {
    "kernelspec": {
      "display_name": "Python 3",
      "language": "python",
      "name": "python3"
    },
    "language_info": {
      "codemirror_mode": {
        "name": "ipython",
        "version": 3
      },
      "file_extension": ".py",
      "mimetype": "text/x-python",
      "name": "python",
      "nbconvert_exporter": "python",
      "pygments_lexer": "ipython3",
      "version": "3.7.6"
    },
    "toc": {
      "base_numbering": 1,
      "nav_menu": {},
      "number_sections": false,
      "sideBar": true,
      "skip_h1_title": false,
      "title_cell": "Table of Contents",
      "title_sidebar": "Contents",
      "toc_cell": false,
      "toc_position": {
        "height": "calc(100% - 180px)",
        "left": "10px",
        "top": "150px",
        "width": "169.667px"
      },
      "toc_section_display": true,
      "toc_window_display": false
    },
    "colab": {
      "name": "h_05_함수사용.ipynb",
      "provenance": []
    }
  },
  "cells": [
    {
      "cell_type": "markdown",
      "metadata": {
        "id": "0q3LbniDUhwA"
      },
      "source": [
        "# 함수 사용\n",
        "- 파이썬의 장점은 데이터를 다루는 방식이 직관적이고 편리하다는 것\n",
        "- 데이터에 적용되는 다양한 함수 사용법을 다룬다\n",
        "- def, \\*args, **kwargs, lambda, map, apply"
      ]
    },
    {
      "cell_type": "markdown",
      "metadata": {
        "id": "EhVa2gRWUhwL"
      },
      "source": [
        "## def \n",
        "- 반복 사용되는 작업은 함수로 만들어 두면 편리하게 다시 사용할 수 있다\n",
        "- 함수를 정의할 때 def를 사용한다\n",
        "- 함수를 호출할 때 인자를 넘겨줄 수 있다\n",
        "- 함수 실행 결과로 어떤 값을 받으려면 return 문을 사용한다"
      ]
    },
    {
      "cell_type": "code",
      "metadata": {
        "id": "j4E2l56rUhwN"
      },
      "source": [
        "import pandas as pd\n",
        "import numpy as np"
      ],
      "execution_count": 1,
      "outputs": []
    },
    {
      "cell_type": "code",
      "metadata": {
        "id": "eUU5zzfPUhwO"
      },
      "source": [
        "# 함수 정의 (리턴 값이 없는 함수)\n",
        "def my_func(): \n",
        "    print(\"작업을 수행했습니다...\")"
      ],
      "execution_count": 2,
      "outputs": []
    },
    {
      "cell_type": "code",
      "metadata": {
        "id": "avGPuDfnUhwO",
        "outputId": "3ea98867-3e9f-47ed-c9a0-507fbe58a120",
        "colab": {
          "base_uri": "https://localhost:8080/"
        }
      },
      "source": [
        "# 함수 호출 \n",
        "my_func()"
      ],
      "execution_count": 3,
      "outputs": [
        {
          "output_type": "stream",
          "text": [
            "작업을 수행했습니다...\n"
          ],
          "name": "stdout"
        }
      ]
    },
    {
      "cell_type": "code",
      "metadata": {
        "id": "zITtC3M0UhwQ",
        "outputId": "2b52ca9e-dc3e-407b-adad-81b6fc9efde0",
        "colab": {
          "base_uri": "https://localhost:8080/"
        }
      },
      "source": [
        "# 리턴 값이 있는 함수 정의\n",
        "def my_func(): \n",
        "    return 100\n",
        "\n",
        "y = my_func()\n",
        "y"
      ],
      "execution_count": 4,
      "outputs": [
        {
          "output_type": "execute_result",
          "data": {
            "text/plain": [
              "100"
            ]
          },
          "metadata": {
            "tags": []
          },
          "execution_count": 4
        }
      ]
    },
    {
      "cell_type": "code",
      "metadata": {
        "id": "KpIOpxlzUhwR",
        "outputId": "3aae0a9d-f04b-43ef-e260-eb20e91f4702",
        "colab": {
          "base_uri": "https://localhost:8080/"
        }
      },
      "source": [
        "# 인자가 있는 함수 정의\n",
        "def my_func(a,b,c): \n",
        "    return a*100 + b*10 + c\n",
        "\n",
        "y = my_func(1, 2, 3)\n",
        "y"
      ],
      "execution_count": 5,
      "outputs": [
        {
          "output_type": "execute_result",
          "data": {
            "text/plain": [
              "123"
            ]
          },
          "metadata": {
            "tags": []
          },
          "execution_count": 5
        }
      ]
    },
    {
      "cell_type": "code",
      "metadata": {
        "id": "jaW9DF6lUhwR"
      },
      "source": [
        "# 인자의 디폴트 값을 지정하는 함수 정의\n",
        "def my_func(a=1,b=2,c=3): \n",
        "    return a*100 + b*10 + c"
      ],
      "execution_count": 6,
      "outputs": []
    },
    {
      "cell_type": "code",
      "metadata": {
        "id": "R4-N1uO4UhwS",
        "outputId": "ee662a5e-82b1-4453-f9fb-2262ed6e0b8c",
        "colab": {
          "base_uri": "https://localhost:8080/"
        }
      },
      "source": [
        "# 다양한 함수 호출이 가능\n",
        "my_func()"
      ],
      "execution_count": 7,
      "outputs": [
        {
          "output_type": "execute_result",
          "data": {
            "text/plain": [
              "123"
            ]
          },
          "metadata": {
            "tags": []
          },
          "execution_count": 7
        }
      ]
    },
    {
      "cell_type": "code",
      "metadata": {
        "id": "ZWmdA5M-UhwT",
        "outputId": "098db2d5-a55c-43a3-87d8-2549fc97cd5d",
        "colab": {
          "base_uri": "https://localhost:8080/"
        }
      },
      "source": [
        "my_func(b=2, c=1, a=3)"
      ],
      "execution_count": 8,
      "outputs": [
        {
          "output_type": "execute_result",
          "data": {
            "text/plain": [
              "321"
            ]
          },
          "metadata": {
            "tags": []
          },
          "execution_count": 8
        }
      ]
    },
    {
      "cell_type": "code",
      "metadata": {
        "id": "W3jVbJYaUhwT",
        "outputId": "574e00a9-7d9b-4618-b9ec-7c64203c8423",
        "colab": {
          "base_uri": "https://localhost:8080/"
        }
      },
      "source": [
        "# 첫번째 인자만 지정\n",
        "my_func(5)"
      ],
      "execution_count": 9,
      "outputs": [
        {
          "output_type": "execute_result",
          "data": {
            "text/plain": [
              "523"
            ]
          },
          "metadata": {
            "tags": []
          },
          "execution_count": 9
        }
      ]
    },
    {
      "cell_type": "code",
      "metadata": {
        "id": "pmQnUMRWUhwU",
        "outputId": "e41c8b08-ec15-455f-defd-c669721969d7",
        "colab": {
          "base_uri": "https://localhost:8080/"
        }
      },
      "source": [
        "# 두개의 인자만 지정\n",
        "my_func(7,8)"
      ],
      "execution_count": 10,
      "outputs": [
        {
          "output_type": "execute_result",
          "data": {
            "text/plain": [
              "783"
            ]
          },
          "metadata": {
            "tags": []
          },
          "execution_count": 10
        }
      ]
    },
    {
      "cell_type": "code",
      "metadata": {
        "id": "A-WzZpUaUhwU",
        "outputId": "b6080b93-6a2f-4a16-eeab-6c42a2f72357",
        "colab": {
          "base_uri": "https://localhost:8080/"
        }
      },
      "source": [
        "# 일부 인자만 지정\n",
        "my_func(c=9)"
      ],
      "execution_count": 11,
      "outputs": [
        {
          "output_type": "execute_result",
          "data": {
            "text/plain": [
              "129"
            ]
          },
          "metadata": {
            "tags": []
          },
          "execution_count": 11
        }
      ]
    },
    {
      "cell_type": "markdown",
      "metadata": {
        "id": "Qp9o256XUhwV"
      },
      "source": [
        "### 디폴트 값이 일부만 지정된 경우\n",
        "- 주의: 디폴트 값이 없는 인자는 앞에 배치해야 한다"
      ]
    },
    {
      "cell_type": "code",
      "metadata": {
        "id": "-FSVwgthUhwV",
        "outputId": "42b08801-59a9-4bae-e9cf-0f28654f5e39",
        "colab": {
          "base_uri": "https://localhost:8080/"
        }
      },
      "source": [
        "def my_func(a,b=5,c=7): \n",
        "    return a*100 + b*10 + c\n",
        "\n",
        "my_func(a=2)"
      ],
      "execution_count": 12,
      "outputs": [
        {
          "output_type": "execute_result",
          "data": {
            "text/plain": [
              "257"
            ]
          },
          "metadata": {
            "tags": []
          },
          "execution_count": 12
        }
      ]
    },
    {
      "cell_type": "code",
      "metadata": {
        "id": "I73MWbRcUhwV",
        "outputId": "e216db1a-81b5-401d-b5c2-662bb09d2c98",
        "colab": {
          "base_uri": "https://localhost:8080/"
        }
      },
      "source": [
        "my_func(2)"
      ],
      "execution_count": 13,
      "outputs": [
        {
          "output_type": "execute_result",
          "data": {
            "text/plain": [
              "257"
            ]
          },
          "metadata": {
            "tags": []
          },
          "execution_count": 13
        }
      ]
    },
    {
      "cell_type": "code",
      "metadata": {
        "id": "sD82S37GUhwW",
        "outputId": "b1a43ebf-bc87-47f4-e28f-5df37deb8b01",
        "colab": {
          "base_uri": "https://localhost:8080/"
        }
      },
      "source": [
        "my_func(2,6)"
      ],
      "execution_count": 14,
      "outputs": [
        {
          "output_type": "execute_result",
          "data": {
            "text/plain": [
              "267"
            ]
          },
          "metadata": {
            "tags": []
          },
          "execution_count": 14
        }
      ]
    },
    {
      "cell_type": "markdown",
      "metadata": {
        "id": "chFsj68EUhwW"
      },
      "source": [
        "### 함수는 두개 이상의 결과를 리턴할 수 있다"
      ]
    },
    {
      "cell_type": "code",
      "metadata": {
        "id": "u40a89vuUhwX",
        "outputId": "6ad12f6c-976f-49b7-f73b-54a16732b5af",
        "colab": {
          "base_uri": "https://localhost:8080/"
        }
      },
      "source": [
        "def my_func(a=1,b=2,c=3): \n",
        "    p = a*100 + b*10 + c\n",
        "    q = a+b+c\n",
        "    return (p, q)\n",
        "\n",
        "x, y = my_func()\n",
        "print(x, y)"
      ],
      "execution_count": 15,
      "outputs": [
        {
          "output_type": "stream",
          "text": [
            "123 6\n"
          ],
          "name": "stdout"
        }
      ]
    },
    {
      "cell_type": "markdown",
      "metadata": {
        "id": "gwDGeYcnUhwX"
      },
      "source": [
        "### 주의\n",
        "- 함수 정의 내부에서 사용한 변수는 임시변수로서 외부에서는 접근이 안된다\n",
        "- 위에서 p나 q는 함수 정의 외부에서 읽을 수 없다"
      ]
    },
    {
      "cell_type": "code",
      "metadata": {
        "id": "A0Qu_tYvUhwX"
      },
      "source": [
        "# print(p) # 오류가 발생한다"
      ],
      "execution_count": null,
      "outputs": []
    },
    {
      "cell_type": "markdown",
      "metadata": {
        "id": "Y9bDv6L5UhwY"
      },
      "source": [
        "## 임의의 길이의 인자 사용\n",
        "- 인자로 임의의 길이의 리스트나 튜플을 사용할 수 있다\n",
        "- 이를 명시하기 위해서 앞에 * 를 붙인다"
      ]
    },
    {
      "cell_type": "code",
      "metadata": {
        "id": "PO_g1E97UhwY",
        "outputId": "dc09774a-e93a-45e3-a54b-b7155dce5c7e",
        "colab": {
          "base_uri": "https://localhost:8080/"
        }
      },
      "source": [
        "def my_f(*args):\n",
        "   for i in args: \n",
        "        print(i)\n",
        "    \n",
        "my_f(1,2,3)"
      ],
      "execution_count": 16,
      "outputs": [
        {
          "output_type": "stream",
          "text": [
            "1\n",
            "2\n",
            "3\n"
          ],
          "name": "stdout"
        }
      ]
    },
    {
      "cell_type": "code",
      "metadata": {
        "id": "zxUXSKNvUhwY",
        "outputId": "47fb21b1-9d2f-4fbb-a110-0a864ee56ca1",
        "colab": {
          "base_uri": "https://localhost:8080/"
        }
      },
      "source": [
        "x = (1,2,3)\n",
        "my_f(*x)"
      ],
      "execution_count": 17,
      "outputs": [
        {
          "output_type": "stream",
          "text": [
            "1\n",
            "2\n",
            "3\n"
          ],
          "name": "stdout"
        }
      ]
    },
    {
      "cell_type": "code",
      "metadata": {
        "id": "aLuxJqJHUhwZ",
        "outputId": "e524f43a-fbd7-42b6-b8e9-13a44a2bf9f9",
        "colab": {
          "base_uri": "https://localhost:8080/"
        }
      },
      "source": [
        "x = [1,2,3,4,5]\n",
        "my_f(*x)"
      ],
      "execution_count": 18,
      "outputs": [
        {
          "output_type": "stream",
          "text": [
            "1\n",
            "2\n",
            "3\n",
            "4\n",
            "5\n"
          ],
          "name": "stdout"
        }
      ]
    },
    {
      "cell_type": "markdown",
      "metadata": {
        "id": "ynIa8McCUhwZ"
      },
      "source": [
        "### 인자의 이름도 임의로 지정할 수 있다\n",
        "- 임의의 갯수의 인자 이름을 넘겨줄 수 있다\n",
        "- 이를 위해 딕셔너리를 사용한다 (키에 인자명, 값에 인자 값을 지정)\n",
        "- 이를 명시하기 위해서 \\**를 사용한다"
      ]
    },
    {
      "cell_type": "code",
      "metadata": {
        "id": "O4XHTr4xUhwd"
      },
      "source": [
        "def my_f(**kwargs):\n",
        "    print(\"인자 갯수:\", len(kwargs))\n",
        "    print(\"인자 이름:\", list(kwargs.keys()))\n",
        "    print(\"인자 값:\", list(kwargs.values()))\n",
        "    # 인자를 사용한 작업 수행"
      ],
      "execution_count": 19,
      "outputs": []
    },
    {
      "cell_type": "code",
      "metadata": {
        "id": "ZUoSM--YUhwd",
        "outputId": "9e91b13f-85f0-42ab-a0a0-814c78ccb540",
        "colab": {
          "base_uri": "https://localhost:8080/"
        }
      },
      "source": [
        "dic = {'a':1, 'b':2, 'c':3}\n",
        "my_f(**dic)"
      ],
      "execution_count": 20,
      "outputs": [
        {
          "output_type": "stream",
          "text": [
            "인자 갯수: 3\n",
            "인자 이름: ['a', 'b', 'c']\n",
            "인자 값: [1, 2, 3]\n"
          ],
          "name": "stdout"
        }
      ]
    },
    {
      "cell_type": "markdown",
      "metadata": {
        "id": "lB7ZMFVlUhwe"
      },
      "source": [
        "# 다양한 함수 사용법"
      ]
    },
    {
      "cell_type": "markdown",
      "metadata": {
        "id": "UcNKjzryUhwe"
      },
      "source": [
        "## lambda, 간단히 함수 정의하기\n",
        "- def를 사용하지 않고 함수를 정의할 수 있다"
      ]
    },
    {
      "cell_type": "code",
      "metadata": {
        "id": "3rgsxC3xUhwe",
        "outputId": "96ec9a4c-6b55-4ca6-dec7-e1baf32ff3a7",
        "colab": {
          "base_uri": "https://localhost:8080/"
        }
      },
      "source": [
        "# 일반적인 함수 정의 방법\n",
        "def my_f(x):\n",
        "    return x*10\n",
        "\n",
        "my_f(4)"
      ],
      "execution_count": 21,
      "outputs": [
        {
          "output_type": "execute_result",
          "data": {
            "text/plain": [
              "40"
            ]
          },
          "metadata": {
            "tags": []
          },
          "execution_count": 21
        }
      ]
    },
    {
      "cell_type": "code",
      "metadata": {
        "id": "vejegVQxUhwf",
        "outputId": "a8e3f6dc-dc81-4960-af6b-faf91fe08d6a",
        "colab": {
          "base_uri": "https://localhost:8080/"
        }
      },
      "source": [
        "# def을 사용하지 않는 방법\n",
        "my_f = lambda x: x*10\n",
        "\n",
        "my_f(4)"
      ],
      "execution_count": 22,
      "outputs": [
        {
          "output_type": "execute_result",
          "data": {
            "text/plain": [
              "40"
            ]
          },
          "metadata": {
            "tags": []
          },
          "execution_count": 22
        }
      ]
    },
    {
      "cell_type": "markdown",
      "metadata": {
        "id": "NaOJvZdMUhwf"
      },
      "source": [
        "## map, 리스트에 함수 적용하기\n",
        "\n",
        "- map의 첫번째 인자에는 함수를, 두번째 인자에는 데이터를 넣는다\n",
        "- 리스트 외에도 튜플, 배열에 대해서도 사용할 수 있다\n",
        "- 이 때 함수명을 만들지 않고 lambda를 사용하여 함수 내용만 정의할 수 있다"
      ]
    },
    {
      "cell_type": "code",
      "metadata": {
        "id": "fb2KwuHNUhwf",
        "outputId": "d781feb0-9ccf-40c4-e4ba-edd55330b542",
        "colab": {
          "base_uri": "https://localhost:8080/"
        }
      },
      "source": [
        "# 이미 정의된 함수명을 사용하는 경우\n",
        "x = [1,2,3,4]\n",
        "list(map(my_f, x))"
      ],
      "execution_count": 23,
      "outputs": [
        {
          "output_type": "execute_result",
          "data": {
            "text/plain": [
              "[10, 20, 30, 40]"
            ]
          },
          "metadata": {
            "tags": []
          },
          "execution_count": 23
        }
      ]
    },
    {
      "cell_type": "code",
      "metadata": {
        "id": "gSeUrBljUhwg",
        "outputId": "b9130048-ff12-4496-8f39-086fa8c0a0c3",
        "colab": {
          "base_uri": "https://localhost:8080/"
        }
      },
      "source": [
        "# 튜플도 사용할 수 있다\n",
        "x = (1,2,3,4)\n",
        "list(map(my_f, x))"
      ],
      "execution_count": 24,
      "outputs": [
        {
          "output_type": "execute_result",
          "data": {
            "text/plain": [
              "[10, 20, 30, 40]"
            ]
          },
          "metadata": {
            "tags": []
          },
          "execution_count": 24
        }
      ]
    },
    {
      "cell_type": "code",
      "metadata": {
        "id": "Wji3psArUhwg",
        "outputId": "77f13350-f2a0-400c-dc8d-fc000cd55f9e",
        "colab": {
          "base_uri": "https://localhost:8080/"
        }
      },
      "source": [
        "# 배열도 사용할 수 있다\n",
        "y = np.array(x)\n",
        "y"
      ],
      "execution_count": 25,
      "outputs": [
        {
          "output_type": "execute_result",
          "data": {
            "text/plain": [
              "array([1, 2, 3, 4])"
            ]
          },
          "metadata": {
            "tags": []
          },
          "execution_count": 25
        }
      ]
    },
    {
      "cell_type": "code",
      "metadata": {
        "id": "D_94oF3BUhwg",
        "outputId": "667ae920-a3ca-44a7-c200-3736adfa2522",
        "colab": {
          "base_uri": "https://localhost:8080/"
        }
      },
      "source": [
        "list(map(my_f, y))"
      ],
      "execution_count": 26,
      "outputs": [
        {
          "output_type": "execute_result",
          "data": {
            "text/plain": [
              "[10, 20, 30, 40]"
            ]
          },
          "metadata": {
            "tags": []
          },
          "execution_count": 26
        }
      ]
    },
    {
      "cell_type": "code",
      "metadata": {
        "id": "DTYLW4ggUhwh",
        "outputId": "5e8dd2e1-98cb-4a3a-becd-c74487f3b6c6",
        "colab": {
          "base_uri": "https://localhost:8080/"
        }
      },
      "source": [
        "# 함수명 자체를 사용하지 않는 방법 (익명 함수)\n",
        "list(map(lambda i: i*10, x))"
      ],
      "execution_count": 27,
      "outputs": [
        {
          "output_type": "execute_result",
          "data": {
            "text/plain": [
              "[10, 20, 30, 40]"
            ]
          },
          "metadata": {
            "tags": []
          },
          "execution_count": 27
        }
      ]
    },
    {
      "cell_type": "code",
      "metadata": {
        "id": "OjkFPYypUhwh",
        "outputId": "49e5a1c4-1a89-4b55-b014-68445c2047f4",
        "colab": {
          "base_uri": "https://localhost:8080/"
        }
      },
      "source": [
        "list(map(lambda x: x*10, y))"
      ],
      "execution_count": 28,
      "outputs": [
        {
          "output_type": "execute_result",
          "data": {
            "text/plain": [
              "[10, 20, 30, 40]"
            ]
          },
          "metadata": {
            "tags": []
          },
          "execution_count": 28
        }
      ]
    },
    {
      "cell_type": "code",
      "metadata": {
        "id": "B4xQIXlzUhwp",
        "outputId": "e86d03fc-3a8c-48c7-a4b6-7580cf3b2dbf",
        "colab": {
          "base_uri": "https://localhost:8080/"
        }
      },
      "source": [
        "# (참고) 위와 같은 간단한 리스트 생성은 다른 방법으로도 가능하다\n",
        "[i*10 for i in x]"
      ],
      "execution_count": 29,
      "outputs": [
        {
          "output_type": "execute_result",
          "data": {
            "text/plain": [
              "[10, 20, 30, 40]"
            ]
          },
          "metadata": {
            "tags": []
          },
          "execution_count": 29
        }
      ]
    },
    {
      "cell_type": "markdown",
      "metadata": {
        "id": "ffURF2SwUhwp"
      },
      "source": [
        "## apply, 시리즈나 데이터프레임에 함수 적용하기\n",
        "- apply는 리스트, 튜플, 배열에는 사용할 수 없다"
      ]
    },
    {
      "cell_type": "code",
      "metadata": {
        "id": "WKxEkgpPUhwq",
        "outputId": "7d8d0719-a569-4273-ab3d-abe82f97f275",
        "colab": {
          "base_uri": "https://localhost:8080/"
        }
      },
      "source": [
        "x = [1,2,3,4,5,6]\n",
        "s = pd.Series(x)\n",
        "s"
      ],
      "execution_count": 30,
      "outputs": [
        {
          "output_type": "execute_result",
          "data": {
            "text/plain": [
              "0    1\n",
              "1    2\n",
              "2    3\n",
              "3    4\n",
              "4    5\n",
              "5    6\n",
              "dtype: int64"
            ]
          },
          "metadata": {
            "tags": []
          },
          "execution_count": 30
        }
      ]
    },
    {
      "cell_type": "code",
      "metadata": {
        "id": "SpKSgWp1Uhwq",
        "outputId": "d6c19a76-46f7-4d4c-bc2a-5a75932eb0ae",
        "colab": {
          "base_uri": "https://localhost:8080/"
        }
      },
      "source": [
        "# 시리즈의 모든 데이터에 대해서 10을 곱하는 함수 my_f를 적용한다 \n",
        "s.apply(my_f)"
      ],
      "execution_count": 31,
      "outputs": [
        {
          "output_type": "execute_result",
          "data": {
            "text/plain": [
              "0    10\n",
              "1    20\n",
              "2    30\n",
              "3    40\n",
              "4    50\n",
              "5    60\n",
              "dtype: int64"
            ]
          },
          "metadata": {
            "tags": []
          },
          "execution_count": 31
        }
      ]
    },
    {
      "cell_type": "code",
      "metadata": {
        "id": "WzngrhyvUhwr",
        "outputId": "4524592c-94e1-466e-c7d2-99fba6756b11",
        "colab": {
          "base_uri": "https://localhost:8080/"
        }
      },
      "source": [
        "# 함수명을 사용하지 않고 익명의 함수정의를 사용하는 방법\n",
        "s.apply(lambda x : x*10)"
      ],
      "execution_count": 32,
      "outputs": [
        {
          "output_type": "execute_result",
          "data": {
            "text/plain": [
              "0    10\n",
              "1    20\n",
              "2    30\n",
              "3    40\n",
              "4    50\n",
              "5    60\n",
              "dtype: int64"
            ]
          },
          "metadata": {
            "tags": []
          },
          "execution_count": 32
        }
      ]
    },
    {
      "cell_type": "code",
      "metadata": {
        "id": "_TrayqatUhwr",
        "outputId": "4a3517a3-9f1f-4a9f-8179-5bdc3f9ecd04",
        "colab": {
          "base_uri": "https://localhost:8080/"
        }
      },
      "source": [
        "# 홀수와 짝수를 구분하는 예 (특정한 기능을 시리즈에 일괄 적용하기에 편리)\n",
        "s.apply(lambda x : 1 if x%2 ==1 else 0)"
      ],
      "execution_count": 33,
      "outputs": [
        {
          "output_type": "execute_result",
          "data": {
            "text/plain": [
              "0    1\n",
              "1    0\n",
              "2    1\n",
              "3    0\n",
              "4    1\n",
              "5    0\n",
              "dtype: int64"
            ]
          },
          "metadata": {
            "tags": []
          },
          "execution_count": 33
        }
      ]
    },
    {
      "cell_type": "markdown",
      "metadata": {
        "id": "VnYW2XcQUhwu"
      },
      "source": [
        "### (참고) apply 대신 map을 사용할 수도 있다"
      ]
    },
    {
      "cell_type": "code",
      "metadata": {
        "id": "St3VOCHcUhwv",
        "outputId": "2c08289c-96e9-4c45-b328-bb81187c2ff8",
        "colab": {
          "base_uri": "https://localhost:8080/"
        }
      },
      "source": [
        "s.map(lambda x : x*10)"
      ],
      "execution_count": 34,
      "outputs": [
        {
          "output_type": "execute_result",
          "data": {
            "text/plain": [
              "0    10\n",
              "1    20\n",
              "2    30\n",
              "3    40\n",
              "4    50\n",
              "5    60\n",
              "dtype: int64"
            ]
          },
          "metadata": {
            "tags": []
          },
          "execution_count": 34
        }
      ]
    },
    {
      "cell_type": "markdown",
      "metadata": {
        "id": "mWL3PH2GUhwv"
      },
      "source": [
        "## 데이터프레임에 함수 적용"
      ]
    },
    {
      "cell_type": "code",
      "metadata": {
        "id": "iTAi0vDbUhwv",
        "outputId": "2d117fd6-19dc-4f11-8f56-546696ce7ce6",
        "colab": {
          "base_uri": "https://localhost:8080/",
          "height": 204
        }
      },
      "source": [
        "x = {'city': ['서울', '부산', '대구', '대전', '광주'],\n",
        "        'population': [990, 350, 250, 154, 150],\n",
        "        'temp': [13, 16, 14, 13, 15]}\n",
        "\n",
        "data = pd.DataFrame(x)\n",
        "data"
      ],
      "execution_count": 35,
      "outputs": [
        {
          "output_type": "execute_result",
          "data": {
            "text/html": [
              "<div>\n",
              "<style scoped>\n",
              "    .dataframe tbody tr th:only-of-type {\n",
              "        vertical-align: middle;\n",
              "    }\n",
              "\n",
              "    .dataframe tbody tr th {\n",
              "        vertical-align: top;\n",
              "    }\n",
              "\n",
              "    .dataframe thead th {\n",
              "        text-align: right;\n",
              "    }\n",
              "</style>\n",
              "<table border=\"1\" class=\"dataframe\">\n",
              "  <thead>\n",
              "    <tr style=\"text-align: right;\">\n",
              "      <th></th>\n",
              "      <th>city</th>\n",
              "      <th>population</th>\n",
              "      <th>temp</th>\n",
              "    </tr>\n",
              "  </thead>\n",
              "  <tbody>\n",
              "    <tr>\n",
              "      <th>0</th>\n",
              "      <td>서울</td>\n",
              "      <td>990</td>\n",
              "      <td>13</td>\n",
              "    </tr>\n",
              "    <tr>\n",
              "      <th>1</th>\n",
              "      <td>부산</td>\n",
              "      <td>350</td>\n",
              "      <td>16</td>\n",
              "    </tr>\n",
              "    <tr>\n",
              "      <th>2</th>\n",
              "      <td>대구</td>\n",
              "      <td>250</td>\n",
              "      <td>14</td>\n",
              "    </tr>\n",
              "    <tr>\n",
              "      <th>3</th>\n",
              "      <td>대전</td>\n",
              "      <td>154</td>\n",
              "      <td>13</td>\n",
              "    </tr>\n",
              "    <tr>\n",
              "      <th>4</th>\n",
              "      <td>광주</td>\n",
              "      <td>150</td>\n",
              "      <td>15</td>\n",
              "    </tr>\n",
              "  </tbody>\n",
              "</table>\n",
              "</div>"
            ],
            "text/plain": [
              "  city  population  temp\n",
              "0   서울         990    13\n",
              "1   부산         350    16\n",
              "2   대구         250    14\n",
              "3   대전         154    13\n",
              "4   광주         150    15"
            ]
          },
          "metadata": {
            "tags": []
          },
          "execution_count": 35
        }
      ]
    },
    {
      "cell_type": "markdown",
      "metadata": {
        "id": "0rDn1-tSUhww"
      },
      "source": [
        "- 데이터프레임의 한 컬럼은 시리즈가 된다"
      ]
    },
    {
      "cell_type": "code",
      "metadata": {
        "id": "2UvdpWaKUhww",
        "outputId": "7883c4a2-dc46-4f1f-f0d1-802ec18370a4",
        "colab": {
          "base_uri": "https://localhost:8080/"
        }
      },
      "source": [
        "# temp 컬럼의 모든 값에 3을 더한다\n",
        "data['temp'].apply(lambda x : x+3)"
      ],
      "execution_count": 36,
      "outputs": [
        {
          "output_type": "execute_result",
          "data": {
            "text/plain": [
              "0    16\n",
              "1    19\n",
              "2    17\n",
              "3    16\n",
              "4    18\n",
              "Name: temp, dtype: int64"
            ]
          },
          "metadata": {
            "tags": []
          },
          "execution_count": 36
        }
      ]
    },
    {
      "cell_type": "code",
      "metadata": {
        "id": "bpQhz1O6Uhww",
        "outputId": "b2356457-06b0-4382-a17b-1b9f9f34e8bd",
        "colab": {
          "base_uri": "https://localhost:8080/"
        }
      },
      "source": [
        "# 각 컬럼(시리즈)에 대해서 최대값을 찾기\n",
        "data[[\"population\",\"temp\"]].apply(lambda x: x.max())"
      ],
      "execution_count": 37,
      "outputs": [
        {
          "output_type": "execute_result",
          "data": {
            "text/plain": [
              "population    990\n",
              "temp           16\n",
              "dtype: int64"
            ]
          },
          "metadata": {
            "tags": []
          },
          "execution_count": 37
        }
      ]
    },
    {
      "cell_type": "code",
      "metadata": {
        "id": "VFqKlfWDUhwx",
        "outputId": "86c37bf1-ef52-4dc5-d02b-8f2bfc2d9fd6",
        "colab": {
          "base_uri": "https://localhost:8080/"
        }
      },
      "source": [
        "# 각 컬럼의 평균값 구하기\n",
        "data[[\"population\",\"temp\"]].apply(lambda x: x.mean())"
      ],
      "execution_count": 38,
      "outputs": [
        {
          "output_type": "execute_result",
          "data": {
            "text/plain": [
              "population    378.8\n",
              "temp           14.2\n",
              "dtype: float64"
            ]
          },
          "metadata": {
            "tags": []
          },
          "execution_count": 38
        }
      ]
    },
    {
      "cell_type": "code",
      "metadata": {
        "id": "Y17vxYDRUhwx",
        "outputId": "cffa39f9-5015-4208-8741-e307fe451343",
        "colab": {
          "base_uri": "https://localhost:8080/"
        }
      },
      "source": [
        "# 행을 대상으로 함수 적용도 가능하다 (인구와 기온의 평균 구하기??)\n",
        "data[[\"population\",\"temp\"]].apply(lambda x: x.mean(), axis=1)"
      ],
      "execution_count": 39,
      "outputs": [
        {
          "output_type": "execute_result",
          "data": {
            "text/plain": [
              "0    501.5\n",
              "1    183.0\n",
              "2    132.0\n",
              "3     83.5\n",
              "4     82.5\n",
              "dtype: float64"
            ]
          },
          "metadata": {
            "tags": []
          },
          "execution_count": 39
        }
      ]
    },
    {
      "cell_type": "markdown",
      "metadata": {
        "id": "WOlBo_4vUhwx"
      },
      "source": [
        "### 데이터프레임 전체에 함수 적용하기, apply()"
      ]
    },
    {
      "cell_type": "code",
      "metadata": {
        "id": "4T0N8U8XUhwy",
        "outputId": "bcb97c16-53f9-45d2-8077-92d8a6c7e358",
        "colab": {
          "base_uri": "https://localhost:8080/",
          "height": 173
        }
      },
      "source": [
        "df = pd.DataFrame(np.arange(20).reshape(4,5))\n",
        "df"
      ],
      "execution_count": 40,
      "outputs": [
        {
          "output_type": "execute_result",
          "data": {
            "text/html": [
              "<div>\n",
              "<style scoped>\n",
              "    .dataframe tbody tr th:only-of-type {\n",
              "        vertical-align: middle;\n",
              "    }\n",
              "\n",
              "    .dataframe tbody tr th {\n",
              "        vertical-align: top;\n",
              "    }\n",
              "\n",
              "    .dataframe thead th {\n",
              "        text-align: right;\n",
              "    }\n",
              "</style>\n",
              "<table border=\"1\" class=\"dataframe\">\n",
              "  <thead>\n",
              "    <tr style=\"text-align: right;\">\n",
              "      <th></th>\n",
              "      <th>0</th>\n",
              "      <th>1</th>\n",
              "      <th>2</th>\n",
              "      <th>3</th>\n",
              "      <th>4</th>\n",
              "    </tr>\n",
              "  </thead>\n",
              "  <tbody>\n",
              "    <tr>\n",
              "      <th>0</th>\n",
              "      <td>0</td>\n",
              "      <td>1</td>\n",
              "      <td>2</td>\n",
              "      <td>3</td>\n",
              "      <td>4</td>\n",
              "    </tr>\n",
              "    <tr>\n",
              "      <th>1</th>\n",
              "      <td>5</td>\n",
              "      <td>6</td>\n",
              "      <td>7</td>\n",
              "      <td>8</td>\n",
              "      <td>9</td>\n",
              "    </tr>\n",
              "    <tr>\n",
              "      <th>2</th>\n",
              "      <td>10</td>\n",
              "      <td>11</td>\n",
              "      <td>12</td>\n",
              "      <td>13</td>\n",
              "      <td>14</td>\n",
              "    </tr>\n",
              "    <tr>\n",
              "      <th>3</th>\n",
              "      <td>15</td>\n",
              "      <td>16</td>\n",
              "      <td>17</td>\n",
              "      <td>18</td>\n",
              "      <td>19</td>\n",
              "    </tr>\n",
              "  </tbody>\n",
              "</table>\n",
              "</div>"
            ],
            "text/plain": [
              "    0   1   2   3   4\n",
              "0   0   1   2   3   4\n",
              "1   5   6   7   8   9\n",
              "2  10  11  12  13  14\n",
              "3  15  16  17  18  19"
            ]
          },
          "metadata": {
            "tags": []
          },
          "execution_count": 40
        }
      ]
    },
    {
      "cell_type": "code",
      "metadata": {
        "id": "pPMrJ3gjUhwy",
        "outputId": "ab5bf437-00ab-4854-f757-bdc9f6c41a7b",
        "colab": {
          "base_uri": "https://localhost:8080/"
        }
      },
      "source": [
        "# 데이터프레임의 모든 컬럼에 대해서 동일한 함수를 적용\n",
        "df.apply(lambda x: x.mean())"
      ],
      "execution_count": 41,
      "outputs": [
        {
          "output_type": "execute_result",
          "data": {
            "text/plain": [
              "0     7.5\n",
              "1     8.5\n",
              "2     9.5\n",
              "3    10.5\n",
              "4    11.5\n",
              "dtype: float64"
            ]
          },
          "metadata": {
            "tags": []
          },
          "execution_count": 41
        }
      ]
    },
    {
      "cell_type": "code",
      "metadata": {
        "id": "rMX_i64eUhwy",
        "outputId": "c4bf2781-9442-41fc-e9ff-e5d46661cff2",
        "colab": {
          "base_uri": "https://localhost:8080/"
        }
      },
      "source": [
        "# 데이터프레임의 모든 행에 대해서 동일한 함수를 적용\n",
        "df.apply(lambda x: x.mean(), axis=1)"
      ],
      "execution_count": 42,
      "outputs": [
        {
          "output_type": "execute_result",
          "data": {
            "text/plain": [
              "0     2.0\n",
              "1     7.0\n",
              "2    12.0\n",
              "3    17.0\n",
              "dtype: float64"
            ]
          },
          "metadata": {
            "tags": []
          },
          "execution_count": 42
        }
      ]
    },
    {
      "cell_type": "code",
      "metadata": {
        "id": "lKnnrFYZUhwz"
      },
      "source": [
        ""
      ],
      "execution_count": null,
      "outputs": []
    }
  ]
}