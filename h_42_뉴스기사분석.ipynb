{
  "nbformat": 4,
  "nbformat_minor": 0,
  "metadata": {
    "accelerator": "GPU",
    "colab": {
      "name": "g_46_뉴스기사.ipynb",
      "provenance": [],
      "collapsed_sections": []
    },
    "kernelspec": {
      "display_name": "Python 3",
      "language": "python",
      "name": "python3"
    },
    "language_info": {
      "codemirror_mode": {
        "name": "ipython",
        "version": 3
      },
      "file_extension": ".py",
      "mimetype": "text/x-python",
      "name": "python",
      "nbconvert_exporter": "python",
      "pygments_lexer": "ipython3",
      "version": "3.7.6"
    },
    "toc": {
      "base_numbering": 1,
      "nav_menu": {},
      "number_sections": false,
      "sideBar": true,
      "skip_h1_title": false,
      "title_cell": "Table of Contents",
      "title_sidebar": "Contents",
      "toc_cell": false,
      "toc_position": {},
      "toc_section_display": true,
      "toc_window_display": true
    }
  },
  "cells": [
    {
      "cell_type": "markdown",
      "metadata": {
        "id": "x0qTQjjQTrdm"
      },
      "source": [
        "# 뉴스기사 분석\n",
        "- 빅카인즈 뉴스기사 데이터 활용(https://www.bigkinds.or.kr/)\n",
        "- 문서-단어 벡터 생성 CountVectorizer()\n",
        "- TfIdf 개념"
      ]
    },
    {
      "cell_type": "code",
      "metadata": {
        "id": "jpAIPGsKq2Vk"
      },
      "source": [
        ""
      ],
      "execution_count": null,
      "outputs": []
    },
    {
      "cell_type": "code",
      "metadata": {
        "id": "i8fcX8OaTrdo"
      },
      "source": [
        "import numpy as np\n",
        "import pandas as pd\n",
        "import sklearn\n",
        "from sklearn.feature_extraction.text import CountVectorizer, TfidfVectorizer"
      ],
      "execution_count": null,
      "outputs": []
    },
    {
      "cell_type": "code",
      "metadata": {
        "colab": {
          "base_uri": "https://localhost:8080/",
          "height": 138
        },
        "id": "9Na_qa_bTrds",
        "outputId": "88730034-9679-451b-a985-eac1af3b89bb"
      },
      "source": [
        "# 뉴스 데이터 가져오기\n",
        "!curl https://raw.githubusercontent.com/StillWork/data/master/news.xlsx \\\n",
        "    -o news.xlsx"
      ],
      "execution_count": null,
      "outputs": [
        {
          "output_type": "stream",
          "text": [
            "  % Total    % Received % Xferd  Average Speed   Time    Time     Time  Current\n",
            "                                 Dload  Upload   Total   Spent    Left  Speed\n",
            "100 1789k  100 1789k    0     0  1206k      0  0:00:01  0:00:01 --:--:-- 1206k\n"
          ],
          "name": "stdout"
        }
      ]
    },
    {
      "cell_type": "code",
      "metadata": {
        "colab": {
          "base_uri": "https://localhost:8080/",
          "height": 86
        },
        "id": "JRuXKfkJTrdx",
        "outputId": "f9eba5a7-76d6-4f7e-c0c5-570228a09358"
      },
      "source": [
        "news_all = pd.read_excel(\"news.xlsx\")\n",
        "news_all.columns"
      ],
      "execution_count": null,
      "outputs": [
        {
          "output_type": "execute_result",
          "data": {
            "text/plain": [
              "Index(['뉴스 식별자', '일자', '언론사', '기고자', '제목', '통합 분류1', '통합 분류2', '통합 분류3',\n",
              "       '사건/사고 분류1', '사건/사고 분류2', '사건/사고 분류3', '인물', '위치', '기관', '키워드', '특성추출',\n",
              "       '본문', 'URL', '분석제외 여부'],\n",
              "      dtype='object')"
            ]
          },
          "metadata": {
            "tags": []
          },
          "execution_count": 8
        }
      ]
    },
    {
      "cell_type": "code",
      "metadata": {
        "colab": {
          "base_uri": "https://localhost:8080/",
          "height": 121
        },
        "id": "wXwA2q-HTrd2",
        "outputId": "c62fd70b-3014-4c42-e761-7e17e0bb031f"
      },
      "source": [
        "news_text = news_all['본문']\n",
        "news_text[:5]"
      ],
      "execution_count": null,
      "outputs": [
        {
          "output_type": "execute_result",
          "data": {
            "text/plain": [
              "0    - 비핵화 수준 상응 조치 놓고\\n- 양국 협상팀 막판까지 ‘밀당’\\n- 1차 때와...\n",
              "1    김정은 국무위원장이 27일 시작되는 제2차 북미정상회담 성공을 위해 심혈을 기울이고...\n",
              "2    북미가 처음으로 정상 간 단독회담과 만찬을 가지며 또다시 새로운 역사 창조에 나섰다...\n",
              "3    지난해 9월 남북정상회담 당시 리선권 북한 조국평화통일위원장의 '냉면' 발언으로 정...\n",
              "4    지자체 민간 교류 활성화 대부분 \\n여, 부처간 논의 예산 지원 확대 \\n야, 사업...\n",
              "Name: 본문, dtype: object"
            ]
          },
          "metadata": {
            "tags": []
          },
          "execution_count": 9
        }
      ]
    },
    {
      "cell_type": "code",
      "metadata": {
        "id": "cL3F9_m8Trd6",
        "scrolled": true,
        "outputId": "e196d8d1-dded-42f7-9cac-6be03a56d941"
      },
      "source": [
        "cv = CountVectorizer()\n",
        "dtm = cv.fit_transform(news_text.tolist())\n",
        "# document-term-matrix\n",
        "df = pd.DataFrame(pd.DataFrame(dtm.toarray(), columns = cv.get_feature_names()))\n",
        "df[:5]"
      ],
      "execution_count": null,
      "outputs": [
        {
          "output_type": "execute_result",
          "data": {
            "text/html": [
              "<div>\n",
              "<style scoped>\n",
              "    .dataframe tbody tr th:only-of-type {\n",
              "        vertical-align: middle;\n",
              "    }\n",
              "\n",
              "    .dataframe tbody tr th {\n",
              "        vertical-align: top;\n",
              "    }\n",
              "\n",
              "    .dataframe thead th {\n",
              "        text-align: right;\n",
              "    }\n",
              "</style>\n",
              "<table border=\"1\" class=\"dataframe\">\n",
              "  <thead>\n",
              "    <tr style=\"text-align: right;\">\n",
              "      <th></th>\n",
              "      <th>00</th>\n",
              "      <th>000원을</th>\n",
              "      <th>001420</th>\n",
              "      <th>001550</th>\n",
              "      <th>002100</th>\n",
              "      <th>005690</th>\n",
              "      <th>01</th>\n",
              "      <th>017800</th>\n",
              "      <th>02</th>\n",
              "      <th>025860</th>\n",
              "      <th>...</th>\n",
              "      <th>힌국당</th>\n",
              "      <th>힘겨루기로</th>\n",
              "      <th>힘겨웠던</th>\n",
              "      <th>힘들다고</th>\n",
              "      <th>힘들어</th>\n",
              "      <th>힘들어지는</th>\n",
              "      <th>힘을</th>\n",
              "      <th>힘이</th>\n",
              "      <th>힘입어</th>\n",
              "      <th>靈山</th>\n",
              "    </tr>\n",
              "  </thead>\n",
              "  <tbody>\n",
              "    <tr>\n",
              "      <th>0</th>\n",
              "      <td>0</td>\n",
              "      <td>0</td>\n",
              "      <td>0</td>\n",
              "      <td>0</td>\n",
              "      <td>0</td>\n",
              "      <td>0</td>\n",
              "      <td>0</td>\n",
              "      <td>0</td>\n",
              "      <td>0</td>\n",
              "      <td>0</td>\n",
              "      <td>...</td>\n",
              "      <td>0</td>\n",
              "      <td>0</td>\n",
              "      <td>0</td>\n",
              "      <td>0</td>\n",
              "      <td>0</td>\n",
              "      <td>0</td>\n",
              "      <td>0</td>\n",
              "      <td>0</td>\n",
              "      <td>0</td>\n",
              "      <td>0</td>\n",
              "    </tr>\n",
              "    <tr>\n",
              "      <th>1</th>\n",
              "      <td>0</td>\n",
              "      <td>0</td>\n",
              "      <td>0</td>\n",
              "      <td>0</td>\n",
              "      <td>0</td>\n",
              "      <td>0</td>\n",
              "      <td>0</td>\n",
              "      <td>0</td>\n",
              "      <td>0</td>\n",
              "      <td>0</td>\n",
              "      <td>...</td>\n",
              "      <td>0</td>\n",
              "      <td>0</td>\n",
              "      <td>0</td>\n",
              "      <td>0</td>\n",
              "      <td>0</td>\n",
              "      <td>0</td>\n",
              "      <td>0</td>\n",
              "      <td>0</td>\n",
              "      <td>0</td>\n",
              "      <td>0</td>\n",
              "    </tr>\n",
              "    <tr>\n",
              "      <th>2</th>\n",
              "      <td>0</td>\n",
              "      <td>0</td>\n",
              "      <td>0</td>\n",
              "      <td>0</td>\n",
              "      <td>0</td>\n",
              "      <td>0</td>\n",
              "      <td>0</td>\n",
              "      <td>0</td>\n",
              "      <td>0</td>\n",
              "      <td>0</td>\n",
              "      <td>...</td>\n",
              "      <td>0</td>\n",
              "      <td>0</td>\n",
              "      <td>0</td>\n",
              "      <td>0</td>\n",
              "      <td>0</td>\n",
              "      <td>0</td>\n",
              "      <td>0</td>\n",
              "      <td>0</td>\n",
              "      <td>0</td>\n",
              "      <td>0</td>\n",
              "    </tr>\n",
              "    <tr>\n",
              "      <th>3</th>\n",
              "      <td>0</td>\n",
              "      <td>0</td>\n",
              "      <td>0</td>\n",
              "      <td>0</td>\n",
              "      <td>0</td>\n",
              "      <td>0</td>\n",
              "      <td>0</td>\n",
              "      <td>0</td>\n",
              "      <td>0</td>\n",
              "      <td>0</td>\n",
              "      <td>...</td>\n",
              "      <td>0</td>\n",
              "      <td>0</td>\n",
              "      <td>0</td>\n",
              "      <td>0</td>\n",
              "      <td>0</td>\n",
              "      <td>0</td>\n",
              "      <td>0</td>\n",
              "      <td>0</td>\n",
              "      <td>0</td>\n",
              "      <td>0</td>\n",
              "    </tr>\n",
              "    <tr>\n",
              "      <th>4</th>\n",
              "      <td>0</td>\n",
              "      <td>0</td>\n",
              "      <td>0</td>\n",
              "      <td>0</td>\n",
              "      <td>0</td>\n",
              "      <td>0</td>\n",
              "      <td>0</td>\n",
              "      <td>0</td>\n",
              "      <td>0</td>\n",
              "      <td>0</td>\n",
              "      <td>...</td>\n",
              "      <td>0</td>\n",
              "      <td>0</td>\n",
              "      <td>0</td>\n",
              "      <td>0</td>\n",
              "      <td>0</td>\n",
              "      <td>0</td>\n",
              "      <td>0</td>\n",
              "      <td>0</td>\n",
              "      <td>0</td>\n",
              "      <td>0</td>\n",
              "    </tr>\n",
              "  </tbody>\n",
              "</table>\n",
              "<p>5 rows × 16199 columns</p>\n",
              "</div>"
            ],
            "text/plain": [
              "   00  000원을  001420  001550  002100  005690  01  017800  02  025860  ...  \\\n",
              "0   0      0       0       0       0       0   0       0   0       0  ...   \n",
              "1   0      0       0       0       0       0   0       0   0       0  ...   \n",
              "2   0      0       0       0       0       0   0       0   0       0  ...   \n",
              "3   0      0       0       0       0       0   0       0   0       0  ...   \n",
              "4   0      0       0       0       0       0   0       0   0       0  ...   \n",
              "\n",
              "   힌국당  힘겨루기로  힘겨웠던  힘들다고  힘들어  힘들어지는  힘을  힘이  힘입어  靈山  \n",
              "0    0      0     0     0    0      0   0   0    0   0  \n",
              "1    0      0     0     0    0      0   0   0    0   0  \n",
              "2    0      0     0     0    0      0   0   0    0   0  \n",
              "3    0      0     0     0    0      0   0   0    0   0  \n",
              "4    0      0     0     0    0      0   0   0    0   0  \n",
              "\n",
              "[5 rows x 16199 columns]"
            ]
          },
          "metadata": {
            "tags": []
          },
          "execution_count": 10
        }
      ]
    },
    {
      "cell_type": "code",
      "metadata": {
        "id": "DSxYVyEDTrd-",
        "outputId": "3df6383b-2308-43ef-e086-8eb511cd5ded"
      },
      "source": [
        "len(cv.vocabulary_)"
      ],
      "execution_count": null,
      "outputs": [
        {
          "output_type": "execute_result",
          "data": {
            "text/plain": [
              "16199"
            ]
          },
          "metadata": {
            "tags": []
          },
          "execution_count": 11
        }
      ]
    },
    {
      "cell_type": "code",
      "metadata": {
        "id": "89qaQ_NkTreB",
        "outputId": "9bc2041b-0288-4b2c-ca53-e75dcad434d5"
      },
      "source": [
        "cv = CountVectorizer(max_features=2000)\n",
        "dtm = cv.fit_transform(news_text.tolist())\n",
        "df = pd.DataFrame(pd.DataFrame(dtm.toarray(), columns = cv.get_feature_names()))\n",
        "df[:3]"
      ],
      "execution_count": null,
      "outputs": [
        {
          "output_type": "execute_result",
          "data": {
            "text/html": [
              "<div>\n",
              "<style scoped>\n",
              "    .dataframe tbody tr th:only-of-type {\n",
              "        vertical-align: middle;\n",
              "    }\n",
              "\n",
              "    .dataframe tbody tr th {\n",
              "        vertical-align: top;\n",
              "    }\n",
              "\n",
              "    .dataframe thead th {\n",
              "        text-align: right;\n",
              "    }\n",
              "</style>\n",
              "<table border=\"1\" class=\"dataframe\">\n",
              "  <thead>\n",
              "    <tr style=\"text-align: right;\">\n",
              "      <th></th>\n",
              "      <th>00</th>\n",
              "      <th>01</th>\n",
              "      <th>02</th>\n",
              "      <th>0px</th>\n",
              "      <th>10</th>\n",
              "      <th>100주년</th>\n",
              "      <th>100주년을</th>\n",
              "      <th>10시</th>\n",
              "      <th>10일</th>\n",
              "      <th>10일까지</th>\n",
              "      <th>...</th>\n",
              "      <th>회동을</th>\n",
              "      <th>회복</th>\n",
              "      <th>회의론을</th>\n",
              "      <th>회의를</th>\n",
              "      <th>회의에서</th>\n",
              "      <th>효과</th>\n",
              "      <th>효과를</th>\n",
              "      <th>후보지로</th>\n",
              "      <th>후속</th>\n",
              "      <th>힘을</th>\n",
              "    </tr>\n",
              "  </thead>\n",
              "  <tbody>\n",
              "    <tr>\n",
              "      <th>0</th>\n",
              "      <td>0</td>\n",
              "      <td>0</td>\n",
              "      <td>0</td>\n",
              "      <td>0</td>\n",
              "      <td>0</td>\n",
              "      <td>0</td>\n",
              "      <td>0</td>\n",
              "      <td>0</td>\n",
              "      <td>0</td>\n",
              "      <td>0</td>\n",
              "      <td>...</td>\n",
              "      <td>0</td>\n",
              "      <td>0</td>\n",
              "      <td>0</td>\n",
              "      <td>0</td>\n",
              "      <td>0</td>\n",
              "      <td>0</td>\n",
              "      <td>0</td>\n",
              "      <td>0</td>\n",
              "      <td>0</td>\n",
              "      <td>0</td>\n",
              "    </tr>\n",
              "    <tr>\n",
              "      <th>1</th>\n",
              "      <td>0</td>\n",
              "      <td>0</td>\n",
              "      <td>0</td>\n",
              "      <td>0</td>\n",
              "      <td>0</td>\n",
              "      <td>0</td>\n",
              "      <td>0</td>\n",
              "      <td>0</td>\n",
              "      <td>0</td>\n",
              "      <td>0</td>\n",
              "      <td>...</td>\n",
              "      <td>0</td>\n",
              "      <td>0</td>\n",
              "      <td>0</td>\n",
              "      <td>0</td>\n",
              "      <td>0</td>\n",
              "      <td>0</td>\n",
              "      <td>0</td>\n",
              "      <td>0</td>\n",
              "      <td>0</td>\n",
              "      <td>0</td>\n",
              "    </tr>\n",
              "    <tr>\n",
              "      <th>2</th>\n",
              "      <td>0</td>\n",
              "      <td>0</td>\n",
              "      <td>0</td>\n",
              "      <td>0</td>\n",
              "      <td>0</td>\n",
              "      <td>0</td>\n",
              "      <td>0</td>\n",
              "      <td>0</td>\n",
              "      <td>0</td>\n",
              "      <td>0</td>\n",
              "      <td>...</td>\n",
              "      <td>0</td>\n",
              "      <td>0</td>\n",
              "      <td>0</td>\n",
              "      <td>0</td>\n",
              "      <td>0</td>\n",
              "      <td>0</td>\n",
              "      <td>0</td>\n",
              "      <td>0</td>\n",
              "      <td>0</td>\n",
              "      <td>0</td>\n",
              "    </tr>\n",
              "  </tbody>\n",
              "</table>\n",
              "<p>3 rows × 2000 columns</p>\n",
              "</div>"
            ],
            "text/plain": [
              "   00  01  02  0px  10  100주년  100주년을  10시  10일  10일까지  ...  회동을  회복  회의론을  \\\n",
              "0   0   0   0    0   0      0       0    0    0      0  ...    0   0     0   \n",
              "1   0   0   0    0   0      0       0    0    0      0  ...    0   0     0   \n",
              "2   0   0   0    0   0      0       0    0    0      0  ...    0   0     0   \n",
              "\n",
              "   회의를  회의에서  효과  효과를  후보지로  후속  힘을  \n",
              "0    0     0   0    0     0   0   0  \n",
              "1    0     0   0    0     0   0   0  \n",
              "2    0     0   0    0     0   0   0  \n",
              "\n",
              "[3 rows x 2000 columns]"
            ]
          },
          "metadata": {
            "tags": []
          },
          "execution_count": 12
        }
      ]
    },
    {
      "cell_type": "code",
      "metadata": {
        "id": "Vm1l83kBTreF",
        "outputId": "a5c0b653-57c9-4dd1-b360-d5f33bf2610e"
      },
      "source": [
        "top_word = []\n",
        "for i in df.transpose().values:\n",
        "    top_word.append(sum(i.tolist()))\n",
        "    \n",
        "df.transpose().index[top_word.index(max(top_word))]"
      ],
      "execution_count": null,
      "outputs": [
        {
          "output_type": "execute_result",
          "data": {
            "text/plain": [
              "'2차'"
            ]
          },
          "metadata": {
            "tags": []
          },
          "execution_count": 13
        }
      ]
    },
    {
      "cell_type": "code",
      "metadata": {
        "id": "ETIeDtN1s7at"
      },
      "source": [
        "'''\n",
        "TfidfVectorizer]\n",
        "- 이전 정리 https://wiserloner.tistory.com/646\n",
        "- 이 방식은 위에서 말했듯 카운팅 방식의 단점을 해결하기 위한 기법입니다.\n",
        "기본 개념들부터 알아봅시다.\n",
        "- TF(Term Frequency) : 특정 단어가 하나의 데이터 안에서 등장하는 횟수\n",
        "DF(Document Frequency) : 특정 단어가 여러 데이터에 자주 등장하는지를 알려주는 지표.\n",
        "IDF(Inverse Document Frequency) : DF에 역수를 취해(inverse) 구함\n",
        "TF-IDF : TF와 IDF를 곱한 값. 즉 TF가 높고, DF가 낮을수록 값이 커지는 것을 이용하는 것입니다.\n",
        "    조금 더 풀어 설명하자면, 해당 단위(문장) 안에서는 많이 등장하지만, 다른 문서들까지 전체에서는 적게 사용될수록,\n",
        "    분별력 있는 특징이란 것입니다.\n",
        "'''"
      ],
      "execution_count": null,
      "outputs": []
    },
    {
      "cell_type": "code",
      "metadata": {
        "id": "I7aSOMG6TreK"
      },
      "source": [
        "# tf: term frequency, idf: inverse document frequency\n",
        "tv = TfidfVectorizer(max_features=2000)\n",
        "dtm = tv.fit_transform(news_text.tolist())\n",
        "df = pd.DataFrame(pd.DataFrame(dtm.toarray(), columns = tv.get_feature_names()))"
      ],
      "execution_count": null,
      "outputs": []
    },
    {
      "cell_type": "code",
      "metadata": {
        "id": "B2J-Xpj9TreN",
        "outputId": "f77ba7a6-e48d-47de-e75b-bd8583025ef2"
      },
      "source": [
        "df[:3]"
      ],
      "execution_count": null,
      "outputs": [
        {
          "output_type": "execute_result",
          "data": {
            "text/html": [
              "<div>\n",
              "<style scoped>\n",
              "    .dataframe tbody tr th:only-of-type {\n",
              "        vertical-align: middle;\n",
              "    }\n",
              "\n",
              "    .dataframe tbody tr th {\n",
              "        vertical-align: top;\n",
              "    }\n",
              "\n",
              "    .dataframe thead th {\n",
              "        text-align: right;\n",
              "    }\n",
              "</style>\n",
              "<table border=\"1\" class=\"dataframe\">\n",
              "  <thead>\n",
              "    <tr style=\"text-align: right;\">\n",
              "      <th></th>\n",
              "      <th>00</th>\n",
              "      <th>01</th>\n",
              "      <th>02</th>\n",
              "      <th>0px</th>\n",
              "      <th>10</th>\n",
              "      <th>100주년</th>\n",
              "      <th>100주년을</th>\n",
              "      <th>10시</th>\n",
              "      <th>10일</th>\n",
              "      <th>10일까지</th>\n",
              "      <th>...</th>\n",
              "      <th>회동을</th>\n",
              "      <th>회복</th>\n",
              "      <th>회의론을</th>\n",
              "      <th>회의를</th>\n",
              "      <th>회의에서</th>\n",
              "      <th>효과</th>\n",
              "      <th>효과를</th>\n",
              "      <th>후보지로</th>\n",
              "      <th>후속</th>\n",
              "      <th>힘을</th>\n",
              "    </tr>\n",
              "  </thead>\n",
              "  <tbody>\n",
              "    <tr>\n",
              "      <th>0</th>\n",
              "      <td>0.0</td>\n",
              "      <td>0.0</td>\n",
              "      <td>0.0</td>\n",
              "      <td>0.0</td>\n",
              "      <td>0.0</td>\n",
              "      <td>0.0</td>\n",
              "      <td>0.0</td>\n",
              "      <td>0.0</td>\n",
              "      <td>0.0</td>\n",
              "      <td>0.0</td>\n",
              "      <td>...</td>\n",
              "      <td>0.0</td>\n",
              "      <td>0.0</td>\n",
              "      <td>0.0</td>\n",
              "      <td>0.0</td>\n",
              "      <td>0.0</td>\n",
              "      <td>0.0</td>\n",
              "      <td>0.0</td>\n",
              "      <td>0.0</td>\n",
              "      <td>0.0</td>\n",
              "      <td>0.0</td>\n",
              "    </tr>\n",
              "    <tr>\n",
              "      <th>1</th>\n",
              "      <td>0.0</td>\n",
              "      <td>0.0</td>\n",
              "      <td>0.0</td>\n",
              "      <td>0.0</td>\n",
              "      <td>0.0</td>\n",
              "      <td>0.0</td>\n",
              "      <td>0.0</td>\n",
              "      <td>0.0</td>\n",
              "      <td>0.0</td>\n",
              "      <td>0.0</td>\n",
              "      <td>...</td>\n",
              "      <td>0.0</td>\n",
              "      <td>0.0</td>\n",
              "      <td>0.0</td>\n",
              "      <td>0.0</td>\n",
              "      <td>0.0</td>\n",
              "      <td>0.0</td>\n",
              "      <td>0.0</td>\n",
              "      <td>0.0</td>\n",
              "      <td>0.0</td>\n",
              "      <td>0.0</td>\n",
              "    </tr>\n",
              "    <tr>\n",
              "      <th>2</th>\n",
              "      <td>0.0</td>\n",
              "      <td>0.0</td>\n",
              "      <td>0.0</td>\n",
              "      <td>0.0</td>\n",
              "      <td>0.0</td>\n",
              "      <td>0.0</td>\n",
              "      <td>0.0</td>\n",
              "      <td>0.0</td>\n",
              "      <td>0.0</td>\n",
              "      <td>0.0</td>\n",
              "      <td>...</td>\n",
              "      <td>0.0</td>\n",
              "      <td>0.0</td>\n",
              "      <td>0.0</td>\n",
              "      <td>0.0</td>\n",
              "      <td>0.0</td>\n",
              "      <td>0.0</td>\n",
              "      <td>0.0</td>\n",
              "      <td>0.0</td>\n",
              "      <td>0.0</td>\n",
              "      <td>0.0</td>\n",
              "    </tr>\n",
              "  </tbody>\n",
              "</table>\n",
              "<p>3 rows × 2000 columns</p>\n",
              "</div>"
            ],
            "text/plain": [
              "    00   01   02  0px   10  100주년  100주년을  10시  10일  10일까지  ...  회동을   회복  \\\n",
              "0  0.0  0.0  0.0  0.0  0.0    0.0     0.0  0.0  0.0    0.0  ...  0.0  0.0   \n",
              "1  0.0  0.0  0.0  0.0  0.0    0.0     0.0  0.0  0.0    0.0  ...  0.0  0.0   \n",
              "2  0.0  0.0  0.0  0.0  0.0    0.0     0.0  0.0  0.0    0.0  ...  0.0  0.0   \n",
              "\n",
              "   회의론을  회의를  회의에서   효과  효과를  후보지로   후속   힘을  \n",
              "0   0.0  0.0   0.0  0.0  0.0   0.0  0.0  0.0  \n",
              "1   0.0  0.0   0.0  0.0  0.0   0.0  0.0  0.0  \n",
              "2   0.0  0.0   0.0  0.0  0.0   0.0  0.0  0.0  \n",
              "\n",
              "[3 rows x 2000 columns]"
            ]
          },
          "metadata": {
            "tags": []
          },
          "execution_count": 15
        }
      ]
    },
    {
      "cell_type": "code",
      "metadata": {
        "id": "e7t60sPPq2Vy"
      },
      "source": [
        ""
      ],
      "execution_count": null,
      "outputs": []
    }
  ]
}