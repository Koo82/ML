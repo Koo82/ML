{
  "nbformat": 4,
  "nbformat_minor": 0,
  "metadata": {
    "colab": {
      "name": "g_01_파이선기초.ipynb",
      "provenance": [],
      "collapsed_sections": [
        "v_cZd_gQfMqh",
        "yynomsnffMqr",
        "zd5EnJeQfMrE"
      ]
    },
    "kernelspec": {
      "display_name": "Python 3",
      "language": "python",
      "name": "python3"
    },
    "language_info": {
      "codemirror_mode": {
        "name": "ipython",
        "version": 3
      },
      "file_extension": ".py",
      "mimetype": "text/x-python",
      "name": "python",
      "nbconvert_exporter": "python",
      "pygments_lexer": "ipython3",
      "version": "3.7.6"
    },
    "toc": {
      "base_numbering": 1,
      "nav_menu": {},
      "number_sections": false,
      "sideBar": true,
      "skip_h1_title": false,
      "title_cell": "Table of Contents",
      "title_sidebar": "Contents",
      "toc_cell": false,
      "toc_position": {
        "height": "calc(100% - 180px)",
        "left": "10px",
        "top": "150px",
        "width": "224px"
      },
      "toc_section_display": true,
      "toc_window_display": false
    }
  },
  "cells": [
    {
      "cell_type": "markdown",
      "metadata": {
        "id": "X3dBIDyofMpX"
      },
      "source": [
        "# 파이선 기초\n",
        "\n",
        "- 기본 변수 (단일 데이터 저장)\n",
        " - 정수(int), 부동소수(float), 문자열(strings), 불리언(bool)  \n",
        "- 데이터 묶음 (복수 데이터 저장)\n",
        " - 리스트(list), 배열(array), 튜풀(tuple), 사전(dictionary) \n",
        "- 프로그램 흐름\n",
        " - if, else, for, while"
      ]
    },
    {
      "cell_type": "markdown",
      "metadata": {
        "id": "Z-fTjX58Gt8P"
      },
      "source": [
        "# 기본 변수\n",
        "## 숫자\n",
        "- 단일 숫자를 담는 변수\n",
        "- 정수(int), 부동소수(float)"
      ]
    },
    {
      "cell_type": "markdown",
      "metadata": {
        "id": "__knGt8cGt8Q"
      },
      "source": [
        "### 변수에 값을 배정(assign)\n",
        "- \"=\"를 사용"
      ]
    },
    {
      "cell_type": "code",
      "metadata": {
        "id": "QosL1F6CfMpY",
        "outputId": "265957ec-434a-4637-f4cf-56336667a62e"
      },
      "source": [
        "x = 7\n",
        "print(x)"
      ],
      "execution_count": null,
      "outputs": [
        {
          "output_type": "stream",
          "text": [
            "7\n"
          ],
          "name": "stdout"
        }
      ]
    },
    {
      "cell_type": "code",
      "metadata": {
        "scrolled": true,
        "id": "TvQo-6RBGt8S",
        "outputId": "265957ec-434a-4637-f4cf-56336667a62e"
      },
      "source": [
        "y = 0.5\n",
        "print(x+y)"
      ],
      "execution_count": null,
      "outputs": [
        {
          "output_type": "stream",
          "text": [
            "7.5\n"
          ],
          "name": "stdout"
        }
      ]
    },
    {
      "cell_type": "code",
      "metadata": {
        "id": "VTIqoTRSfMpm",
        "outputId": "74472922-5f3d-465d-d640-6f2853494804"
      },
      "source": [
        "# 변수의 종류(타입) 보기\n",
        "type(x)"
      ],
      "execution_count": null,
      "outputs": [
        {
          "output_type": "execute_result",
          "data": {
            "text/plain": [
              "int"
            ]
          },
          "metadata": {
            "tags": []
          },
          "execution_count": 3
        }
      ]
    },
    {
      "cell_type": "code",
      "metadata": {
        "id": "d-DJlRKDGt8T",
        "outputId": "3a62c2cc-005c-4874-a048-69d0c820cec5"
      },
      "source": [
        "type(y)"
      ],
      "execution_count": null,
      "outputs": [
        {
          "output_type": "execute_result",
          "data": {
            "text/plain": [
              "float"
            ]
          },
          "metadata": {
            "tags": []
          },
          "execution_count": 4
        }
      ]
    },
    {
      "cell_type": "code",
      "metadata": {
        "id": "yVRTCpfMGt8T",
        "outputId": "9cb921bf-89fc-49d2-f4ae-98eb34f52366"
      },
      "source": [
        "# 변수에 새로운 값을 배정 (엎어쓰기)\n",
        "y = 4\n",
        "type(y)"
      ],
      "execution_count": null,
      "outputs": [
        {
          "output_type": "execute_result",
          "data": {
            "text/plain": [
              "int"
            ]
          },
          "metadata": {
            "tags": []
          },
          "execution_count": 5
        }
      ]
    },
    {
      "cell_type": "markdown",
      "metadata": {
        "id": "Manx0OA0Gt8V"
      },
      "source": [
        "### 4칙 연산"
      ]
    },
    {
      "cell_type": "code",
      "metadata": {
        "id": "-pKZarCdGt8V",
        "outputId": "1ee37dbc-2ea2-4ec2-a615-272615955e68"
      },
      "source": [
        "print(x+y)\n",
        "print(x-y)\n",
        "print(x*y)\n",
        "print(x/y)"
      ],
      "execution_count": null,
      "outputs": [
        {
          "output_type": "stream",
          "text": [
            "11\n",
            "3\n",
            "28\n",
            "1.75\n"
          ],
          "name": "stdout"
        }
      ]
    },
    {
      "cell_type": "code",
      "metadata": {
        "id": "HMrZysSvGt8W",
        "outputId": "f204e1d6-6964-48ea-d876-8095ab2f98cb"
      },
      "source": [
        "# 몫과 나머지 구하기\n",
        "print(x//y)\n",
        "print(x%y)"
      ],
      "execution_count": null,
      "outputs": [
        {
          "output_type": "stream",
          "text": [
            "1\n",
            "3\n"
          ],
          "name": "stdout"
        }
      ]
    },
    {
      "cell_type": "code",
      "metadata": {
        "id": "IAmcleSBGt8W",
        "outputId": "818a6cd1-d104-4def-9751-33a4b6a5ec70"
      },
      "source": [
        "# 승수 (power)\n",
        "print(x**y)  "
      ],
      "execution_count": null,
      "outputs": [
        {
          "output_type": "stream",
          "text": [
            "2401\n"
          ],
          "name": "stdout"
        }
      ]
    },
    {
      "cell_type": "code",
      "metadata": {
        "id": "dvmdP2_7Gt8X",
        "outputId": "4729d53c-cfe7-48f9-efb4-3368270a6dee"
      },
      "source": [
        "# 10의 지수승 표시 (exponential)\n",
        "z = 1.23e5\n",
        "z"
      ],
      "execution_count": null,
      "outputs": [
        {
          "output_type": "execute_result",
          "data": {
            "text/plain": [
              "123000.0"
            ]
          },
          "metadata": {
            "tags": []
          },
          "execution_count": 9
        }
      ]
    },
    {
      "cell_type": "code",
      "metadata": {
        "id": "tDujzh5xGt8X",
        "outputId": "267b8426-31f7-46f4-98ef-e076b54e11fb"
      },
      "source": [
        "z = 1.23E-2 # e, E는 동일하게 사용된다\n",
        "z"
      ],
      "execution_count": null,
      "outputs": [
        {
          "output_type": "execute_result",
          "data": {
            "text/plain": [
              "0.0123"
            ]
          },
          "metadata": {
            "tags": []
          },
          "execution_count": 10
        }
      ]
    },
    {
      "cell_type": "markdown",
      "metadata": {
        "id": "3zOmaU6AGt8Y"
      },
      "source": [
        "## 문자열"
      ]
    },
    {
      "cell_type": "code",
      "metadata": {
        "id": "xaxF7s5ufMpr",
        "scrolled": false,
        "outputId": "cb9fa748-3209-4ec6-efdd-379bf1aa4240"
      },
      "source": [
        "print(\"문자열 출력하기\")\n",
        "print('따옴표는 \"혼용\"이 가능합니다')\n",
        "print(\"본인의 '취향대로' 사용하세요\")"
      ],
      "execution_count": null,
      "outputs": [
        {
          "output_type": "stream",
          "text": [
            "문자열 출력하기\n",
            "따옴표는 \"혼용\"이 가능합니다\n",
            "본인의 '취향대로' 사용하세요\n"
          ],
          "name": "stdout"
        }
      ]
    },
    {
      "cell_type": "code",
      "metadata": {
        "id": "gHEkI0BQGt8Z",
        "outputId": "0837a96f-2803-4866-e12c-73a217cc11ea"
      },
      "source": [
        "print(\"특수 기호를 출력할 때는 \\\" 이렇게 백 슬래시를 사용하세요\")"
      ],
      "execution_count": null,
      "outputs": [
        {
          "output_type": "stream",
          "text": [
            "특수 기호를 출력할 때는 \" 이렇게 백 슬래시를 사용하세요\n"
          ],
          "name": "stdout"
        }
      ]
    },
    {
      "cell_type": "code",
      "metadata": {
        "id": "8Vx0VlHtGt8Z",
        "outputId": "2574a193-9122-4a4f-aba2-421ef8f86e44"
      },
      "source": [
        "print(\"새로운 줄(new line)을 출력하려면 \\n 백 슬래시를 사용하세요\")"
      ],
      "execution_count": null,
      "outputs": [
        {
          "output_type": "stream",
          "text": [
            "새로운 줄(new line)을 출력하려면 \n",
            " 백 슬래시를 사용하세요\n"
          ],
          "name": "stdout"
        }
      ]
    },
    {
      "cell_type": "code",
      "metadata": {
        "id": "IXSwUgJLGt8Z",
        "outputId": "2ee71de6-4cfa-40cf-8ddf-65d4745b05c1"
      },
      "source": [
        "x = \"임의의 문자열을..\"\n",
        "y = \"붙여서 새로운 문자열로 만든다\"\n",
        "print(x + y)"
      ],
      "execution_count": null,
      "outputs": [
        {
          "output_type": "stream",
          "text": [
            "임의의 문자열을..붙여서 새로운 문자열로 만든다\n"
          ],
          "name": "stdout"
        }
      ]
    },
    {
      "cell_type": "code",
      "metadata": {
        "id": "jm26FwdDGt8a",
        "outputId": "68ae3057-b6c1-4367-fd0c-7c5c8280fb5b"
      },
      "source": [
        "x * 3"
      ],
      "execution_count": null,
      "outputs": [
        {
          "output_type": "execute_result",
          "data": {
            "text/plain": [
              "'임의의 문자열을..임의의 문자열을..임의의 문자열을..'"
            ]
          },
          "metadata": {
            "tags": []
          },
          "execution_count": 15
        }
      ]
    },
    {
      "cell_type": "code",
      "metadata": {
        "id": "C42T__imGt8a",
        "outputId": "5fe47ddd-c60c-4ffa-815a-0d6d49303212"
      },
      "source": [
        "# 문자열의 길이 보기 (length)\n",
        "len(x)"
      ],
      "execution_count": null,
      "outputs": [
        {
          "output_type": "execute_result",
          "data": {
            "text/plain": [
              "10"
            ]
          },
          "metadata": {
            "tags": []
          },
          "execution_count": 16
        }
      ]
    },
    {
      "cell_type": "code",
      "metadata": {
        "id": "7OQ4yWDOGt8a",
        "outputId": "2b7ad09c-e319-4fd7-e81d-facb297e1c0a"
      },
      "source": [
        "# 특정 위치의 문자 보기 (indexing)\n",
        "x[5]"
      ],
      "execution_count": null,
      "outputs": [
        {
          "output_type": "execute_result",
          "data": {
            "text/plain": [
              "'자'"
            ]
          },
          "metadata": {
            "tags": []
          },
          "execution_count": 17
        }
      ]
    },
    {
      "cell_type": "code",
      "metadata": {
        "id": "UUo6VzghGt8b",
        "outputId": "0a403875-c18b-479d-dbce-d40221a213d0"
      },
      "source": [
        "# 일부분만 보기 (slicing)\n",
        "x[2:6] # 이상 ~ 미만"
      ],
      "execution_count": null,
      "outputs": [
        {
          "output_type": "execute_result",
          "data": {
            "text/plain": [
              "'의 문자'"
            ]
          },
          "metadata": {
            "tags": []
          },
          "execution_count": 18
        }
      ]
    },
    {
      "cell_type": "code",
      "metadata": {
        "id": "7hXDZr5nGt8b",
        "outputId": "34d2ad81-7b7b-4bfb-9c06-6222a9d0950b"
      },
      "source": [
        "x[6:9] # 7번째 ~9번째까지"
      ],
      "execution_count": null,
      "outputs": [
        {
          "output_type": "execute_result",
          "data": {
            "text/plain": [
              "'열을.'"
            ]
          },
          "metadata": {
            "tags": []
          },
          "execution_count": 19
        }
      ]
    },
    {
      "cell_type": "code",
      "metadata": {
        "id": "UGVjcAvlGt8c",
        "outputId": "b1d83aee-7636-46ef-ebf0-86f3edadd170"
      },
      "source": [
        "# 뒤에서부터 카운트\n",
        "x[-1]"
      ],
      "execution_count": null,
      "outputs": [
        {
          "output_type": "execute_result",
          "data": {
            "text/plain": [
              "'.'"
            ]
          },
          "metadata": {
            "tags": []
          },
          "execution_count": 20
        }
      ]
    },
    {
      "cell_type": "code",
      "metadata": {
        "id": "TtiWS8FMGt8c",
        "outputId": "8eff95e4-c1a6-4f04-c2b5-1017ef89f9c1"
      },
      "source": [
        "x"
      ],
      "execution_count": null,
      "outputs": [
        {
          "output_type": "execute_result",
          "data": {
            "text/plain": [
              "'임의의 문자열을..'"
            ]
          },
          "metadata": {
            "tags": []
          },
          "execution_count": 21
        }
      ]
    },
    {
      "cell_type": "code",
      "metadata": {
        "id": "o2UlCq2NGt8d",
        "outputId": "24fa7e68-db8a-4dfc-c200-f21b91513155"
      },
      "source": [
        "x[2:-3]"
      ],
      "execution_count": null,
      "outputs": [
        {
          "output_type": "execute_result",
          "data": {
            "text/plain": [
              "'의 문자열'"
            ]
          },
          "metadata": {
            "tags": []
          },
          "execution_count": 22
        }
      ]
    },
    {
      "cell_type": "markdown",
      "metadata": {
        "id": "odNYbAPyGt8d"
      },
      "source": [
        "### 문자열 조작, split과 join\n",
        "- 문자열을 공백, \"/\", \",\" 등을 기준으로 나누거나 합친다\n",
        "- 나누어진 항목은 리스트(list)에 저장된다 (리스트는 여러 데이터를 묶은 것)"
      ]
    },
    {
      "cell_type": "code",
      "metadata": {
        "id": "HzcByGv9Gt8d",
        "outputId": "a6af6cf6-c474-46cb-f871-5ae0982da94f"
      },
      "source": [
        "# 공백 기준으로 나눈 리스트를 얻는다\n",
        "print(x)\n",
        "x.split()"
      ],
      "execution_count": null,
      "outputs": [
        {
          "output_type": "stream",
          "text": [
            "임의의 문자열을..\n"
          ],
          "name": "stdout"
        },
        {
          "output_type": "execute_result",
          "data": {
            "text/plain": [
              "['임의의', '문자열을..']"
            ]
          },
          "metadata": {
            "tags": []
          },
          "execution_count": 23
        }
      ]
    },
    {
      "cell_type": "code",
      "metadata": {
        "id": "QDxhu1JEGt8e",
        "outputId": "40952484-5963-46de-e121-39001e2150f3"
      },
      "source": [
        "# \"/\"를 기준으로 나눈다\n",
        "y = '12/31/2030'\n",
        "z = y.split('/')\n",
        "z"
      ],
      "execution_count": null,
      "outputs": [
        {
          "output_type": "execute_result",
          "data": {
            "text/plain": [
              "['12', '31', '2030']"
            ]
          },
          "metadata": {
            "tags": []
          },
          "execution_count": 24
        }
      ]
    },
    {
      "cell_type": "code",
      "metadata": {
        "id": "wnm4VZvHGt8f",
        "outputId": "ff3b0bc6-11cc-4fe9-941f-4ebca038fce6"
      },
      "source": [
        "# 리스트의 인덱싱\n",
        "z[2]"
      ],
      "execution_count": null,
      "outputs": [
        {
          "output_type": "execute_result",
          "data": {
            "text/plain": [
              "'2030'"
            ]
          },
          "metadata": {
            "tags": []
          },
          "execution_count": 25
        }
      ]
    },
    {
      "cell_type": "code",
      "metadata": {
        "id": "Ifc5m6jtGt8f",
        "outputId": "d97bcce7-6be9-4ac3-cf6f-74b456e33154"
      },
      "source": [
        "# 리스트 내의 문자열들을 합치기\n",
        "\",\".join(z)"
      ],
      "execution_count": null,
      "outputs": [
        {
          "output_type": "execute_result",
          "data": {
            "text/plain": [
              "'12,31,2030'"
            ]
          },
          "metadata": {
            "tags": []
          },
          "execution_count": 26
        }
      ]
    },
    {
      "cell_type": "code",
      "metadata": {
        "id": "Jg3eXKVMGt8g",
        "outputId": "98d67914-ab5d-4567-948a-ac428a184ac1"
      },
      "source": [
        "# 순서를 바꾸어서 합치기\n",
        "\"-\".join((z[2], z[1], z[0]))"
      ],
      "execution_count": null,
      "outputs": [
        {
          "output_type": "execute_result",
          "data": {
            "text/plain": [
              "'2030-31-12'"
            ]
          },
          "metadata": {
            "tags": []
          },
          "execution_count": 27
        }
      ]
    },
    {
      "cell_type": "code",
      "metadata": {
        "id": "ZJTlzSEzGt8g",
        "outputId": "4027abbb-6272-4a8e-f02c-48a5bf74a843"
      },
      "source": [
        "# 문자열 교체 (replace)\n",
        "print(x)\n",
        "print(x.replace(\"문자열\", \"긴 문장들\"))"
      ],
      "execution_count": null,
      "outputs": [
        {
          "output_type": "stream",
          "text": [
            "임의의 문자열을..\n",
            "임의의 긴 문장들을..\n"
          ],
          "name": "stdout"
        }
      ]
    },
    {
      "cell_type": "markdown",
      "metadata": {
        "id": "-1r_4SpwGt8h"
      },
      "source": [
        "### 문자열에 포맷( format) 사용하기\n",
        "- \"%\" 사용\n",
        "- format() 사용\n",
        "- f\"...\" 사용"
      ]
    },
    {
      "cell_type": "code",
      "metadata": {
        "id": "nvxbwaz3Gt8h",
        "outputId": "8a48b9c0-48ad-471d-a94d-d346aba954d5"
      },
      "source": [
        "\"변수가 %d 개 들어 있는 문자열 출력하기\" %10"
      ],
      "execution_count": null,
      "outputs": [
        {
          "output_type": "execute_result",
          "data": {
            "text/plain": [
              "'변수가 10 개 들어 있는 문자열 출력하기'"
            ]
          },
          "metadata": {
            "tags": []
          },
          "execution_count": 29
        }
      ]
    },
    {
      "cell_type": "code",
      "metadata": {
        "id": "R-UAfP6hGt8h",
        "outputId": "559ee195-bc57-44cc-c8b0-96a1a5bdc81d"
      },
      "source": [
        "x = 5\n",
        "print(\"변수가 %d 개 들어 있는 문자열 출력하기\" %x)"
      ],
      "execution_count": null,
      "outputs": [
        {
          "output_type": "stream",
          "text": [
            "변수가 5 개 들어 있는 문자열 출력하기\n"
          ],
          "name": "stdout"
        }
      ]
    },
    {
      "cell_type": "code",
      "metadata": {
        "id": "BO2WEv2wGt8i",
        "outputId": "6cd9b739-9667-41c8-d325-5617597060b5"
      },
      "source": [
        "# 정수와 소수 사용\n",
        "x = 5 \n",
        "y = 97.5\n",
        "print(\"변수가 %d 개 들어 있는 문자열 %0.2f 점 주기\" %(x,y))"
      ],
      "execution_count": null,
      "outputs": [
        {
          "output_type": "stream",
          "text": [
            "변수가 5 개 들어 있는 문자열 97.50 점 주기\n"
          ],
          "name": "stdout"
        }
      ]
    },
    {
      "cell_type": "markdown",
      "metadata": {
        "id": "UG9JX0RlGt8i"
      },
      "source": [
        "- format 을 사용하는 방법\n"
      ]
    },
    {
      "cell_type": "code",
      "metadata": {
        "id": "1kEz7sZUGt8i",
        "outputId": "ea86864a-c9b4-47b9-cd08-e2c741fba663"
      },
      "source": [
        "# 위치로 지정\n",
        "print(\"변수가 {0} 개 들어 있는 문자열 {1}점 주기\".format(x,y))"
      ],
      "execution_count": null,
      "outputs": [
        {
          "output_type": "stream",
          "text": [
            "변수가 5 개 들어 있는 문자열 97.5점 주기\n"
          ],
          "name": "stdout"
        }
      ]
    },
    {
      "cell_type": "code",
      "metadata": {
        "id": "KoY-xipwGt8j",
        "outputId": "39dd7b54-13d6-4e6d-a564-7a07c71bcc31"
      },
      "source": [
        "# 변수를 지정\n",
        "print(\"변수가 {n2} 개 들어 있는 문자열 {n1}점 주기\".format(n2=x,n1=y))"
      ],
      "execution_count": null,
      "outputs": [
        {
          "output_type": "stream",
          "text": [
            "변수가 5 개 들어 있는 문자열 97.5점 주기\n"
          ],
          "name": "stdout"
        }
      ]
    },
    {
      "cell_type": "markdown",
      "metadata": {
        "id": "dTsdyiGUGt8j"
      },
      "source": [
        "- f\"...\"를 사용하는 방법"
      ]
    },
    {
      "cell_type": "code",
      "metadata": {
        "id": "sTuxqndVGt8j",
        "outputId": "64ba2743-035f-4871-a1a6-7eb02be962ca"
      },
      "source": [
        "# 간편하게 \"...\" 앞에 f를 붙인다\n",
        "print(f\"변수가 {x} 개 들어 있는 문자열 {y}점 주기\")"
      ],
      "execution_count": null,
      "outputs": [
        {
          "output_type": "stream",
          "text": [
            "변수가 5 개 들어 있는 문자열 97.5점 주기\n"
          ],
          "name": "stdout"
        }
      ]
    },
    {
      "cell_type": "code",
      "metadata": {
        "id": "TADch-X_HpMR",
        "outputId": "a54bcca1-fffa-47f0-a681-a2a5909b5f67",
        "colab": {
          "base_uri": "https://localhost:8080/"
        }
      },
      "source": [
        "temp = \"코드\"; temp2 = 2\n",
        "print(f\"이것은 처음 써보는 {temp} 인것 같네. {temp2}번 쓰게 만드네\")"
      ],
      "execution_count": 3,
      "outputs": [
        {
          "output_type": "stream",
          "text": [
            "이것은 처음 써보는 코드 인것 같네. 2번 쓰게 만드네\n"
          ],
          "name": "stdout"
        }
      ]
    },
    {
      "cell_type": "markdown",
      "metadata": {
        "id": "sJ5NDHXwGt8k"
      },
      "source": [
        "### 소숫점 포매팅\n",
        "- \":\"를 사용"
      ]
    },
    {
      "cell_type": "code",
      "metadata": {
        "id": "WCbHC67qGt8k",
        "outputId": "ace62880-a15a-4fa3-8157-bab81d23aac3"
      },
      "source": [
        "phi = 3.141592\n",
        "f\"{phi}\""
      ],
      "execution_count": null,
      "outputs": [
        {
          "output_type": "execute_result",
          "data": {
            "text/plain": [
              "'3.141592'"
            ]
          },
          "metadata": {
            "tags": []
          },
          "execution_count": 35
        }
      ]
    },
    {
      "cell_type": "code",
      "metadata": {
        "id": "zLw5ZhcvGt8l",
        "outputId": "01437eae-d285-42db-f15b-d73c42b2ac89"
      },
      "source": [
        "print(f\"{phi}\")\n",
        "print(f\"{phi:0.4f}\")\n",
        "print(f\"{phi:0.2f}\")"
      ],
      "execution_count": null,
      "outputs": [
        {
          "output_type": "stream",
          "text": [
            "3.141592\n",
            "3.1416\n",
            "3.14\n"
          ],
          "name": "stdout"
        }
      ]
    },
    {
      "cell_type": "code",
      "metadata": {
        "id": "fJyZKCQiIOvv",
        "outputId": "ba400f02-e894-45af-97d1-902e99fbc6e4",
        "colab": {
          "base_uri": "https://localhost:8080/",
          "height": 35
        }
      },
      "source": [
        "'{phi:0.4f} 이렇게도 표시될까?'.format(phi=3.141592)"
      ],
      "execution_count": 4,
      "outputs": [
        {
          "output_type": "execute_result",
          "data": {
            "application/vnd.google.colaboratory.intrinsic+json": {
              "type": "string"
            },
            "text/plain": [
              "'3.1416 이렇게도 표시될까?'"
            ]
          },
          "metadata": {
            "tags": []
          },
          "execution_count": 4
        }
      ]
    },
    {
      "cell_type": "markdown",
      "metadata": {
        "id": "cIMG5HXuGt8l"
      },
      "source": [
        "## 불리언\n",
        "- 참과 거짓을 True, False로 표현\n",
        "- 대소문자를 구분함"
      ]
    },
    {
      "cell_type": "code",
      "metadata": {
        "id": "li-KXSyVfMpv",
        "outputId": "83d20d0b-583f-4813-d36a-992fb6925c94"
      },
      "source": [
        "a = True\n",
        "b = False\n",
        "a & b"
      ],
      "execution_count": null,
      "outputs": [
        {
          "output_type": "execute_result",
          "data": {
            "text/plain": [
              "False"
            ]
          },
          "metadata": {
            "tags": []
          },
          "execution_count": 37
        }
      ]
    },
    {
      "cell_type": "code",
      "metadata": {
        "id": "dhdJUqhkGt8m",
        "outputId": "a8c801d4-afc0-4aff-ed3e-3eb61b401d89"
      },
      "source": [
        "a | b"
      ],
      "execution_count": null,
      "outputs": [
        {
          "output_type": "execute_result",
          "data": {
            "text/plain": [
              "True"
            ]
          },
          "metadata": {
            "tags": []
          },
          "execution_count": 38
        }
      ]
    },
    {
      "cell_type": "markdown",
      "metadata": {
        "id": "bDHK--GCGt8m"
      },
      "source": [
        "- \">\", \"<\", \"==\" 등 조건문을 사용하여 불리언 값을 얻을 수 있다"
      ]
    },
    {
      "cell_type": "code",
      "metadata": {
        "id": "ndcz8cVnGt8m",
        "outputId": "80359739-d5a9-488d-d4c6-1eda7a968880"
      },
      "source": [
        "x = 3\n",
        "x < 1"
      ],
      "execution_count": null,
      "outputs": [
        {
          "output_type": "execute_result",
          "data": {
            "text/plain": [
              "False"
            ]
          },
          "metadata": {
            "tags": []
          },
          "execution_count": 39
        }
      ]
    },
    {
      "cell_type": "code",
      "metadata": {
        "id": "SIWJD6NTGt8n",
        "outputId": "feb14c67-165b-4a0e-d683-c9eb34828ec9"
      },
      "source": [
        "x > 1"
      ],
      "execution_count": null,
      "outputs": [
        {
          "output_type": "execute_result",
          "data": {
            "text/plain": [
              "True"
            ]
          },
          "metadata": {
            "tags": []
          },
          "execution_count": 40
        }
      ]
    },
    {
      "cell_type": "code",
      "metadata": {
        "id": "yAkfwuIiGt8n",
        "outputId": "8da49241-dd1a-4693-e1b0-0cc5b7bc8aa7"
      },
      "source": [
        "# 어떤 값이 같은지를 보는 조건문에는 \"==\"를 사용한다\n",
        "x == 3"
      ],
      "execution_count": null,
      "outputs": [
        {
          "output_type": "execute_result",
          "data": {
            "text/plain": [
              "True"
            ]
          },
          "metadata": {
            "tags": []
          },
          "execution_count": 41
        }
      ]
    },
    {
      "cell_type": "markdown",
      "metadata": {
        "id": "-UpLDzKhGt8n"
      },
      "source": [
        "### 불리언의 연산\n",
        "- 불리언 변수가 연산에 사용되면 True는 1로, False는 0으로 취급된다"
      ]
    },
    {
      "cell_type": "code",
      "metadata": {
        "id": "8hYf20fffMpz",
        "outputId": "8f84af13-8047-4b37-e683-0095f9dd4b0c"
      },
      "source": [
        "print(a)\n",
        "print(b)\n",
        "print(a+b+3)"
      ],
      "execution_count": null,
      "outputs": [
        {
          "output_type": "stream",
          "text": [
            "True\n",
            "False\n",
            "4\n"
          ],
          "name": "stdout"
        }
      ]
    },
    {
      "cell_type": "code",
      "metadata": {
        "id": "WkZXtkAzfMp2",
        "outputId": "e6bba6f4-78e6-464e-ed0f-1ee8c5a93eaa"
      },
      "source": [
        "a*1"
      ],
      "execution_count": null,
      "outputs": [
        {
          "output_type": "execute_result",
          "data": {
            "text/plain": [
              "1"
            ]
          },
          "metadata": {
            "tags": []
          },
          "execution_count": 43
        }
      ]
    },
    {
      "cell_type": "code",
      "metadata": {
        "id": "Bl0o-owsGt8o",
        "outputId": "9f470218-3d53-4cca-8e65-d88a6214f92e"
      },
      "source": [
        "b*1"
      ],
      "execution_count": null,
      "outputs": [
        {
          "output_type": "execute_result",
          "data": {
            "text/plain": [
              "0"
            ]
          },
          "metadata": {
            "tags": []
          },
          "execution_count": 44
        }
      ]
    },
    {
      "cell_type": "code",
      "metadata": {
        "id": "abhCG1scGt8p",
        "outputId": "3048bea2-5da6-4d73-8e63-1f65e0a35cff"
      },
      "source": [
        "a = bool(0)\n",
        "a"
      ],
      "execution_count": null,
      "outputs": [
        {
          "output_type": "execute_result",
          "data": {
            "text/plain": [
              "False"
            ]
          },
          "metadata": {
            "tags": []
          },
          "execution_count": 45
        }
      ]
    },
    {
      "cell_type": "markdown",
      "metadata": {
        "id": "SR1EuTvjfMp7"
      },
      "source": [
        "# 데이터 묶음\n",
        " - 단 변수들을 여러개 묶어 처리하는 방법\n",
        " - 리스트(list), 배열(array), 튜플(tuple), 사전(dictionary)"
      ]
    },
    {
      "cell_type": "markdown",
      "metadata": {
        "id": "7kdjX8pTGt8p"
      },
      "source": [
        "## 리스트\n",
        " - 파이썬에서 가장 널리 사용되는 데이터 조작용 \"통\"\n",
        " - 리스트를 구성하는 각 항목의 데이터 타입은 서로 달라도 된다"
      ]
    },
    {
      "cell_type": "markdown",
      "metadata": {
        "id": "5kSYp0PEGt8p"
      },
      "source": [
        "### 리스트 생성\n",
        " - 리스트를 만들려면 대괄호 \"[ ]\" 를 사용하고 각 항목을 ','로 구분한다\n",
        " - list() 함수로도 만들 수 있다"
      ]
    },
    {
      "cell_type": "code",
      "metadata": {
        "id": "vfmktw7gfMp8",
        "outputId": "9d702bf1-2d24-4712-84ec-8f7e8424762c"
      },
      "source": [
        "x = [1,2,3] ; x"
      ],
      "execution_count": null,
      "outputs": [
        {
          "output_type": "execute_result",
          "data": {
            "text/plain": [
              "[1, 2, 3]"
            ]
          },
          "metadata": {
            "tags": []
          },
          "execution_count": 46
        }
      ]
    },
    {
      "cell_type": "code",
      "metadata": {
        "id": "jcH5kiwqGt8r",
        "outputId": "e6d5bfe6-3193-425f-fc46-c3d483d0c792"
      },
      "source": [
        "type(x)"
      ],
      "execution_count": null,
      "outputs": [
        {
          "output_type": "execute_result",
          "data": {
            "text/plain": [
              "list"
            ]
          },
          "metadata": {
            "tags": []
          },
          "execution_count": 47
        }
      ]
    },
    {
      "cell_type": "code",
      "metadata": {
        "id": "GcDGn-8oGt8r",
        "outputId": "f5a32229-87e3-4795-c0cd-0515a57ed6a6"
      },
      "source": [
        "x = list([10,20,30]) ; x"
      ],
      "execution_count": null,
      "outputs": [
        {
          "output_type": "execute_result",
          "data": {
            "text/plain": [
              "[10, 20, 30]"
            ]
          },
          "metadata": {
            "tags": []
          },
          "execution_count": 48
        }
      ]
    },
    {
      "cell_type": "code",
      "metadata": {
        "id": "54v-f8W8fMqD",
        "outputId": "b52ca47c-248f-4829-c033-f5af94893d0b"
      },
      "source": [
        "# 리스트 길이 (항목의 갯수)\n",
        "len(x)"
      ],
      "execution_count": null,
      "outputs": [
        {
          "output_type": "execute_result",
          "data": {
            "text/plain": [
              "3"
            ]
          },
          "metadata": {
            "tags": []
          },
          "execution_count": 49
        }
      ]
    },
    {
      "cell_type": "markdown",
      "metadata": {
        "id": "7dpLwYcyGt8s"
      },
      "source": [
        "### 인덱싱\n",
        "- 리스트에서 특정 위치의 항목 값을 얻는다\n",
        "- 위치 번호는 '1'이 아니라 '0'부터 시작한다"
      ]
    },
    {
      "cell_type": "code",
      "metadata": {
        "id": "NCikFr1afMqG",
        "outputId": "bd91297a-d9b2-4173-9ff9-deb51da01bf5"
      },
      "source": [
        "x[1]"
      ],
      "execution_count": null,
      "outputs": [
        {
          "output_type": "execute_result",
          "data": {
            "text/plain": [
              "20"
            ]
          },
          "metadata": {
            "tags": []
          },
          "execution_count": 50
        }
      ]
    },
    {
      "cell_type": "code",
      "metadata": {
        "id": "pIgg8MmlfMqJ",
        "scrolled": true,
        "outputId": "5d71e0f9-9462-4cd0-f2b5-a083e26ed07d"
      },
      "source": [
        "# 인덱싱을 이용한 항목 값의 변경 (assign)\n",
        "x[2]=100 ; x"
      ],
      "execution_count": null,
      "outputs": [
        {
          "output_type": "execute_result",
          "data": {
            "text/plain": [
              "[10, 20, 100]"
            ]
          },
          "metadata": {
            "tags": []
          },
          "execution_count": 51
        }
      ]
    },
    {
      "cell_type": "markdown",
      "metadata": {
        "id": "TyrzxisxGt8t"
      },
      "source": [
        "### 슬라이싱\n",
        "- 어떤 범위의 항목을 얻는다"
      ]
    },
    {
      "cell_type": "code",
      "metadata": {
        "id": "PZNFeB9hfMqN",
        "scrolled": true,
        "outputId": "3c15b21b-5c03-4a17-83f7-d3c805cac456"
      },
      "source": [
        "x = [1,2,3,5,100]\n",
        "\n",
        "# 슬라이싱으로 범위를 선택한다 (뒷쪽 경계는 포함하지 않음)\n",
        "x[1:3]"
      ],
      "execution_count": null,
      "outputs": [
        {
          "output_type": "execute_result",
          "data": {
            "text/plain": [
              "[2, 3]"
            ]
          },
          "metadata": {
            "tags": []
          },
          "execution_count": 52
        }
      ]
    },
    {
      "cell_type": "code",
      "metadata": {
        "id": "CCZqGacyfMqR",
        "outputId": "2b8132ca-9cc8-4e38-ed45-3a1e8d93c8ca"
      },
      "source": [
        "# 뒤에서부터 인덱싱할 때는 '-' 를 사용\n",
        "x[-2]"
      ],
      "execution_count": null,
      "outputs": [
        {
          "output_type": "execute_result",
          "data": {
            "text/plain": [
              "5"
            ]
          },
          "metadata": {
            "tags": []
          },
          "execution_count": 53
        }
      ]
    },
    {
      "cell_type": "code",
      "metadata": {
        "id": "PJOF9IuZfMqZ",
        "outputId": "b8cea724-8db4-49da-8716-c2fd4258f6d4"
      },
      "source": [
        "x[0:4]"
      ],
      "execution_count": null,
      "outputs": [
        {
          "output_type": "execute_result",
          "data": {
            "text/plain": [
              "[1, 2, 3, 5]"
            ]
          },
          "metadata": {
            "tags": []
          },
          "execution_count": 54
        }
      ]
    },
    {
      "cell_type": "markdown",
      "metadata": {
        "id": "VykOCGYGGt8u"
      },
      "source": [
        "### 특정 값이 있는 항목의 위치(index) 얻기\n",
        "- index() 사용"
      ]
    },
    {
      "cell_type": "code",
      "metadata": {
        "id": "8VK0V9bqGt8u",
        "outputId": "dc6fa72b-957e-46c2-c2b7-5f5db041bd77"
      },
      "source": [
        "x"
      ],
      "execution_count": null,
      "outputs": [
        {
          "output_type": "execute_result",
          "data": {
            "text/plain": [
              "[1, 2, 3, 5, 100]"
            ]
          },
          "metadata": {
            "tags": []
          },
          "execution_count": 55
        }
      ]
    },
    {
      "cell_type": "code",
      "metadata": {
        "id": "9X6VEgaHGt8v",
        "outputId": "ad1a8e86-17ef-479f-b6b8-b879d74c4860"
      },
      "source": [
        "x.index(100)"
      ],
      "execution_count": null,
      "outputs": [
        {
          "output_type": "execute_result",
          "data": {
            "text/plain": [
              "4"
            ]
          },
          "metadata": {
            "tags": []
          },
          "execution_count": 56
        }
      ]
    },
    {
      "cell_type": "markdown",
      "metadata": {
        "id": "0zfvIBQdGt8v"
      },
      "source": [
        "### 항목 추가 및 삭제: append(), del()"
      ]
    },
    {
      "cell_type": "code",
      "metadata": {
        "id": "XpSrOjU2fMqe",
        "outputId": "682d1a04-f04c-4f7f-a8ee-a3e44f7765c3"
      },
      "source": [
        "print(x)\n",
        "x.append('park') # 맨 뒤에 추가된다\n",
        "x"
      ],
      "execution_count": null,
      "outputs": [
        {
          "output_type": "stream",
          "text": [
            "[1, 2, 3, 5, 100]\n"
          ],
          "name": "stdout"
        },
        {
          "output_type": "execute_result",
          "data": {
            "text/plain": [
              "[1, 2, 3, 5, 100, 'park']"
            ]
          },
          "metadata": {
            "tags": []
          },
          "execution_count": 57
        }
      ]
    },
    {
      "cell_type": "code",
      "metadata": {
        "id": "WO2EjeLSGt8w",
        "outputId": "d02ec5f5-9d6e-4a3a-9052-f7eafc333418"
      },
      "source": [
        "# 특정 위치의 항목을 제거 (복구가 안되므로 주의)\n",
        "del x[2]\n",
        "x"
      ],
      "execution_count": null,
      "outputs": [
        {
          "output_type": "execute_result",
          "data": {
            "text/plain": [
              "[1, 2, 5, 100, 'park']"
            ]
          },
          "metadata": {
            "tags": []
          },
          "execution_count": 58
        }
      ]
    },
    {
      "cell_type": "code",
      "metadata": {
        "id": "K6RyyPcoGt8w",
        "outputId": "3b3ef032-6c95-4af8-a8b7-98ff73c00838"
      },
      "source": [
        "# 특정 항목의 갯수를 센다 (count)\n",
        "x.count('park')"
      ],
      "execution_count": null,
      "outputs": [
        {
          "output_type": "execute_result",
          "data": {
            "text/plain": [
              "1"
            ]
          },
          "metadata": {
            "tags": []
          },
          "execution_count": 59
        }
      ]
    },
    {
      "cell_type": "code",
      "metadata": {
        "id": "MAqKj5tXGt8x",
        "outputId": "c3bd80d2-597e-41dc-b697-533b14951efc"
      },
      "source": [
        "x.append('park')\n",
        "x.count('park')"
      ],
      "execution_count": null,
      "outputs": [
        {
          "output_type": "execute_result",
          "data": {
            "text/plain": [
              "2"
            ]
          },
          "metadata": {
            "tags": []
          },
          "execution_count": 60
        }
      ]
    },
    {
      "cell_type": "code",
      "metadata": {
        "id": "fyNoDZS8Gt8y",
        "outputId": "88f41816-009a-4f8b-ae41-8d91d09a2c8f"
      },
      "source": [
        "x"
      ],
      "execution_count": null,
      "outputs": [
        {
          "output_type": "execute_result",
          "data": {
            "text/plain": [
              "[1, 2, 5, 100, 'park', 'park']"
            ]
          },
          "metadata": {
            "tags": []
          },
          "execution_count": 61
        }
      ]
    },
    {
      "cell_type": "markdown",
      "metadata": {
        "id": "wy6cdjQAGt8y"
      },
      "source": [
        "### 리스트 정렬, sorted\n",
        "- 숫자 또는 알파벳순으로 정렬한다"
      ]
    },
    {
      "cell_type": "code",
      "metadata": {
        "id": "DnIOwVJnGt8y",
        "outputId": "2cc7fa87-b12e-491f-9aec-81cfd0b6ac21"
      },
      "source": [
        "x = [\"park\", \"kim\", \"lee\"]\n",
        "sorted(x)"
      ],
      "execution_count": null,
      "outputs": [
        {
          "output_type": "execute_result",
          "data": {
            "text/plain": [
              "['kim', 'lee', 'park']"
            ]
          },
          "metadata": {
            "tags": []
          },
          "execution_count": 62
        }
      ]
    },
    {
      "cell_type": "code",
      "metadata": {
        "id": "ewEfkjwKGt8z",
        "outputId": "89e10462-b22d-409d-b5e6-f48ed97e3577"
      },
      "source": [
        "x = [5,3,6,7,8,2,4,1]\n",
        "sorted(x)"
      ],
      "execution_count": null,
      "outputs": [
        {
          "output_type": "execute_result",
          "data": {
            "text/plain": [
              "[1, 2, 3, 4, 5, 6, 7, 8]"
            ]
          },
          "metadata": {
            "tags": []
          },
          "execution_count": 63
        }
      ]
    },
    {
      "cell_type": "code",
      "metadata": {
        "id": "Phh_Nj7SGt8z",
        "outputId": "c8f32f7a-6469-4c3c-dd88-9b74b586dd92"
      },
      "source": [
        "# 원본 x는 바뀌지 않고 그대로 있다\n",
        "x"
      ],
      "execution_count": null,
      "outputs": [
        {
          "output_type": "execute_result",
          "data": {
            "text/plain": [
              "[5, 3, 6, 7, 8, 2, 4, 1]"
            ]
          },
          "metadata": {
            "tags": []
          },
          "execution_count": 64
        }
      ]
    },
    {
      "cell_type": "code",
      "metadata": {
        "id": "wSWii0i2Gt80",
        "outputId": "a9576b38-5226-4268-e2a0-326cc64fda7e"
      },
      "source": [
        "# 순서 뒤집기\n",
        "x.reverse()\n",
        "x"
      ],
      "execution_count": null,
      "outputs": [
        {
          "output_type": "execute_result",
          "data": {
            "text/plain": [
              "[1, 4, 2, 8, 7, 6, 3, 5]"
            ]
          },
          "metadata": {
            "tags": []
          },
          "execution_count": 65
        }
      ]
    },
    {
      "cell_type": "markdown",
      "metadata": {
        "id": "Bjkw2ap7Gt80"
      },
      "source": [
        "### 리스트 복제\n",
        "- 리스트 전체를 반복 복제 하려면 \"*\"를 사용한다"
      ]
    },
    {
      "cell_type": "code",
      "metadata": {
        "id": "aJDVIfuifMqA",
        "outputId": "afdee7bc-89cc-4c77-a5ff-de85d4879877"
      },
      "source": [
        "x = [1,2,3,\"kim\"]\n",
        "x*3"
      ],
      "execution_count": null,
      "outputs": [
        {
          "output_type": "execute_result",
          "data": {
            "text/plain": [
              "[1, 2, 3, 'kim', 1, 2, 3, 'kim', 1, 2, 3, 'kim']"
            ]
          },
          "metadata": {
            "tags": []
          },
          "execution_count": 66
        }
      ]
    },
    {
      "cell_type": "code",
      "metadata": {
        "id": "gJjWA8yYGt86",
        "outputId": "ab55a722-a9d3-4f84-c953-14a375483ec8"
      },
      "source": [
        "x = [1]\n",
        "x*10"
      ],
      "execution_count": null,
      "outputs": [
        {
          "output_type": "execute_result",
          "data": {
            "text/plain": [
              "[1, 1, 1, 1, 1, 1, 1, 1, 1, 1]"
            ]
          },
          "metadata": {
            "tags": []
          },
          "execution_count": 67
        }
      ]
    },
    {
      "cell_type": "markdown",
      "metadata": {
        "id": "v_cZd_gQfMqh"
      },
      "source": [
        "## 튜플 (tuple)\n",
        "- 튜플도 리스트처럼 여러 항목을 담을 수 있는 변수\n",
        "- 리스트와 달리 튜플의 내용은 '상수'로 취급되어 값을 바꿀 수 없다\n",
        "- 읽기 전용 리스트인 셈이며, 처리 속도가 빠르다\n",
        "- 튜플을 만들려면 소괄호( )를 사용하여 만들거나 ( )  없이 \",\" 로 구분하여 나열한다"
      ]
    },
    {
      "cell_type": "code",
      "metadata": {
        "id": "FWh2t30OfMqi",
        "outputId": "07768f3c-c5fc-4107-f609-9ce2d3d29036"
      },
      "source": [
        "my_tuple = (1, 2, 3)\n",
        "your_tuple = 4, 5,\"hello\"\n",
        "my_tuple + your_tuple"
      ],
      "execution_count": null,
      "outputs": [
        {
          "output_type": "execute_result",
          "data": {
            "text/plain": [
              "(1, 2, 3, 4, 5, 'hello')"
            ]
          },
          "metadata": {
            "tags": []
          },
          "execution_count": 68
        }
      ]
    },
    {
      "cell_type": "code",
      "metadata": {
        "id": "4fKitRN3fMql",
        "outputId": "2b55a6eb-b130-4bbd-8e05-76f4c86a38bc"
      },
      "source": [
        "a, b, c = 3, 4, 5\n",
        "print(a)\n",
        "print(b)\n",
        "print(a+b+c)"
      ],
      "execution_count": null,
      "outputs": [
        {
          "output_type": "stream",
          "text": [
            "3\n",
            "4\n",
            "12\n"
          ],
          "name": "stdout"
        }
      ]
    },
    {
      "cell_type": "code",
      "metadata": {
        "id": "z8ckdkE6Gt87",
        "outputId": "5774edaf-61b7-4cc8-a4b3-50ca0cd07e36"
      },
      "source": [
        "(a, b, c) = (3, 4, 5)\n",
        "print(a+b+c)"
      ],
      "execution_count": null,
      "outputs": [
        {
          "output_type": "stream",
          "text": [
            "12\n"
          ],
          "name": "stdout"
        }
      ]
    },
    {
      "cell_type": "markdown",
      "metadata": {
        "id": "yynomsnffMqr"
      },
      "source": [
        "## 사전 (Dictionaries)\n",
        "- 키-값 조합 형태의 데이터 묶음\n",
        "- 간단한 데이터베이스처럼 사용된다\n",
        "- 항목을 찾을 때 키를 사용한다\n",
        "- 딕셔너리에서 저장된 순서는 의미가 없다\n",
        "- 딕셔너리는 중괄호 {  } 로 만들거나 dict()로 만든다"
      ]
    },
    {
      "cell_type": "code",
      "metadata": {
        "id": "M9BYH2N3fMqs",
        "outputId": "49be4e1c-dfc0-47e6-8df5-c04ccd187213"
      },
      "source": [
        "student = {'grade': 3,'age': 21,'name': \"kim\"  }\n",
        "student['grade']"
      ],
      "execution_count": null,
      "outputs": [
        {
          "output_type": "execute_result",
          "data": {
            "text/plain": [
              "3"
            ]
          },
          "metadata": {
            "tags": []
          },
          "execution_count": 71
        }
      ]
    },
    {
      "cell_type": "code",
      "metadata": {
        "id": "knKE289jfMqv",
        "scrolled": true,
        "outputId": "f67dbaee-fcff-4724-f600-85ee933b3067"
      },
      "source": [
        "print(student.keys())\n",
        "print(student.values())\n",
        "print(student.items()) "
      ],
      "execution_count": null,
      "outputs": [
        {
          "output_type": "stream",
          "text": [
            "dict_keys(['grade', 'age', 'name'])\n",
            "dict_values([3, 21, 'kim'])\n",
            "dict_items([('grade', 3), ('age', 21), ('name', 'kim')])\n"
          ],
          "name": "stdout"
        }
      ]
    },
    {
      "cell_type": "code",
      "metadata": {
        "id": "ShT8ABivfMqz",
        "outputId": "480ab442-8cb2-4f07-a224-631dcdbb5495"
      },
      "source": [
        "# 내용 변경\n",
        "student['age'] = 28\n",
        "student"
      ],
      "execution_count": null,
      "outputs": [
        {
          "output_type": "execute_result",
          "data": {
            "text/plain": [
              "{'grade': 3, 'age': 28, 'name': 'kim'}"
            ]
          },
          "metadata": {
            "tags": []
          },
          "execution_count": 73
        }
      ]
    },
    {
      "cell_type": "code",
      "metadata": {
        "id": "0lZH-WPvGt89",
        "outputId": "4e74ca47-84f5-4dbf-8645-a179cf8b7b5a"
      },
      "source": [
        "# 키:값 항목 추가 (없는 키를 사용하면 항목을 새로만든다)\n",
        "student['address'] = 'Seoul'\n",
        "student"
      ],
      "execution_count": null,
      "outputs": [
        {
          "output_type": "execute_result",
          "data": {
            "text/plain": [
              "{'grade': 3, 'age': 28, 'name': 'kim', 'address': 'Seoul'}"
            ]
          },
          "metadata": {
            "tags": []
          },
          "execution_count": 74
        }
      ]
    },
    {
      "cell_type": "code",
      "metadata": {
        "id": "ESfeqFo3Gt89",
        "outputId": "0765c06f-b866-4bb5-ee31-31bcbd40ad00"
      },
      "source": [
        "d = dict()\n",
        "d"
      ],
      "execution_count": null,
      "outputs": [
        {
          "output_type": "execute_result",
          "data": {
            "text/plain": [
              "{}"
            ]
          },
          "metadata": {
            "tags": []
          },
          "execution_count": 75
        }
      ]
    },
    {
      "cell_type": "code",
      "metadata": {
        "id": "s8JqtoXGGt8-",
        "outputId": "f392c4fe-7e60-487d-a72c-849582e76600"
      },
      "source": [
        "d[\"key1\"] = 10\n",
        "d"
      ],
      "execution_count": null,
      "outputs": [
        {
          "output_type": "execute_result",
          "data": {
            "text/plain": [
              "{'key1': 10}"
            ]
          },
          "metadata": {
            "tags": []
          },
          "execution_count": 76
        }
      ]
    },
    {
      "cell_type": "markdown",
      "metadata": {
        "id": "f82CLgUmGt8-"
      },
      "source": [
        "# 프로그램 흐름"
      ]
    },
    {
      "cell_type": "markdown",
      "metadata": {
        "id": "KoPePw9nGt8-"
      },
      "source": [
        "## if\n",
        "- if 문 다음이 True이면 \":\" 이후 블록을 실행한다\n",
        "- 블록은 들여쓰기가 같은 영역으로 구분한다"
      ]
    },
    {
      "cell_type": "code",
      "metadata": {
        "id": "VLrsr0ktfMrB",
        "scrolled": true,
        "outputId": "a22ddf5d-a7a7-48e5-d45b-db4dc1729a11"
      },
      "source": [
        "x = 11\n",
        "if x > 10:\n",
        "    print(\"x > 10\") \n",
        "    print(\"if 문 뒤에는 반드시 ':'가 있어야 한다\")\n",
        "    print(\"if 문 적용 블록은 들여쓰기로 구분한다\")\n",
        "else:\n",
        "    print(\" x <= 10\")"
      ],
      "execution_count": null,
      "outputs": [
        {
          "output_type": "stream",
          "text": [
            "x > 10\n",
            "if 문 뒤에는 반드시 ':'가 있어야 한다\n",
            "if 문 적용 블록은 들여쓰기로 구분한다\n"
          ],
          "name": "stdout"
        }
      ]
    },
    {
      "cell_type": "markdown",
      "metadata": {
        "id": "SNb3Qo4BGt8_"
      },
      "source": [
        "- else 문은 없어도 된다\n",
        "- elif를 사용하여 다른 조건을 연속하여 검사할 수 있다"
      ]
    },
    {
      "cell_type": "code",
      "metadata": {
        "id": "VyfPvuo6Gt8_",
        "outputId": "19dd95cd-27f2-4b40-9202-1b9b1742d001"
      },
      "source": [
        "x = 70\n",
        "if x > 90:\n",
        "    print(\"매우 높은 점수!\") \n",
        "elif x > 60:\n",
        "    print(\"평균은 넘는 점수!\") \n",
        "else:\n",
        "    print(\"낮은 점수!\")"
      ],
      "execution_count": null,
      "outputs": [
        {
          "output_type": "stream",
          "text": [
            "평균은 넘는 점수!\n"
          ],
          "name": "stdout"
        }
      ]
    },
    {
      "cell_type": "markdown",
      "metadata": {
        "id": "idz0CE7TGt8_"
      },
      "source": [
        "### 조건문에 in 사용"
      ]
    },
    {
      "cell_type": "code",
      "metadata": {
        "id": "Qz1usNsvGt9A",
        "outputId": "929d9146-e462-496c-f840-c2d9d12531d0"
      },
      "source": [
        "y = [1,2,3,4]\n",
        "x = 6\n",
        "x in y"
      ],
      "execution_count": null,
      "outputs": [
        {
          "output_type": "execute_result",
          "data": {
            "text/plain": [
              "False"
            ]
          },
          "metadata": {
            "tags": []
          },
          "execution_count": 79
        }
      ]
    },
    {
      "cell_type": "code",
      "metadata": {
        "id": "1k_pRYRPGt9A",
        "outputId": "3537b8a9-448c-43f2-9c61-b52c5f3daad1"
      },
      "source": [
        "if x in y:\n",
        "    print(\"x가 y에 포함되어 있다\")\n",
        "else:\n",
        "    print(\"x가 y에 포함되어 있지 않다\")"
      ],
      "execution_count": null,
      "outputs": [
        {
          "output_type": "stream",
          "text": [
            "x가 y에 포함되어 있지 않다\n"
          ],
          "name": "stdout"
        }
      ]
    },
    {
      "cell_type": "markdown",
      "metadata": {
        "id": "ObNDPLeHGt9A"
      },
      "source": [
        "## for\n",
        "- 특정 조건이 만족되는 동안 \":\" 이후의 블록을 수행\n",
        "- 수행할 블록은 들여쓰기로 구분한다"
      ]
    },
    {
      "cell_type": "code",
      "metadata": {
        "id": "oxJuiYeSGt9B",
        "outputId": "99053ca5-c59d-4d4a-c6de-aedaf4c0f42e"
      },
      "source": [
        "y = [1,2,3,4]\n",
        "for i in y:\n",
        "    print(i*10)"
      ],
      "execution_count": null,
      "outputs": [
        {
          "output_type": "stream",
          "text": [
            "10\n",
            "20\n",
            "30\n",
            "40\n"
          ],
          "name": "stdout"
        }
      ]
    },
    {
      "cell_type": "markdown",
      "metadata": {
        "id": "3yd_PxGjGt9B"
      },
      "source": [
        "### 리스트 내에서 for 사용하기"
      ]
    },
    {
      "cell_type": "code",
      "metadata": {
        "id": "IO0OIQcRGt9B",
        "outputId": "72b7e1b7-4349-4e8d-a43e-bdfdc2b2e1c5"
      },
      "source": [
        "# 새로운 리스트 생성하기\n",
        "y = [1,2,3,4]\n",
        "[i*100 for i in y]"
      ],
      "execution_count": null,
      "outputs": [
        {
          "output_type": "execute_result",
          "data": {
            "text/plain": [
              "[100, 200, 300, 400]"
            ]
          },
          "metadata": {
            "tags": []
          },
          "execution_count": 82
        }
      ]
    },
    {
      "cell_type": "code",
      "metadata": {
        "id": "CMMpF0R5Gt9B",
        "outputId": "e5503660-9bd6-4de1-ce3d-8a1e603390ff"
      },
      "source": [
        "# 조건에 맞는 문자열을 찾아서 리스트를 만들기\n",
        "target = ['cat001', 'cat002', 'dog003', 'dog004']\n",
        "match = 'cat'\n",
        "matching = [s for s in target if match in s]\n",
        "matching"
      ],
      "execution_count": null,
      "outputs": [
        {
          "output_type": "execute_result",
          "data": {
            "text/plain": [
              "['cat001', 'cat002']"
            ]
          },
          "metadata": {
            "tags": []
          },
          "execution_count": 83
        }
      ]
    },
    {
      "cell_type": "markdown",
      "metadata": {
        "id": "sv20kS-yGt9C"
      },
      "source": [
        "### 특수변수, range\n",
        "- 일정 범위의 정수값을 포함하는 변수를 만들어준다\n",
        "- 날짜의 구간을 지정하는 date_range도 있다"
      ]
    },
    {
      "cell_type": "code",
      "metadata": {
        "id": "oWqpat80fMq7",
        "outputId": "5617803c-c7ec-40a3-a06f-073204c3c7ae"
      },
      "source": [
        "# 0~4 사이의 정수를 포함 : range(5)\n",
        "x = range(5)\n",
        "for i in x:\n",
        "    print(i*10)"
      ],
      "execution_count": null,
      "outputs": [
        {
          "output_type": "stream",
          "text": [
            "0\n",
            "10\n",
            "20\n",
            "30\n",
            "40\n"
          ],
          "name": "stdout"
        }
      ]
    },
    {
      "cell_type": "code",
      "metadata": {
        "id": "qZlFvEk0Gt9C",
        "outputId": "ec8c6d37-9770-42c0-dd3e-997b362922a4"
      },
      "source": [
        "# 1~11 사이의 정수를 2씩 띄어서 포함\n",
        "# 마지막 값은 \"이하\"가 아니라 \"미만\"으로 처리한다\n",
        "x = range(1,11,2)\n",
        "for i in x: print(i*10)"
      ],
      "execution_count": null,
      "outputs": [
        {
          "output_type": "stream",
          "text": [
            "10\n",
            "30\n",
            "50\n",
            "70\n",
            "90\n"
          ],
          "name": "stdout"
        }
      ]
    },
    {
      "cell_type": "code",
      "metadata": {
        "id": "HnyNqFR2fMq-",
        "scrolled": true,
        "outputId": "855d39fb-39f3-41b9-bf2f-9ca5f958ce27"
      },
      "source": [
        "# for와 range를 사용하여 리스트 만들기\n",
        "x = [i*10 for i in range(10)] \n",
        "x"
      ],
      "execution_count": null,
      "outputs": [
        {
          "output_type": "execute_result",
          "data": {
            "text/plain": [
              "[0, 10, 20, 30, 40, 50, 60, 70, 80, 90]"
            ]
          },
          "metadata": {
            "tags": []
          },
          "execution_count": 86
        }
      ]
    },
    {
      "cell_type": "markdown",
      "metadata": {
        "id": "4w9IwHM6Gt9D"
      },
      "source": [
        "### 인덱스와 항목 얻기, enumerate\n",
        "- 리스트 항목의 인덱스 (순서 번호)를 같이 알려준다\n",
        "- enumerate은 두 개의 값을 리턴한다"
      ]
    },
    {
      "cell_type": "code",
      "metadata": {
        "id": "WxRAsik4Gt9D",
        "outputId": "d92e975b-f6f3-489d-8b47-9c4a5a0a8da3"
      },
      "source": [
        "x = [\"kim\", \"park\", \"lee\"]\n",
        "list(enumerate(x))"
      ],
      "execution_count": null,
      "outputs": [
        {
          "output_type": "execute_result",
          "data": {
            "text/plain": [
              "[(0, 'kim'), (1, 'park'), (2, 'lee')]"
            ]
          },
          "metadata": {
            "tags": []
          },
          "execution_count": 87
        }
      ]
    },
    {
      "cell_type": "code",
      "metadata": {
        "scrolled": true,
        "id": "i87D5p-aGt9E",
        "outputId": "1909bacc-20d8-4904-a1bd-a6219c291493"
      },
      "source": [
        "for i, name in enumerate(x):\n",
        "    print(f\"{i} 번째 사람 이름은 {name}입니다\")"
      ],
      "execution_count": null,
      "outputs": [
        {
          "output_type": "stream",
          "text": [
            "0 번째 사람 이름은 kim입니다\n",
            "1 번째 사람 이름은 park입니다\n",
            "2 번째 사람 이름은 lee입니다\n"
          ],
          "name": "stdout"
        }
      ]
    },
    {
      "cell_type": "markdown",
      "metadata": {
        "id": "JPpPKg4mGt9E"
      },
      "source": [
        "## while\n",
        "- 조건이 만족하는 동안 계속 수행"
      ]
    },
    {
      "cell_type": "code",
      "metadata": {
        "id": "9hTZX4K2Gt9E",
        "outputId": "5b4c7d08-f12e-4c09-a839-a813bb9a5fd0"
      },
      "source": [
        "x = 0\n",
        "while x < 5:\n",
        "    print('x =', x)\n",
        "    x = x+1"
      ],
      "execution_count": null,
      "outputs": [
        {
          "output_type": "stream",
          "text": [
            "x = 0\n",
            "x = 1\n",
            "x = 2\n",
            "x = 3\n",
            "x = 4\n"
          ],
          "name": "stdout"
        }
      ]
    },
    {
      "cell_type": "code",
      "metadata": {
        "id": "QEaAV67AGt9F",
        "outputId": "49fb6766-d87a-4203-f2a8-6c5fba06e9aa"
      },
      "source": [
        "# 무한 반복 형태로도 사용된다\n",
        "x = 0\n",
        "while True:\n",
        "    print('x =', x)\n",
        "    x = x+1\n",
        "    if x > 5:\n",
        "        print('Too Big!!')\n",
        "        break"
      ],
      "execution_count": null,
      "outputs": [
        {
          "output_type": "stream",
          "text": [
            "x = 0\n",
            "x = 1\n",
            "x = 2\n",
            "x = 3\n",
            "x = 4\n",
            "x = 5\n",
            "Too Big!!\n"
          ],
          "name": "stdout"
        }
      ]
    },
    {
      "cell_type": "code",
      "metadata": {
        "id": "eaDK43xfGt9G"
      },
      "source": [
        ""
      ],
      "execution_count": null,
      "outputs": []
    }
  ]
}